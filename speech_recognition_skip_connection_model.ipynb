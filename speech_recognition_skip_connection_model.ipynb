{
 "metadata": {
  "language_info": {
   "codemirror_mode": {
    "name": "ipython",
    "version": 3
   },
   "file_extension": ".py",
   "mimetype": "text/x-python",
   "name": "python",
   "nbconvert_exporter": "python",
   "pygments_lexer": "ipython3",
   "version": "3.7.9-final"
  },
  "orig_nbformat": 2,
  "kernelspec": {
   "name": "python3",
   "display_name": "Python 3",
   "language": "python"
  }
 },
 "nbformat": 4,
 "nbformat_minor": 2,
 "cells": [
  {
   "source": [
    "<br>\n",
    "\n",
    "## Skip-Connection model 추가\n",
    "\n",
    "<br>"
   ],
   "cell_type": "markdown",
   "metadata": {}
  },
  {
   "source": [
    "__Skip-Connection model 구현__ <br>\n",
    "\n",
    "이전 스텝에서 우리는 Conv1D 기반의 간단한 분류 모델을 구현해서 학습 및 테스트를 진행해 보았습니다. 간단한 모델임에도 정확도가 나쁘지 않았을 것입니다. <br><br>\n",
    "\n",
    "하지만 여러분들은 이미지처리 모델을 다루면서 ResNet 등 skip-connection을 활용한 모델들이 훨씬 안정적으로 높은 성능을 낼 수 있음을 배워왔을 것입니다. 그렇다면 이번 음성처리 모델에 적용해도 비슷한 개선 효과를 낼 수 있지 않을까요? <br><br>\n",
    "\n",
    "기존의 모델을 skip-connection이 추가된 모델로 변경해 학습을 진행해보겠습니다.<br><br>\n",
    "\n",
    "<img src=\"/home/ssac29/Desktop/Week04_01_Explorations_speech_recognition/skip-connection.max-800x600.png\"> <br>\n",
    "\n",
    "그림에서 보듯이 위쪽의 데이터가 레이어를 뛰어넘어 레이어를 통과한 값에 더해주는 형식으로 구현됨을 확인할 수 있습니다. Concat을 이용한 방식으로 구현하면 됩니다.\n",
    "\n",
    "tf.concat([#layer output tensor, layer output tensor#], axis=#)\n",
    "\n",
    "우리가 사용하는 데이터가 1차원 audio 데이터이기 때문에 1차원 데이터를 처리하는 모델을 구성해보겠습니다.\n",
    "모델 구성만 달라졌을 뿐, 그 외 Task구성이나 데이터셋 구성, 훈련 과정은 동일합니다.\n",
    "\n",
    "<br>"
   ],
   "cell_type": "markdown",
   "metadata": {}
  },
  {
   "source": [
    "<br>\n",
    "\n",
    "### 음성데이터 추가\n",
    "\n",
    "<br>"
   ],
   "cell_type": "markdown",
   "metadata": {}
  },
  {
   "cell_type": "code",
   "execution_count": 1,
   "metadata": {},
   "outputs": [
    {
     "output_type": "stream",
     "name": "stdout",
     "text": [
      "✅\n"
     ]
    }
   ],
   "source": [
    "\"\"\"\n",
    "데이터 준비\n",
    "$ wget https://aiffelstaticdev.blob.core.windows.net/dataset/speech_wav_8000.npz\n",
    "\"\"\"\n",
    "\n",
    "\"\"\"\n",
    "1000 Hz 신호를 저장한 wav 파일입니다.\n",
    "Sample rate 는 48000 Hz, 즉 1초 재생하는데 필요한 Sample 수는 48000개입니다.\n",
    "모든 샘플은 -1 ~ 1 사이의 정해진 bits per sample의 값으로 표현됩니다.\n",
    "\"\"\"\n",
    "\n",
    "import numpy as np\n",
    "import os\n",
    "\n",
    "data_path = os.getenv(\"HOME\")+'/aiffel/speech_recognition/data/speech_wav_8000.npz'\n",
    "speech_data = np.load(data_path)\n",
    "\n",
    "print(\"✅\")"
   ]
  },
  {
   "cell_type": "code",
   "execution_count": 2,
   "metadata": {},
   "outputs": [
    {
     "output_type": "stream",
     "name": "stdout",
     "text": [
      "Wave data shape :  (50620, 8000)\nLabel data shape :  (50620, 1)\n✅\n"
     ]
    }
   ],
   "source": [
    "print(\"Wave data shape : \", speech_data[\"wav_vals\"].shape)\n",
    "print(\"Label data shape : \", speech_data[\"label_vals\"].shape)\n",
    "print(\"✅\")"
   ]
  },
  {
   "cell_type": "code",
   "execution_count": 3,
   "metadata": {},
   "outputs": [
    {
     "output_type": "stream",
     "name": "stdout",
     "text": [
      "rand num :  6186\n",
      "Wave data shape :  (8000,)\n",
      "label :  ['left']\n"
     ]
    },
    {
     "output_type": "execute_result",
     "data": {
      "text/plain": [
       "<IPython.lib.display.Audio object>"
      ],
      "text/html": "\n                <audio  controls=\"controls\" >\n                    <source src=\"data:audio/wav;base64,UklGRqQ+AABXQVZFZm10IBAAAAABAAEAQB8AAIA+AAACABAAZGF0YYA+AAB8/zL/Mf86/1L/NP89/zf/Nf8U/xH/Ff8J/wH/BP8E/wL/9v75/v3+5/7t/tz+zf7L/tb+2P7G/r7+wP60/rb+sv6v/sL+sf62/r/+v/61/rf+rP6h/rj+mf6S/qj+oP6W/pj+oP6M/oz+lP6I/nP+nf7p/q7+mP6n/pH+mP6H/m/+dP52/lv+kv6r/oH+b/5h/lr+RP5O/mb+bf5x/mz+a/5y/oj+o/6X/pD+kv6F/pL+m/6m/r7+u/6z/rr+2v7R/sH+1P6+/qD+o/6d/qn+rv6u/sj+uf7D/sf+wv7C/sb+wv7C/tj+zP7E/r/+uv67/sj+yP7R/sD+uv7X/tD+1f7f/s/+0P7N/rz+0f7E/rT+rv62/sD+w/7S/sb+0f7c/tP+0P7h/tL+0P7J/s3+5f7S/ur+6P7t/t7+y/7m/tv+z/7P/tf+1P7e/tb+3v7k/tT+xv6+/qf+oP63/rL+yf7K/sH+v/7Q/tD+zf7X/u7+Bf/8/hj/Ev8K/+v+Dv/4/pL+4f7x/u3++P7q/gD/CP8W/wb/Dv8H/+T++v4b/yj/L/8s/zj/Tf9A/zr/PP8z/0X/Tf9M/2T/XP9F/1H/TP9L/0r/Pv83/zn/SP9I/zr/Nf83/z//Tf9M/1X/S/8//z7/Qv9B/0X/UP9W/1f/Uf9O/0X/V/9E/0T/Wf9z/3r/dP+X/3f/gv+R/3P/gP9+/3f/Wf9S/2f/Wf9p/3T/Xf9o/2n/bP9x/1r/Wv9Y/2T/ev9+/4L/gv92/2v/bf9l/3L/df9z/3r/iv+T/43/jv+E/37/gf+C/3r/kv+p/3b/V/97/33/ef+C/6T/oP99/4n/gP9n/3L/hP+P/5H/l/+a/4n/l/+X/6n/sf/N/63/vP/s/5//wv/M/6n/sv+j/6b/mv+j/6D/rv/t/+f/0P+5/7n/tP+a/43/kP+F/57/o/+Y/5b/n/+w/6P/wv/A/7D/pf+s/53/nf+i/53/nv+N/6T/uv/Q/8H/qv+0/7//rP+n/6L/mf+c/5b/k/+V/5T/ev91/3f/g/+G/4j/f/+H/57/hv+W/4n/if+l/5T/kv+B/3b/gv94/4f/ef93/4b/Sv9X/2n/Z/9R/0P/UP8//zT/Kf8y/y//Lf8M//H+BP8H/xn/Ff8X/xX/A/8P///+A//8/uH+2f7i/un+0/7g/u3+4v7d/t7+6P7x/vH+6v7v/tf+4v7z/v3+9/7E/s/+v/7B/sP+sf68/rX+q/6q/m7+Zf6I/pP+nP6D/qf+ov56/ov+pv5o/l7+ev57/ln+Yf6c/o7+of6f/qD+rP6x/qz+rP6X/on+nf53/mr+bf54/nj+Vv5W/lr+Rv5X/lj+Tf5b/lL+Wf5M/jX+Kv4y/hn+/P0H/h7+FP4O/hv+GP4Q/vP9AP4N/gb+AP4H/gT+9P0H/hT+Cv4N/un93f3c/dX99v3m/dv96P33/eP98v39/fD9Av7l/fP9+f3l/fT96P3I/b79xv3O/eb93P3p/ff97f37/f79/f35/fP9+P3//Qz+Lv4a/gP+Cv7w/QP+DP4F/vX92P32/QD++v30/fT9C/4G/h/+J/4R/iL+H/4f/kP+T/5V/k/+QP49/kL+k/52/lf+ZP5K/k/+U/5O/j/+Vv5c/qn+vf6G/oj+eP5o/mP+Yv5u/nX+j/6M/oH+l/6M/nT+d/6J/mr+f/6S/p3+rv6V/rf+uf60/uD+8f7s/vP+9/71/u/+6P7n/g3/G//6/vr+//73/g7/Ef8D/wb/A/8K/wH/EP8f/yD/JP8k/0P/Rf9G/1n/Wv9n/1z/X/9r/1//Pv9E/13/Vv85/0z/Xf9U/1n/Uv9j/0//Vv9n/2T/Xv9x/2P/X/9l/2z/gP98/5r/kf+F/3//nP+T/3P/e/9g/1L/W/9i/17/Yf9g/3P/bf9h/2P/b/9z/3n/bv9c/23/V/9o/4D/if+U/5n/f/+H/4b/iv9z/4P/d/83/3r/cv+H/4D/gf+q/5T/n/+Y/6P/jf9L/2H/jP+X/5r/p/+Z/5T/sv+z/5z/l/+V/5H/lf+Q/6P/l/+Q/5r/nf+U/3X/gP+G/2j/bv9x/2r/dv94/3L/W/9k/1n/Qf9L/2L/dP9i/4f/gf9y/4X/fv+K/3X/a/9o/0n/KP8x/zj/K/8u/x3/JP8m/yb/K/80/zf/IP8q/zb/Nf8t/x//Hf8o/yX/HP8V/yb/G/8K/zr/Qv8j/y7/Pv9F/0H/KP8c/zT/Mf8r/zL/Of9J/0P/Uv9G/0T/Vf9N/0z/Uf86/zv/R/8+/zj/P/9T/0b/QP8//1D/Of9L/2H/UP9y/17/Xf9O/2r/cP9d/2L/Y/9f/4H/yv+V/5r/ov+W/6L/ev9a/1j/ZP9c/1b/nP+U/3j/b/9d/2f/Yv9t/27/cP9Q/1L/Y/9X/1r/Y/9r/2v/bv9n/1v/ZP9o/23/Zv9i/3j/bv9i/27/a/9o/1//eP+Y/4b/jP+f/5X/of+e/5r/mv+g/6f/mP+U/5H/kP+O/5f/iv+F/4n/jP+E/5T/kv+U/6X/lf+Y/5r/ov+Y/53/h/96/2L/Sv9Y/0b/Vf9g/0r/O/9T/2H/c/+C/2v/X/9e/1r/WP9g/2D/V/9q/3T/Zv9t/3L/cP+E/3L/Sf9o/23/Y/9R/1L/eP9//4D/d/92/2H/Zv9y/0z/RP9N/0n/Tv88/zf/RP88/0z/Qf84/0n/ZP8y/y3/Xf9S/1n/UP9b/2X/Zf90/5n/bf9b/4r/kP+d/5b/nv+O/7X/2f+w/7H/uf+z/7r/0/+5/7L/of+4/77/qP+0/7f/wP+n/7r/sP+o/7b/t/+y/7P/v/+j/5r/iv+b/7T/tv/B/8v/wf+l/63/rv+z/6//s/+v/8L/y//k/9P/tf/G/6D/pP+r/57/l/+K/43/kP+H/5n/oP+T/4r/qv+k/57/t/+t/5//kP+b/5r/mf+n/7D/mf+c/5X/o/+5/5X/j/+a/6f/m/+k/5P/hf+N/4P/h/+D/4//n/+M/4T/lv+d/6n/vP/K/77/0//k/87/xf/C/6r/wf/F/8L/3f/0//j/7P/b/93/0f/W/ykAAQDn/+j/5//f/8b/0P/V/+X/zf/r/+b/yP/E/63/vf/G/9P/yf/e/+H/yf/S/9f/1//D/87/zv/U/9X/xv/S/8H/v//Y/9P/3f/o//X/9f/s/9z/2//p/93/1f/W/9X/y//k/97/2v/O/8r/yf/I/8r/x//i/8n/2P/i/9b/xP+2/83/1P/T/9v/3v/T/9D/zP/E/7v/w//T/8n/yv/i/8r/vf/e/+D/4f/v/+r/7v/8/93/4v/e/9r/AADy/9n/3f/Y/83/z//U/8D/qv+p/6f/pP+z/73/sf+q/6T/p//B/8D/rv+d/4n/lP+T/5D/tP+7/6n/m/+H/5j/hP+I/4z/k/+O/4v/hf+E/1P/Fv9X/1n/S/9g/2z/dP+O/5P/rv+i/4//Uv9a/6H/mP+o/7b/sf+L/47/lv+l/6L/p/+3/6n/kv+F/5r/k/+r/9H/2P/L/6j/mv+7/9T/5P/v/+X/3P/N/8f/xP/R/9D/3P/p/97/5P/U/9f/2P/s/w0AGQA/ADgAIgAXAA0AHABBAEgAQgBCAFQASQBLAGwAaACOAKYAnwCQAIwAhgCZAL0A0ADnAAUBFAEGAe4A6AD2ACIBPQFLAWQBUAFNAVcBXAFXAW4BfgGSAaIBiQGZAbwB2wHeAcIBzAHwAfMBAAIKAhgCKQIxAjsCRgJUAlICVgJ0AokCogK7ArACtALBAtwC4wLtAvIC9gL5Av0C3gISA5UDcgNaA1EDSgNwA3EDcANPA1sDbANwA7oDqAOlA6sDfgOFA5oDrwOMA3IDkwOkA6EDnwO2A70DmAN8A3IDeAODA6YDqgOKA20DagOHA34DXwNiA2MDWwN0A0YDJgM3A0cDOwMNAwgDBwMRA/kC3ALgAuUC2wLUAswCvwKnApEChwJ3AnICgQJ1AlYCSAJIAkkCOwJBAj8CKQILAu8B/QH2AdkBzQG4AawBiAF8AWABUgFoAUwBOwEiAQIB6gDkAO4A2gDZALkApgCbAHwAWwAwAC4AEgAHAAsA6P/M/7//nf+b/4j/gv99/0H/Of8b/+3+2f7d/tL+wf6Y/n7+cv5R/kb+HP4b/gX+7f3c/fr9s/2T/dT9nP2C/W39hP2K/Wf9Sv04/QH99PwL/d780PzN/K38sPyt/Iz8hvyD/GL8XPxW/D/8QfxC/DP8BPwB/AP87vvf+7j7m/uQ+4j7eft2+2H7Pfsb+/H69/oN+x77/vr8+v76+Prn+sz6vPqm+rP6qfqy+qX6v/qz+pr6i/qJ+pL6bfqJ+nn6YPo/+lz6VfpR+nn6X/pY+mL6fPpx+nr6cvp2+m36YPp0+nD6k/qw+qT6rvq7+rD6wPqq+qX6wvrn+gv7FvsS+/z6Dvsj+zH7NPtO+1n7X/tv+5T7kfub+637n/u6+8D74PvW++z7Dfwh/Ef8U/xb/H38kPye/Kz8rfzS/OP85PwI/SH9Lf1t/UD9Tf1t/Xf9mv2l/bL9of3F/bv9+v0V/vj9BP4e/jj+Pf5d/nD+hP6Z/q3+tf7V/u7+DP8O/yz/Uf9E/1r/bP9t/1r/i/+k/63/2//l//z/FAAZADMAWAB8AKQAvADfAPYADwEsATEBOAFEAU4BaAGJAYoBqAHAAb8BzgHPAfYBBQIWAh8CQAJzAnkChgKbAr4CwQLPAvACBwMVAygDLwM7A1kDgAORA5ADrQOsA7IDpwOhA5sDogOoA7QD1wPNA9wD7wP0Aw0ELgRIBG4EawR2BKUEyATDBMcEzQS9BLoEogSqBKIEnASYBIsEgASDBJEEqASfBIkEoASxBOMEBQUBBRQFHAU8BUoFWAVYBRoFNwU5BQ0FDQUABeYEvgSuBIYEfgRqBBIEMgRWBFMERARZBHgEgQSjBMIE3AT0BB8FLQU+BV4FUQUhBRIFCgXaBIAEMgTtA4wDVQMbA+MC3gLPArsCvgLQAt4CDANDA5YD/wNABI4EzQT7BD4FagV1BVIFFAWkBBAEVwODAsAB6ABQAPP/sP+P/47/k/+t/+z/NgCwAE0BMAIhAysEVQV/BrgHzwjECSYKigmHB1sErABl/Vj7efqs+kj7v/u/+3H7D/v/+lT7afy8/XT/bwGMA7gF7gd+CgANYQ80DpAKGwR1/vL6p/k1+0D8Cf2W+/z5EfhI92j3mPeZ92D30feT+cn8xgDnBG0IPgt7DdQPTQ+1DAgGKQCU+8j4kvka+k37Q/om+b72Y/UZ9Vz0QvTC82j0gPWY+GD83wD1BHgIiwv6Dv0Qlg8IC2QDb/0f+PD2W/eD+PH4Y/dg9bbyD/J68fPxJfJs8irznvT398f7tgDcBOgIfAykEDISMxCoCrgCivwK9wL2BvZJ99f2NPWT8vjvYe9I75HwM/Hi8ajyPPR59zb7aQCnBDoJ4wyHEU4U8RIuDi8FLP7x9uH0YvSm9a313vMc8b3t/OwS7ePuXPBi8UPyZfN49k/6n/98BAMJag2aEaMWiBbpE6YKMAIa+Qn0OfPS8xL2G/V59EHxmPBT8Fry5/OM9OryGvDC7TXt5u8L9aX7NAH3BasIGgzmD40XZBwTHiIXrQoj/Xbwn+sU6ontoO6C7iXr/+dB5znpIe7J8r32a/jE+fT6v/3BAdAGlAoiDxkS1hdqGkMarRRsCmoASvXe8KDtdu95753vLe1O6kzp6+jj6wfu8fG/86P2VvlZ/SUC9gZwC9oOjhLgFtkc3h5aHXcUkAhB+7Tw9usw68vtKu6H7WXpsOaj5WLoXO3r8oP30fmF+yn9rQAqBdIKJA/JE34XkB2CIBwgkxn9DVYBifQx7ibrXe227q7vxO3/6lzpo+nl7GbwhvSQ9ob4Bvoa/VQBrQaiC1YQEhUhGpQhuSQ5JJgbwg4BAIjzIu0e67Ltue4S7/rrn+mJ6IvqfO7y8jn2r/ee+Oj5B/2cAQMHIwx5EMUUJRpoIRUnwydbIWYU5QQM9r/tiOqE7Ifu5O5A7LDo3+a75+zr3fA69W/3cviE+ff7RwC8BYwL0RC8FYYboSL2KdYrsCcMG/cKiPq67m/pEulr6+jryeo65yblU+UL6TDuK/Nb9uP32/gb+2z/gQUeDAsSYhfTHJMj0SoXLsMqYh95Du789e5f6Ebnkemh6ovpBOby4pXihuUG66nwxPT09g34RPoO/gsE0wolEf8WiBxiI8Eq8i/yLZskiRM4ATjxIeiw5QHnvuig55/kx+D23yjit+du7fbxXvST9Yj3XPu4ARQJEBDZFfYaSiHGKDYwxTGuK3kcvwj/9croquOn41TmCeaQ4zvfo9yC3XfiF+n87o/y5fMN9WL46/18BQwNxhMaGRMfDydmL740ZTGkJT8RifxF677i5uDZ4hnk9+Go3YXZktlk3cLkUevF70bxUvJM9TL7PwOJC5YSCBjrHI8kSi0fNjM3gS5+GxcEoO+R4tTfPeIY56fnVeUw4GzdYN0B4UjlgOja6Zzp8eo97gn15fuHA4QIwQ7XFXgizDBGPxxFyDy/KFALm/J04Nrbidxo4KHfytpz1LjQO9SV29zl8et772fvKfGf9Rr9UgWODPoRQhZrHeAn2TSrQGZCeDcsIBIErezq3rHcoN9f4wTi+9yn1jXU8tZN3YDjpOaI51PoYOxg9Gv9WQYYDF0QORYTHxQudT1JSp1JfDsUIMABDepD3SHcrN5t4W/eldk11AXUH9ib3vrjTOZY5wfpRO+Q+KsBRwmlDbgSHBtUJ9U3qUdiUjdO8jveHTX+oOaB2knZ29vq3Ufbftdm1ILVOtra38jj5+R/5vfpgPKg/NAFmwx0EcUYLiNUMyxF0VQHWjZPdjW7EozzPt+H2N3Z1NzB3EnZydXR1E7Yst314W3jjeOs5WXsg/gYAw4L1w9LFVUfgy7/QVpTFGB8XWRKFypoBdbpkdoO2JvZ/NqJ2RvWkNQt1pHbK+Bt44LjkOSn6P7yOf/KCI4QhRWwHw8tKkFUVIVkLmhrWZY6qRFR8JHaqdTP1BzYJti/1YLUJNUS2jrebeFD4Wvisub88FH/swltEiQXPiDqLgZDw1hdaSxwHWHEQhwYFPPf2g3RKtIr1CvVytGJ0bfTpdnK3v3gR+C238vjye4q/t8JsRJIFwkhtjDiRnhe+2+CdrNj8UCBEbXpK9LiyfPM6c4F0cXP6tJM187dBOGK35fc8ts64kHwnv8UCggRvhXgIg42RFCjZw95V3oOYcA3zQO/3fvHocOyx2PLc89A0abXo9zM4bngHtxR10zYkeE+87ABOQtyETIasyxLQyVfanEefy1yc1DXHtTsRc2dvUPBX8TTzMjR49hN31jiquHH2oTUv9EA2FflA/b1/t0HLw8kIJE2q1APakJ5/3/BZS47xgEZ1GK8Y7buwDfI7tJn2CLgOuNw4UzbxM/Ay1fOttjN67v4AQJ9CioW+SzvRD1iIHP9fyN2FE8gHOfgssF6tqzBT8v60aLZjtyo5BzhUdjGzTTJ7M9z3LDtLPwbAu4JKhPEKcU/T1hAaeZw3nSpSeoJhcCznJ+pOseh6Xj4ZAeTCuz/mOAMtvegUqSmv07a7uzg/6cJFBLAGL4i+TUyR7dXWFsPXrJLIhGq0DOkO6wAzrLtzP+QCIsPAAIV3RCtFZV1orfAUdvy5+L1BAtgEngVpBM9JUhAHVEDWAxRYFJrKLnlNq1onmHEMudmAVMKQhB2CpHkyLKakAyb5LxR14HmjfHnCSQTSAz7CTcYYzu0Sm9N90kLUlhHagCDufOXnbiu5dr4gwN2DPwUafanuZeO05JAvA7WiOGb6hkDTxelCGIClg6XNqVLN0lgRdZOzFc8G4PHs5nDrWDk4vd8AA0O7BtyBUrBKY93j5654dZR3I/ns/2jFAoILPdHBgApIkizRWFFrkziYAJBiOAIob2dQ9QH9Ff8aA+WI4cZTtbSlFqIvautz8bax+Ye/QINKQYq8Nb6FSBIQARFxD02SxJdYVlzDhm6Z6LAvbrnUvJrBzcjUSc39tysL43BnifBMdKR4RL5NAoQCE339/KZEIQvHUJ6QPxGP1faX1pA4uNrqhuoOtQn8u//PxzYLMMW88yzk8aQErQb0MPeDPNVBuUFSvlv7t7/VSGMORxCBURxUudaOFsYJLnNIqm2toDiC/f+DUMpUCsR/022gJQynV2//dXr6jwAcQdx/xfzXvNBCFclizqmQ/RJClO6YJFXlBcbxsKnmcCx6PP/axZCMXEmqu/ErHuU/qc2xlHdjvEhBAkCTPTg8Bj3axJTKnE760KASzBWRl0NUFYTWM20qmDBuurqBx0eti5pIbfsXbAnllinSshA4t/2aQOe/8H0+fP/+IUONykZOmhE2UpsUZZkRFdBHL3IrqTqwOrm9AquH1Y54iS67ISplJEPpuzHTOiq/KAJ9vsY7FPsCPecCr4m/ztDR6dIvk0qWYlbsChs1KypTr1v5tsCrBwjNzQtxPIisDqWVaTBwQPecfmACXL/l+qL6Bb1BwIUHDIyxkMQROlHMlVRYe5EG/BstHSxBtdr+rsQ1y3gMSMKAccCmoCcV7iG1w/yeAa+AZjsr+Bt7nP6WA/eKWc7bkHaP01Hh1sLWyYgQNFsqse7MOSBBw8jWTeyIy3slK0SlU2gvcLO5W4A3QYM9r/kE+Sm8gv6DBjvL9Y9vTsoPWZM6F97UTgFr7/7rZnLFe/VCaUogjYtFn3W75/wlzSrQM5d7hUFtQEK7FrdJuSj8uD6bRu5Ms48vjO1NzpJdF17TQQGnMjTsJTHY+oWDGwopjJ+E/LWOKI1lGKratGb8lEGmgBB7eDZtN/Y7mX9oxx9MGY4Gy2wNk1JaV5fUEIOh848sRTCuuU/DNYpmzRMFz3eXKdPlRWnEM4y8qQEOwH9647bTtkf7c73hxWsKa4wzi1TKBlGr1ZZXisv0ukcuMuxpdW1+4wfljT1K4z3D7oQl5Wf4sEG6AoBIAbi8m/eX9HI4uT3PwhqJigswzA8Iakx2k1/X3VU9A9P2Pi07b5v3ZsJnSyCM2gTyNoXrnmdRbJr1+n4YgfQ/QTokNcX2GnxowFQHfkpgSznJuUp7zwXU0VlwDY9/c+/87ItzbP00x+gMk4v7f0Lxd6caqK0xCnqZgU6Clf5CN/j0RnhsvroDAwiEi07KAsi8TCgRrVjD1/nJpLkzbYntsjT5Ai7L2Y/8iOY6wi2MZnpq37Q3/kvDHEGzO7M1p/RkOWEAwcUAyaVJB4nECAALfBOKmAHYRslRuhBuLa0MttsB/EyRj29IzDsELdAoKqthNTd+/4OLQcd7vPX3s7G5G0CpBTTI7AiQCFIHjcr8EebZUpoMzBt8v+8ebGKzBMAWjIMQOosKvdWw3uhCqZhzYv3eRGdCt/y9dorz5nd/P3ZFNogJyLDHEAd4SLdQm1eUWz+SEgBnsT+rznGt/J/KFs/XDksCjbRgKh5oC3BD+rkCZ8PXvtn4xbQgdWq7gALeBgVH2Uc4hV+GKMw1lQYbV9obCfV4TWzTbOv0ZkISDnYRccqNu0nvrmhIKsR0tT7bBMJCBrtAdemzTvbXfkYFqQc6R5DGN0Schd5NH1ZFWt4WMcUOt6rtdCwNdkiEtA9KT2uGhjpZboUoQGthtk6AtsN0AH87JLYos+B20v8vRZzGjEboRNzECgZvzjcWDNwT07RByLVxq1punPfFBqOQU87MBOq2u2zAaO1s6vfGQV4EUn/B+Qd0unNCd4u/oQXRBrJGOMHUAnEFkA0GVtEbQNU4BJD1IynIrCS20QXmj02PFccieRAsxmd1K1s2mIAeQ8aAxfq8NO8yQra3/m8ExIZRxafDQIIuQy8LXFP+m1XY9kWbtmErPWvtM9tAhs6vEWoKT/tGrvvn9ijN8mC9F0Q7gwX85Hbwcoj0PHorAvcFokYEhDFB7gOUiAvSsxilmTNKGvrS7i7pWjIRvU4Lhs+KS+dAXfKsacHn7y9POroBjkO0fvx56vSBszY3Zz96xJBF+oV4Qr4DQkZMDvFVrJlXkbyAPPHTqfMvOToERszOEM5xxlm4ueyep8vsqvY0vqNDIoHovMd3JDMAdWg7goLgRONF6cRVg0iEc0jQkmaYkZfqSSh54m2Ta7ZyQX4zy39P5IyNAAezPeq9aStv4zoUAl+ErwBueuX1QPRTN5b+QsRQBiIF+8O3w2+FvkzTk40aFFQggzX1FSyPb+03J4LhjPqPtkmnO/CxGWu7LDGyrLsnAobEHn/relo2GDXI+Ry/GMNuxabF0MRDBOTGVw21VFAYa5CSAc11m63HcU9334PATP5N8YfpuzAxkiwHbSE0eDy1Q41DkX+Meo62dXZAuUD/88QsBegFmgS8hD3HHA1500IW04+wwmn2JPFnMyf3nkIbyYaMtAbV+8N00C8TrynzfnpAwi+C/D/6+2t4JPgGuYS+JUJPBUvGpESNhQlGnAyLEYWUB1FvBLw8v3TMc0p2yH2ER7yKdQdn/6U4DzMVb8qxzThv/xJCqkCjPQL6f3hVOLf75oAgBJ/FkkShg95EeQfgjPxRRxQb0CIFWTyXNx62KbgG/ozGWUmxBkJ/QPiXM4ayCfPKeYU/YoHMwLu89LomeKn5q3zGwJ/EPgU6BG6C5INphhYJGYvAzNhNuAxjx2q/67KI7Ww2dwHji3LLX4elw2C6dHEP7Gjx2Lzkwz5Eb4GZ/yq7HzZw9gA66YC5A2CDSAMugnVAWgBxwwdIVUvJTCwJ4UjvR59DvwBgwCTAX3+hAMOBT8MvA1iAGb5zu2q6Zvsou509gb7G/2u+4n1mfQ39wP9UAOjBeYHKgc0BQIHFAc/DckUYxouIAMeZBwZGKkXOBRxEmwPsAkWDoELMg1sCosFJQm0BEIAsvtC+Ov8u/wB/mX+6P2cAZD/3/6sABwEtwqhCrcJagnUBzcMLwznDyoVkBcXHFAaPhoEGHoVcxgSFqwXMhcoFD8THAyOC6gLDgwwDdkKnQujCI8FCgZCBUsHvQd2ByQJZggRCScJVgm+DJcNzg6nDgUNmA74DD0O4A5/EE0SSxF8ElwR/RCeEOoOFg+JDxQOPgtwCigLZQpmCdUIJwopCwgLUwo/CagHyQcACOIJswvSC+ALhAoBCdIGGgcdCRYJMwrDCn0ILwnsB6MHogfsBrcHDQm5CFYGKQW+A/UDIwTHBkQGygSyBv0FPQTFAoIB+gBIApAC7gPQAmYDugMFA3QDyAK9BEcDWwMTA88CygLgA8UDJwQeA+wCFwKJAXgCvAFPAy8ChAPvAggEHQJ9A0wDNAPXA6kC/gVhBCYEEQT3A3ME5QRHBPADbAVfBDwDbwKUA68DuAIRB0YEXQS3BN8CpgMIBEoFHwPtA9IEgQQFA00CdwQMA3oA3gPGAxIE2wPhBagEbgFeAwsC7gFXBCgE4wVeBjECegT9AWYCpALcBaoCiAYvBfIB3QZ0BPMEyQEHBiYBSQNRAWMB6ALFAWoC9ADkBYYD9QCqAKwCZAEVAhoDdADNA04Bq/6iA3MBxAEo/7QBgALS/tkD3gGnAHMD4AG3AgQC0wHSAkkAkADmAP3/OwFiBE8CdQBD/3sAF//DAAcCVABJAvf/sAFw/78ATgNdAYsD4QHSAN8Ahf9AAdsBBAG4Ab0C1QBPAJEBLwBfAL4ArwHv/hD/2v+1/zYDVgF9AqEBOwBOARQCFAIlAhcD9wGhAnsCOgMtBA8EUARaBCICsgIAAwYE3wNSBFgEVAOJBO8CUgOCAsICywNdBDcDWwNDA54D3QLMAoQDjQNvBBcCUANNAz0B/AFAAj0CZAICAuMCGgMJBHUEpAN/A+EDZQIbAikC2wKmA9wCxQJsArgDHQPYAboDkgOkAjYD3QG6AnIDhANrA1ED7AP4AiQBBgFkAqgCDwECAvMCggJtApgBzAJzAuICHQKYAmQDCgMpAscAzAEqAU8CpgEtAqQCOQD9AEAB4gJQAaABswINAokC2gCWAgcBNQLIAgYCFwKoAMoBOwKBARsCHQKT/9UAZwH6AUQBLgJnAjABegLzAHgAPgJPAeD/Zv9kAEYBbgDVATYBzACkAKUAHAHS/7P+8/7y/xQAif9M/+T9//2P/vb+Qf9+/0wAGgAFAHn/kv+Y/97/N/7Z/ov97/6l/xz+zwBRAM//wv3O/rD/r/4J/xL/9P4R/q/+dP9C/+P/av/1/3AArv74/77/vf+QAMj/vwCaAJn/i//c/xb/Tv4nAIQBKP9OAI0AaABcARIA5gDY/zYAuv8u/0H+m/7+/8L/qQCp/2YA9f9t/3v/kf+i/5v+Tf/3/jn/UP8Y/87/hP9v/1cAfADw/ywBZgARAGcBmwE0AQQBNwFoAVoBIQFfAvUBfwFuAlcCWAKOAhMCfwL8AgoD9QK1At8CSwMeA7QCYwIGAxECKgIpA3MDlQNlArcC7gIGAx0DswIUBKECswFtAyUA9ATgA9ABWQNUAuMEgwFbA9oD6wGFAvcCPwOcA6EDNQMHAdgCrwO/A0AEpQL4BL4CJwO9A8EDxAQuBeIDaQQBA1ADXgMZAy4G3gSbBTAD9gIQAooEnANoA4sFywMEBsQCZgPEBW8D3QQ0BkgHSwUkBMwF/QRoBfoDtAY4BtkEaQbOBLAGgghMBnoFXwV2BlwIIwUMBr4GjASjBVAFQQfYB9kHjAegB2kJ7QZcCB8IYgePCMEIuwiJCD0I0Aa9B0oGJAamBqoIkQkpCPsGUAZdBoUGlgm3B1YJwwfVBNQHJAZ2CKIHKwe9CKcHeQaiCNIHTwW+B2IHfAnoCIsHhwjQCQUIuQd/B2YGEwaFBOEI9AghCiIK+QawCMkEfgkkCVEFkgnnCLMHXAaHCEwJMwgnB+wEoQYCCJsD8gRtCKQHgQe5B2IGbAX8BVQHFgWgBpMHMAaCBvMH8QcoB/EIhwdyCGoH4QY2BpgGQAfvB1IFvgUCBUYEqgWPA4IFQQUZB4IEFAYgBTcDPwYhBOIDIQSEBFUDMANTA9oBQAEWAYYBigGGAL4AbABaAL8APQADAHYABQCI/6f/D/86/w3/EP///p3+iv5K/t/9Fv4c/on92/2f/WX9ev02/SP9CP3J/Kv8yvyF/Hr8cPx4/J38Yfw+/Cv8CPzo+8j7svvV+9v70fun+7v7rPuM+5v7lfuF+2z7mvts+2X7nvtW+4T7k/tB+1H7ZvtD+2X7iPtA+z/7Bvv6+h/7Dfsj+xj75fpP+z779Po4+wn7/foa+yH79/ra+uH68vpW+1T7Ivsh++P63vrn+g777voM+z77Sfs3+x/7QPsw+2L7Zvt4+4P7ffuE+7X7nPu9+977wvsF/N372/vo+/T7Efwi/C/8LPw2/DP8MfwT/C/8TvxB/Dr8O/w+/Gn8gvxs/J38dPxW/Gf8fvyd/KH8q/yy/Lf81vzh/AT9//z7/BL98vwZ/R39N/03/Vv9Y/2S/ZX9ff2h/Y79uP26/cr90v3P/c79y/3L/er95P3j/fX9+P0e/h/+K/4X/hj+Lf5B/kz+L/5C/kD+WP5r/mT+YP5e/mL+aP6J/pz+lv6j/rL+p/62/r7+yv62/tD+yf7g/tL+6P4A/6/++v7+/iz/OP8d/0T/Wv9t/2X/a/9d/zb/Vv9t/3D/jv+P/5b/mv/T/8X/y//T/8D/yf/K/8D/rf+n/5n/qf+o/6r/nf+m/7v/uP+t/5z/qf+5/7b/wP/U/+D/0v/L/7r/sP++/7j/0//h/8z/yf/f/8n/vv+n/5L/wf/D/8H/vv+5/7f/uP+j/6f/p/+c/6v/lf+n/9P/7//C/7P/pf+K/5H/ov+o/7//uv+k/8L/tP+4/7D/s//I/9r/0f/Z/+z/2//K/83/1f/U/87/yv/b/9H/0v/b/+f/y//Q/+f/6P/1/+n/1v/J/+b/7//w/wcABADv//D/CQABAAEAHAAxACMAIwAvAEIARAAzACYARQBwADQAOQBFACoANQAyADkAQgBCAEIAPQB4AIEAXwBdADQASgBdAFUAaABfAG8ATAA+AEIANQA6ADoAVABGAEcATQBPACIAJQBWAFkAYwBjAGUAYgBtAHMAbQBUAEYAPgA2AEYAXQBpAF4AUwA8ACsAOQBNAFIARgAxAEsARwBEAEgAPQBNADQALgAvACkAFQAYAB4ACgD1/wIAHAAXAAwABwD8/+//8//A/8L/3f/l/+L/yf/O/7L/mP+c/57/q/+o/53/hv91/3n/av9W/0X/Tv9J/zr/N/8Y/wH/B/8I/w3/M/8k/w//Ef/r/uP+5v7x/uH+3/7X/tH+yf6d/pr+k/6h/qb+nv59/m/+af5z/h7+Lf55/l7+Wf5B/lf+Wv5t/mn+dP48/ij+U/48/jb+Nf4t/ib+QP47/iT+Gv4G/vz93/3f/fL93/3u/db93/3g/eT95f3M/d79yv3P/bT9qv2t/az9nP25/Zz9mv2F/X39lf16/Xz9Sv1y/WH9gf0w/WD9LP1f/S/9cP0c/WD9AP08/fz83PyX/Nz7nft179n0Kf47+6T9tv0E+/f6BPyX+1771PoB/FT79/qZ+gH8Z/tv+sv7jfvQ+6X7DfvA/M/7hPrB/K/7vvs4+7X7NPwP+6L7lfv6+zX7lfu8+zP7bftI+5X60voZ9Kzz5vjW94z63/ju9R70//Xm+Wb5oPkT+ZT4APnI9iH4MPj890j48/f191L4pfiO+QH7nfoc/Sb7ZP3/+IP29/j99/73Fvnu+0/4f/oZ+rr53/oN+ln88vsl+8H8FP4h/X/9G/8i/y3+1/4I/wT+Ffze/U/95/oV/N361voe+u/5e/qi+uf7lvux+yv8OPxb/af8Dv07/bP80P0M/Fz+UP5O/b//W/9k/6n/+P4F/y//mP70/zgALwCf/yr/CADN/4L/ygDa/scAKAHeAVkDHQGkApEBpgD7AJcA8f+6AZcB1QLmAukCXwMlAtoC9AK7AcACpQLQAY0CTgI9A2MC3AOKBDcDVQJXAwYDAwLxAAQBzQEeAgoCeQJJAqABtQFfAP8BWwE4AeUBEQKFAaACKgJhAvACVgGGA+gCpAL6ArcBBANzAf0A6wJJAscEWwQ4BLwFuASQA2ED4gNlBKgDGgQSBfoDiQPVBLcEFAUdBSEDRgSYBEkEbwN+A8wDiQNNA0oEawaZBh8GOgdZB3QGagZKB1YGcQUJBsoFhwZ2BisGRgaKBo8E8gSaBccE0gWOBZAEHQQCBVoGYgZUB10HBQc7BiIFIgXaBFkENAQRBgMF8wV+BJoEOQOfAkIFOATTBBAEtgUxBWcDkgMcBToD5wNNBbEEoATYA5wEzwLKA3wEZAPsBI8EwwSFBN8D9APoA94EgARzBEcDBAMaA3MDXgOWAsIBLAIMAqoCigOrAYYB1ABbALn/JgCLAacAZgDEAAYA4QCJAecCqwPLAUoCAAP9ACUA6f/0/wMBNQAWAdwAUQF/AQABpAJNAhYCewB0AGwCCQJ3ASECsQGTAOwAVgG1ASoC+wA9ArIByQH1AUACGwPwAYMCrgH8AQMANwFVAe8A2gGTAccCPAEjAGn/Z/8M/9n+X/9N/93+4f/iALgAHgBpAMoA2f+b/4r/ZP+V/s/++/1o/cL9B/3l/Jn8Yv2a/aP9YP1k/cT9vf3U/Qf9Bv3N/Cz8K/xa/Or8UP2S/Sz9U/w0/OD7uvsO/NP78vtW/Lb7ofts+zT7I/uO+4P7LPsO/Bj8a/wE/P37i/xG/N/8dP2Q/Vz9vfzZ/Mb7Rfs6+wH7U/sD+x78tfxW/ML7fPxT/an9V/2D/fD8c/xh/bT9Ef4X/tj+rP6U/nz+XP/V/5H/sP6O/nH+lP2X/vf+Jf+2/tz+/f7y/sb/TgCgAE0AmQCLAHv/u/92/77/MQDY/ykAqQD0AMkA9wDGAFUATwBDAK3/fP+a/8n/FQAfAE0AJwC9/6n/zv9f/yv/P/9b//r+nv4C/87+Lv+j/87/CAA5AEQARACWAIsAWQBGAEIAMQA4AFcAUgDx/9n/xf9j/6n/6P+8/7D/0P8HACwAEACt/7z/IQATAN3/8P+i/8X//v80AG0ADAAuACMA7f/Y/wUAZgBwAI0AoACaAJoAswCqAJYArwDrADoBJgHjALoAygDNAB0BhwGcARsCDwLYAd4BmgFjAQIBDwH8AMoAwADNAKsAXgBZAF8AowC0ACABXQEsASkB9ADtAMsACgFnATgBAQH6ANwAsQDDAOsA7QDFAL4A4AAIAaoA1gBWAWsBTwF4AUEBlQBHAOT/MQD6/+P/QwAfAAwA2P8rACsAOwCGAM8A5QBuAGsAKgDl/5D/c//F/9//yv/j/xIA7f/Y/9//3v+8/3H/f/9v/yT/OP9J/yb/2v7a/v/+A//e/uH+GP/m/r3+pP6G/oP+OP4i/hn+Cv4S/gL++/3+/Q7+N/5h/jf+F/4H/uD9xv2l/ar9pf2H/X79jP2O/W79e/2H/aT9r/2v/aj9mP2s/Zr9uf3r/Q3+IP4R/un99/0T/hz+Vv71/eP9Of5I/mH+Wf5n/l3+Rv5C/if+FP7I/cX9/v39/Q7+B/4E/uT9u/2D/ZH9kP2A/YX9mf2i/X/9bP1M/Vv9VP15/ZP9of2n/aP9m/2A/U/9P/1t/Xv9cP1F/RH97fze/Ln8tfy4/MX8wPzU/OH8Cv0e/Rj9Tf01/S79+/zg/Nr82Pzu/Bb9I/0d/V79eP1x/Wv9Yv1Y/Uf9Qv1a/V79Qf09/UD9Jv0g/Rv9M/1B/Uj9Sf06/UX9U/1Z/XX9fv16/Yr9mf2O/Y39kP1v/Xj9jf2o/cP93/35/QL+7f3s/en99f0Q/iD+F/4K/vz95v3Q/c796/3z/Q/+CP4J/uf99/0W/v39FP4S/g/+Hv4k/hL+c/6V/l/+hP6K/pH+jP6Z/pP+oP64/qH+5/4W/wn/6v7X/tT+5P7t/tj+8P7y/uj+4v7T/sP+xP7P/uP+2f7A/q3+rP7N/t7+Af/6/vH+Gf8i/w3/Hf8o/yj/Nv8q/xn/Gv83/z7/Pf9Y/3b/lP+c/6H/p/+z/8X/yP/W/+T///8SAPv/BgAbADAAIQDz/+//6v+4/6z/uP+s/7D/lv+I/5f/sP+u/7r/x//C/8v/zP/Y/93/9//2/+//AwDx/wEAFgAZAB0AJQAuADMAQQBDAGkAaQBdAFMAXAB4AHQAdwCAAJMAmQCWAI4AiwCMAJ0AhgB8AIYAeABxAIYAiACUAJMAkQCdAIYAhQB7AHgAlwBaAAQASgBKAD4AYQBzAH8AZwBvAIEAWQBRAHsAlgCWAI4AmwCjAJkAfQB8AH0AdAB3AGwAZABTAFsArwCXAO8AIgHbAO4A1gDBAIgAjgCCACoAKQAUAAMAIwA+AHgAoQDKAMAAwQDGALsA1AAUARkBBwEWAecA6gDGALAAogCsAJwAbwBrAEgAUABOAFYAWABfAGQAaQBWAHUAgQBxAJkAhgB8AGgAbwBhAFoAZABDAEUAKwAQAAwA8P/n/+H/4f/s/8n/2P/3/+H/2v/a/8j/yv/G/7X/3P/W/8H/xv/D/77/nv+S/4r/bv+C/4j/d/95/3f/cv97/4H/df9e/2j/a/9B/0L/NP8S/w//Ef8d/13/Jv8G/wj/5/77/s3+xP7K/sL+wf7n/vD+yf7D/q/+qP6N/nv+oP6W/oT+Zv5V/nT+cf5g/lL+NP4x/kX+Pf5F/kj+Mv4//j/+H/4d/g3+Fv4c/hv+Jf4n/iP+Df4D/gf+//0D/g7+A/4F/gL++f3d/cn9y/25/bP9xP2+/a/9sv2p/X/9i/2P/XX9gP2S/Yn9ff2F/Yj9oP2e/Yz9ef1h/Vf9Vv1m/V79Yf1v/Wr9cP1h/V79Tv1E/Tr9O/1C/Tj9O/01/UL9Rf07/T/9PP0k/Sn9Nf1d/W/9e/1//VD9bP15/Wb9dv11/X79cv1f/Vv9bP18/W39j/2e/Zf9pf1+/Xj9kf2a/bL9sf3b/Zb9dv2t/Z39s/2g/Zr9tP24/cj9vP3K/cf9rv3C/dL94v3o/en96/3//RP+I/4k/iT+Gv4e/ir+Lf4k/iX+Pf5L/kv+T/5V/lf+b/5s/mX+Vv5S/l3+Y/5q/n3+gP5s/n/+j/5//oj+e/5y/mz+Uv56/pH+j/6m/q3+rv6g/pj+of6n/p3+pP6j/qj+nv6D/qL+pv6r/rX+xP7H/sH+vv7H/tj+xP7g/tP+1v7b/tj+2P7J/tf+1P7h/tn+0P7P/tv+2/7n/uX+2/7W/tj+4v7Z/tD+1P7X/sP+zv7M/sr+u/69/uD+5/7b/tr+4f7i/uf+zv7a/uP+4/7s/vf+9P7V/tz+3P7a/u7+8P7y/vb+2v42/0f///4G/wb/DP/+/gD/AP/1/u/+0/77/hn/Cv/x/s7+yf7E/r7+rf6z/qb+vf60/rr+zv7C/sv+uf7E/sD+wv6u/p3+nf6t/rP+m/6Z/on+i/6h/p3+qv62/qH+of6b/n3+hP6K/n/+fv5y/m3+eP6T/pb+gv52/oj+ef6G/oj+W/5Y/lr+av5X/kP+R/5T/k3+V/5X/k/+Uf5M/k3+Q/5I/j7+Qf5O/lb+Rv45/jb+N/42/if+JP4O/hn+K/46/jX+IP4Q/hf+Iv4U/vj91/3k/dT92/3w/ef97/32/fD9yf24/br9x/3P/br9xP21/Z/9qv2S/YT9g/18/Yr9rf2l/Yn9k/1//Z/9f/2b/YP9Uf2n/Zb9oP2i/aH9iv18/X/9ev1j/WP9df1u/Xv9cf1//X39hv2c/bH9r/2n/aH9jv2W/ZX9fP18/ZX9hP2B/Zn9ov2h/ZH9i/2d/Z/9lP2k/aL9kv2U/Yb9kv2j/aT9qf2q/ZL9kP2Q/Yn9n/2t/bT9mf2n/a/9lf2U/Zr9nf2Y/Y39kP2Y/Zr9lP2c/aX9nv2j/aL9xf27/bT9rf2w/cH9s/3S/dL92v3M/cv95f3j/eL96P3Z/cD92f3k/er97P0E/h/+Dv4A/vv9FP4c/hD+H/4p/if+Kv4r/g3+Kv4//j3+Qv4+/kb+Uv5A/kb+U/5I/kn+Q/5f/m/+eP5h/nr+dP6J/nT+YP53/m/+wv6b/n/+ff59/oL+gv5t/mH+hP5z/sH+6/69/rn+rv6n/qT+of6m/pv+pf6X/pz+qP6q/sX+x/7F/rz+uv6t/pn+s/6v/qX+uf6k/rn+uf64/s/+yv7S/rz+u/65/sX+w/6p/sX+vv65/rj+nf6c/rL+sP6v/qT+m/62/rz+yP6//tX+8P77/tf+4/70/sj+2f7m/u/+2P7c/un+7v7q/tn+5P7l/un+7/4D/wf/6/7r/un+4/71/hL/Ef/8/v7+Df8U/xv/Gf8G/xD/Df8E/wD/8P7w/gT/Bv/4/vX+Af8V/xT/Df8i/xb/B/8N/xr/Ff8f/yf/D/8G/wb/Gv8a/yL/HP8c/x3/Of8o/zL/9v7u/kX/Lv9A/yn/JP8//0v/Qv80/0f/MP/o/gz/H/9E/0n/Lv9Y/1z/Yv9j/2L/Vf9b/2H/bv+D/3f/Yv9k/3z/iv96/3b/cP90/4L/fP+S/5z/lf+L/5H/oP+H/4P/ov+4/5L/iv+F/5T/pf+V/6z/pP+Z/33/iP+O/4n/fv9w/4b/k/+T/3f/gP+S/6H/r/+4/7f/x/++/6n/wP+3/6L/sv+u/5L/pf+v/6X/nv+n/67/oP+Q/5v/rP/E/6r/q/+v/53/qv+4/9H/wf/P/7T/pf+o/6z/sP+x/6j/iP+Y/5//mP+c/6n/lv+a/6P/lv+A/4v/of+c/7L/nf+T/6T/pP+f/5j/qv+K/4T/lf+J/9P/xv+d/6T/nP+q/5H/gP+A/4P/lf97/4//mf9t/2n/Vv9Z/0H/K/9F/2L/Xf9W/0f/Sv9b/0H/Jv8m/zT/Nf8m/xP/Hf8w/xH/Cv8R/xb/I/8E/wT/+v4S/zD/J/8N/wn/Iv8n/yP/Ff8T/xD/Cv8T/yX/E/8F/wX/+f4G//7+9P4F//D+8v4L/w3/+v7o/un+zv7e/uz+9f79/vb+Bf/6/gP//v7+/uL+2P7Y/r3+1f7H/sT+uf6//sH+sP6u/rX+tf6Z/qb+pf6r/rD+pv6m/qP+l/6H/oX+k/6Y/o/+jf6F/oD+kf6Q/oz+lv5//pr+mP55/nr+d/55/nz+g/53/n/+fP56/or+kP56/rP+kP47/n3+if6M/pD+qv7E/sL+tv7B/qf+gP6d/qD+sf6//sb+vv7a/tr+y/7r/u/+8P7k/vL++P7n/vD+DP8G//T+C/8b/xj///72/gP/Hf8d/xv/Iv8T/yH/PP81/yX/LP8u/zT/K/86/zT/Kf8p/zP/S/8u/z//Of9A/z3/Qf9G/yz/RP9j/3b/cP98/3H/Z/93/37/lv+e/5v/p/+e/6z/sv+0/83/1//k/+j/4P/s/wAA+f/9/w4AEAAdABIAEgAlAC0AOABIAE4AQgA/AEIAVQBdAHMAdgBtAGMAXQBtAHEAhQCQAKMAgwCBALcAtgC5ALwA1ADVANkA8wDoAP0AEAH7AO4A9QAfAQEBCQFaATcBMgE4AToBPAEtATYBLwEpAQkBQAFnAUcBQwE+AUMBKQEYASEBKAEnASkBHAEjASYBKwE2ATsBMQEfAScBIgE2AUkBRwFcAWcBaAFpAV0BXgFUAWMBVwFLAVUBRQFHATkBNgEzATIBQAFKAVoBWQFQAVQBTwFPAVkBTQFEAUIBQAE6ATMBNgEyAS4BHwEiATUBGgEHAf4ACwEXAfMA4gDeANkA2gDUAMwAwADLANcAywDKAMEAqQCgAJQAlACkAJ0AoQCcAJQAfQCKAIAAXgBSAEEAVgBSAE8AWABNADgAGgADAAAABAAVAAQA7f/h/97/y/+w/6b/qf+r/5//ov+h/5r/hf98/4b/kv9G/zX/YP9N/2P/af9j/1D/O/89/zv/S/8u/xT/LP85/03/PP8s/zH/Nv8o/yr/NP8O/+/+5v7c/ub+0P60/rb+pf69/qv+k/6o/pn+kv6l/qL+lf6A/nL+af5P/lL+Sv5d/k/+Pv5a/kL+T/46/iz+L/40/i7+Mf4v/gX+Fv7//f397/3x/fn97f39/f39+P3w/fH9+f36/fv9BP4L/hT+G/4T/vT9F/4a/vn9Bf71/ez97f3j/fP9//30/fP98v3v/dD90v34/er99v3x/QL+EP7u/Q/+AP4N/iL+Lv5B/jL+NP4y/kn+Ov4//kX+SP5f/mj+ev56/oL+hf6T/pP+iv6T/pr+jP6V/pL+k/6y/q7+Df/2/qv+y/60/qr+pf66/sL+t/7K/sv+8P71/tH+zP67/r7+u/6+/sz+zP7P/sT+x/7Y/uP+7/73/gL/BP///gn/C/8O/xv/Gf8T/xX/I/8Q/yz/L/84/0z/Rv9D/yf/\" type=\"audio/wav\" />\n                    Your browser does not support the audio element.\n                </audio>\n              "
     },
     "metadata": {},
     "execution_count": 3
    }
   ],
   "source": [
    "import IPython.display as ipd\n",
    "import random\n",
    "\n",
    "# 데이터 선택 (랜덤하게 선택하고 있으니, 여러번 실행해 보세요)\n",
    "rand = random.randint(0, len(speech_data[\"wav_vals\"]))\n",
    "print(\"rand num : \", rand)\n",
    "\n",
    "sr = 8000 # 1초동안 재생되는 샘플의 갯수\n",
    "data = speech_data[\"wav_vals\"][rand]\n",
    "print(\"Wave data shape : \", data.shape)\n",
    "print(\"label : \", speech_data[\"label_vals\"][rand])\n",
    "\n",
    "ipd.Audio(data, rate=sr)"
   ]
  },
  {
   "source": [
    "<br>\n",
    "\n",
    "### Label data 처리\n",
    "\n",
    "<br>"
   ],
   "cell_type": "markdown",
   "metadata": {}
  },
  {
   "cell_type": "code",
   "execution_count": 4,
   "metadata": {},
   "outputs": [
    {
     "output_type": "stream",
     "name": "stdout",
     "text": [
      "LABEL :  ['yes', 'no', 'up', 'down', 'left', 'right', 'on', 'off', 'stop', 'go', 'unknown', 'silence']\nIndexed LABEL :  {'yes': 0, 'no': 1, 'up': 2, 'down': 3, 'left': 4, 'right': 5, 'on': 6, 'off': 7, 'stop': 8, 'go': 9, 'unknown': 10, 'silence': 11}\n"
     ]
    }
   ],
   "source": [
    "\"\"\"\n",
    "단어의 정답은 Text 형태로 이뤄져있습니다.\n",
    "학습을 위해서는 Text 데이터를 학습가능한 형태로 만들어줘야 합니다.\n",
    "\"\"\"\n",
    "\n",
    "target_list = ['yes', 'no', 'up', 'down', 'left', 'right', 'on', 'off', 'stop', 'go']\n",
    "\n",
    "label_value = target_list\n",
    "label_value.append('unknown')\n",
    "label_value.append('silence')\n",
    "\n",
    "print('LABEL : ', label_value)\n",
    "\n",
    "\n",
    "# Text 데이터를 index 데이터로 변환 (key:value 쌍으로)\n",
    "new_label_value = dict()\n",
    "for i, l in enumerate(label_value):\n",
    "    new_label_value[l] = i\n",
    "label_value = new_label_value\n",
    "\n",
    "print('Indexed LABEL : ', new_label_value)"
   ]
  },
  {
   "cell_type": "code",
   "execution_count": 5,
   "metadata": {},
   "outputs": [
    {
     "output_type": "execute_result",
     "data": {
      "text/plain": [
       "array([ 3,  3,  3, ..., 11, 11, 11])"
      ]
     },
     "metadata": {},
     "execution_count": 5
    }
   ],
   "source": [
    "temp = []\n",
    "for v in speech_data[\"label_vals\"]:\n",
    "    temp.append(label_value[v[0]])\n",
    "label_data = np.array(temp)\n",
    "\n",
    "label_data"
   ]
  },
  {
   "source": [
    "<br>\n",
    "\n",
    "### Train / Test 데이터셋 분리\n",
    "\n",
    "<br>"
   ],
   "cell_type": "markdown",
   "metadata": {}
  },
  {
   "cell_type": "code",
   "execution_count": 6,
   "metadata": {},
   "outputs": [
    {
     "output_type": "stream",
     "name": "stdout",
     "text": [
      "[[ 5.4731366e-04  7.5171079e-04  1.0559810e-03 ...  2.1606358e-03\n   1.7610751e-03  1.8236063e-03]\n [ 1.4966820e-02  2.2673117e-02  2.0714819e-02 ... -4.2262454e-02\n  -3.8528603e-02 -4.1409113e-02]\n [-2.5055409e-05 -6.8646710e-05 -1.1580982e-05 ...  4.0040519e-05\n   5.9828639e-05  6.5188076e-05]\n ...\n [ 3.2764883e-03  4.7400338e-03  5.2481779e-04 ...  2.6043120e-03\n   2.0563852e-03 -2.3497529e-03]\n [ 4.0450101e-03  6.2486054e-03  2.4253535e-03 ...  5.5210264e-03\n   2.3371039e-03  3.5357790e-04]\n [ 3.3020594e-03  5.2962475e-03  3.3845913e-04 ...  2.3406672e-03\n   1.3487448e-03 -2.1896281e-03]]\n✅\n"
     ]
    }
   ],
   "source": [
    "\"\"\"\n",
    "sklearn으로 train셋과 test셋 분리\n",
    "\"\"\"\n",
    "\n",
    "from sklearn.model_selection import train_test_split\n",
    "\n",
    "sr = 8000\n",
    "train_wav, test_wav, train_label, test_label = train_test_split(speech_data[\"wav_vals\"], \n",
    "                                                                label_data, \n",
    "                                                                test_size=0.1,\n",
    "                                                                shuffle=True)\n",
    "print(train_wav)\n",
    "\n",
    "train_wav = train_wav.reshape([-1, sr, 1]) # add channel for CNN\n",
    "test_wav = test_wav.reshape([-1, sr, 1])\n",
    "print(\"✅\")"
   ]
  },
  {
   "cell_type": "code",
   "execution_count": 7,
   "metadata": {},
   "outputs": [
    {
     "output_type": "stream",
     "name": "stdout",
     "text": [
      "train data :  (45558, 8000, 1)\ntrain labels :  (45558,)\ntest data :  (5062, 8000, 1)\ntest labels :  (5062,)\n✅\n"
     ]
    }
   ],
   "source": [
    "print(\"train data : \", train_wav.shape)\n",
    "print(\"train labels : \", train_label.shape)\n",
    "print(\"test data : \", test_wav.shape)\n",
    "print(\"test labels : \", test_label.shape)\n",
    "print(\"✅\")"
   ]
  },
  {
   "source": [
    "<br>\n",
    "\n",
    "### 하이퍼파라미터 세팅\n",
    "\n",
    "<br>"
   ],
   "cell_type": "markdown",
   "metadata": {}
  },
  {
   "cell_type": "code",
   "execution_count": 8,
   "metadata": {},
   "outputs": [
    {
     "output_type": "execute_result",
     "data": {
      "text/plain": [
       "'/home/ssac29/aiffel/speech_recognition/models/wav'"
      ]
     },
     "metadata": {},
     "execution_count": 8
    }
   ],
   "source": [
    "\"\"\"\n",
    "학습을 위한 하이퍼파라미터 설정\n",
    "모델 체크포인트 저장을 위한 경로 설정\n",
    "( 이후에 모델 체크포인트 Callback 함수를 설정하거나 모델을 불러올 때 사용 )\n",
    "\"\"\"\n",
    "\n",
    "batch_size = 32                     # batch_size=32, max_epochs=10으로 세팅한 경우라면 30분 가량 소요\n",
    "max_epochs = 10\n",
    "\n",
    "# the save point\n",
    "checkpoint_dir = os.getenv('HOME')+'/aiffel/speech_recognition/models/wav_skip'\n",
    "\n",
    "checkpoint_dir"
   ]
  },
  {
   "source": [
    "<br>\n",
    "\n",
    "### 데이터 전처리\n",
    "\n",
    "<br>"
   ],
   "cell_type": "markdown",
   "metadata": {}
  },
  {
   "source": [
    "tf.data.Dataset을 이용해서 데이터셋을 구성하겠습니다. Tensorflow에 포함된 이 데이터셋 관리 패키지는 데이터셋 전처리, 배치처리 등을 쉽게 할 수 있도록 해 줍니다. 자주 사용하게 되니 사용법을 잘 익혀 둡시다.\n",
    "\n",
    "tf.data.Dataset.from_tensor_slices 함수에 return 받길 원하는 데이터를 튜플 (data, label) 형태로 넣어서 사용할 수 있습니다.\n",
    "\n",
    "map 함수는 dataset이 데이터를 불러올때마다 동작시킬 데이터 전처리 함수를 매핑해 주는 역할을 합니다. 첫번째 map 함수는 from_tensor_slice 에 입력한 튜플 형태로 데이터를 받으며 return 값으로 어떤 데이터를 반환할지 결정합니다.\n",
    "map 함수는 중첩해서 사용이 가능합니다.\n",
    "\n",
    "<br>"
   ],
   "cell_type": "markdown",
   "metadata": {}
  },
  {
   "cell_type": "code",
   "execution_count": 9,
   "metadata": {},
   "outputs": [
    {
     "output_type": "stream",
     "name": "stdout",
     "text": [
      "✅\n"
     ]
    }
   ],
   "source": [
    "\"\"\"\n",
    "데이터 전처리 함수 작성 ( map 함수에 넘겨주기 위해 )\n",
    "\"\"\"\n",
    "\n",
    "def one_hot_label(wav, label):\n",
    "    label = tf.one_hot(label, depth=12)\n",
    "    return wav, label\n",
    "print(\"✅\")"
   ]
  },
  {
   "cell_type": "code",
   "execution_count": 10,
   "metadata": {},
   "outputs": [
    {
     "output_type": "stream",
     "name": "stdout",
     "text": [
      "<BatchDataset shapes: ((None, 8000, 1), (None, 12)), types: (tf.float32, tf.float32)>\n<BatchDataset shapes: ((None, 8000, 1), (None, 12)), types: (tf.float32, tf.float32)>\n✅\n"
     ]
    }
   ],
   "source": [
    "\"\"\"\n",
    "tf.data.Dataset 함수를 구성\n",
    "\"\"\"\n",
    "\n",
    "\n",
    "import tensorflow as tf\n",
    "\n",
    "# for train\n",
    "train_dataset = tf.data.Dataset.from_tensor_slices((train_wav, train_label))\n",
    "train_dataset = train_dataset.map(one_hot_label)\n",
    "train_dataset = train_dataset.repeat().batch(batch_size=batch_size)\n",
    "                                            # batch()는 dataset에서 제공하는 튜플 형태의 데이터를 얼마나 가져올지 결정하는 함수\n",
    "print(train_dataset)\n",
    "\n",
    "# for test\n",
    "test_dataset = tf.data.Dataset.from_tensor_slices((test_wav, test_label))\n",
    "test_dataset = test_dataset.map(one_hot_label)\n",
    "test_dataset = test_dataset.batch(batch_size=batch_size)\n",
    "print(test_dataset)\n",
    "print(\"✅\")"
   ]
  },
  {
   "source": [
    "<br>\n",
    "\n",
    "### Model construction &ensp; : Skip-Connection 모델 구현\n",
    "\n",
    "<br>"
   ],
   "cell_type": "markdown",
   "metadata": {}
  },
  {
   "cell_type": "code",
   "execution_count": 11,
   "metadata": {},
   "outputs": [
    {
     "output_type": "stream",
     "name": "stdout",
     "text": [
      "Model: \"model\"\n__________________________________________________________________________________________________\nLayer (type)                    Output Shape         Param #     Connected to                     \n==================================================================================================\ninput_1 (InputLayer)            [(None, 8000, 1)]    0                                            \n__________________________________________________________________________________________________\nconv1d (Conv1D)                 (None, 8000, 32)     320         input_1[0][0]                    \n__________________________________________________________________________________________________\nconv1d_1 (Conv1D)               (None, 8000, 32)     9248        conv1d[0][0]                     \n__________________________________________________________________________________________________\nmax_pooling1d (MaxPooling1D)    (None, 4000, 32)     0           conv1d_1[0][0]                   \n__________________________________________________________________________________________________\nconv1d_2 (Conv1D)               (None, 4000, 64)     18496       max_pooling1d[0][0]              \n__________________________________________________________________________________________________\nconv1d_3 (Conv1D)               (None, 4000, 64)     36928       conv1d_2[0][0]                   \n__________________________________________________________________________________________________\ntf_op_layer_concat (TensorFlowO [(None, 4000, 96)]   0           conv1d_3[0][0]                   \n                                                                 max_pooling1d[0][0]              \n__________________________________________________________________________________________________\nmax_pooling1d_1 (MaxPooling1D)  (None, 2000, 96)     0           tf_op_layer_concat[0][0]         \n__________________________________________________________________________________________________\nconv1d_4 (Conv1D)               (None, 2000, 128)    110720      max_pooling1d_1[0][0]            \n__________________________________________________________________________________________________\nconv1d_5 (Conv1D)               (None, 2000, 128)    147584      conv1d_4[0][0]                   \n__________________________________________________________________________________________________\nconv1d_6 (Conv1D)               (None, 2000, 128)    147584      conv1d_5[0][0]                   \n__________________________________________________________________________________________________\ntf_op_layer_concat_1 (TensorFlo [(None, 2000, 224)]  0           conv1d_6[0][0]                   \n                                                                 max_pooling1d_1[0][0]            \n__________________________________________________________________________________________________\nmax_pooling1d_2 (MaxPooling1D)  (None, 1000, 224)    0           tf_op_layer_concat_1[0][0]       \n__________________________________________________________________________________________________\nconv1d_7 (Conv1D)               (None, 1000, 256)    516352      max_pooling1d_2[0][0]            \n__________________________________________________________________________________________________\nconv1d_8 (Conv1D)               (None, 1000, 256)    590080      conv1d_7[0][0]                   \n__________________________________________________________________________________________________\nconv1d_9 (Conv1D)               (None, 1000, 256)    590080      conv1d_8[0][0]                   \n__________________________________________________________________________________________________\ntf_op_layer_concat_2 (TensorFlo [(None, 1000, 480)]  0           conv1d_9[0][0]                   \n                                                                 max_pooling1d_2[0][0]            \n__________________________________________________________________________________________________\nmax_pooling1d_3 (MaxPooling1D)  (None, 500, 480)     0           tf_op_layer_concat_2[0][0]       \n__________________________________________________________________________________________________\ndropout (Dropout)               (None, 500, 480)     0           max_pooling1d_3[0][0]            \n__________________________________________________________________________________________________\nflatten (Flatten)               (None, 240000)       0           dropout[0][0]                    \n__________________________________________________________________________________________________\ndense (Dense)                   (None, 256)          61440256    flatten[0][0]                    \n__________________________________________________________________________________________________\nbatch_normalization (BatchNorma (None, 256)          1024        dense[0][0]                      \n__________________________________________________________________________________________________\nactivation (Activation)         (None, 256)          0           batch_normalization[0][0]        \n__________________________________________________________________________________________________\ndense_1 (Dense)                 (None, 12)           3084        activation[0][0]                 \n==================================================================================================\nTotal params: 63,611,756\nTrainable params: 63,611,244\nNon-trainable params: 512\n__________________________________________________________________________________________________\n"
     ]
    }
   ],
   "source": [
    "\"\"\"\n",
    "Model\n",
    "Audio 데이터는 1차원 데이터이기 때문에 데이터 형식에 맞도록 모델을 구성\n",
    "Conv1D layer를 이용해서 모델을 구성\n",
    "Conv, batch norm, dropout, dense layer 등을 이용해 모델을 구성\n",
    "tf.concat을 이용하여 skid-connection layer를 추가한 새로운 모델 생성\n",
    "\"\"\"\n",
    "\n",
    "from tensorflow.keras import layers\n",
    "\n",
    "input_tensor = layers.Input(shape=(sr, 1))      # input data로 1차원 binary 데이터의 (sp, 1)\n",
    "\n",
    "x = layers.Conv1D(32, 9, padding='same', activation='relu')(input_tensor)\n",
    "x = layers.Conv1D(32, 9, padding='same', activation='relu')(x)\n",
    "skip_1 = layers.MaxPool1D()(x)\n",
    "\n",
    "x = layers.Conv1D(64, 9, padding='same', activation='relu')(skip_1)\n",
    "x = layers.Conv1D(64, 9, padding='same', activation='relu')(x)\n",
    "x = tf.concat([x, skip_1], -1)\n",
    "skip_2 = layers.MaxPool1D()(x)\n",
    "\n",
    "x = layers.Conv1D(128, 9, padding='same', activation='relu')(skip_2)\n",
    "x = layers.Conv1D(128, 9, padding='same', activation='relu')(x)\n",
    "x = layers.Conv1D(128, 9, padding='same', activation='relu')(x)\n",
    "x = tf.concat([x, skip_2], -1)\n",
    "skip_3 = layers.MaxPool1D()(x)\n",
    "\n",
    "x = layers.Conv1D(256, 9, padding='same', activation='relu')(skip_3)\n",
    "x = layers.Conv1D(256, 9, padding='same', activation='relu')(x)\n",
    "x = layers.Conv1D(256, 9, padding='same', activation='relu')(x)\n",
    "x = tf.concat([x, skip_3], -1)\n",
    "x = layers.MaxPool1D()(x)\n",
    "x = layers.Dropout(0.3)(x)\n",
    "\n",
    "x = layers.Flatten()(x)\n",
    "x = layers.Dense(256)(x)\n",
    "x = layers.BatchNormalization()(x)\n",
    "x = layers.Activation('relu')(x)\n",
    "\n",
    "output_tensor = layers.Dense(12)(x)\n",
    "\n",
    "model_wav_skip = tf.keras.Model(input_tensor, output_tensor)\n",
    "\n",
    "model_wav_skip.summary()"
   ]
  },
  {
   "cell_type": "code",
   "execution_count": 12,
   "metadata": {},
   "outputs": [
    {
     "output_type": "stream",
     "name": "stdout",
     "text": [
      "✅\n"
     ]
    }
   ],
   "source": [
    "optimizer=tf.keras.optimizers.Adam(1e-4)\n",
    "model_wav_skip.compile(loss=tf.keras.losses.CategoricalCrossentropy(from_logits=True),\n",
    "             optimizer=optimizer,\n",
    "             metrics=['accuracy'])\n",
    "print(\"✅\")"
   ]
  },
  {
   "source": [
    "<br>\n",
    "\n",
    "Callback 구성\n",
    "\n",
    "<br>"
   ],
   "cell_type": "markdown",
   "metadata": {}
  },
  {
   "cell_type": "code",
   "execution_count": 13,
   "metadata": {},
   "outputs": [
    {
     "output_type": "stream",
     "name": "stdout",
     "text": [
      "✅\n"
     ]
    }
   ],
   "source": [
    "\"\"\"\n",
    "Model Checkpoint callback은 \n",
    "모델을 학습을 진행하며, fit 함수내 다양한 인자를 지정해 모니터하며 동작하게 설정할 수 있습니다.\n",
    "현재 모델은 validation loss를 모니터하며, loss가 낮아지면 모델 파라미터를 저장하도록 구성되어 있습니다.\n",
    "\"\"\"\n",
    "\n",
    "# 하이퍼파라미터 세팅의 checkpoint_dir 사용\n",
    "\n",
    "cp_callback = tf.keras.callbacks.ModelCheckpoint(checkpoint_dir,\n",
    "                                                 save_weights_only=True,\n",
    "                                                 monitor='val_loss',\n",
    "                                                 mode='auto',\n",
    "                                                 save_best_only=True,\n",
    "                                                 verbose=1)\n",
    "print(\"✅\")"
   ]
  },
  {
   "source": [
    "<br>\n",
    "\n",
    "### Training\n",
    "\n",
    "<br>"
   ],
   "cell_type": "markdown",
   "metadata": {}
  },
  {
   "cell_type": "code",
   "execution_count": 14,
   "metadata": {},
   "outputs": [
    {
     "output_type": "stream",
     "name": "stdout",
     "text": [
      "Epoch 1/10\n",
      "1423/1423 [==============================] - ETA: 0s - loss: 1.2294 - accuracy: 0.6056\n",
      "Epoch 00001: val_loss improved from inf to 0.83736, saving model to /home/ssac29/aiffel/speech_recognition/models/wav_skip\n",
      "1423/1423 [==============================] - 196s 138ms/step - loss: 1.2294 - accuracy: 0.6056 - val_loss: 0.8374 - val_accuracy: 0.7456\n",
      "Epoch 2/10\n",
      "1423/1423 [==============================] - ETA: 0s - loss: 0.6457 - accuracy: 0.8111\n",
      "Epoch 00002: val_loss improved from 0.83736 to 0.56508, saving model to /home/ssac29/aiffel/speech_recognition/models/wav_skip\n",
      "1423/1423 [==============================] - 198s 139ms/step - loss: 0.6457 - accuracy: 0.8111 - val_loss: 0.5651 - val_accuracy: 0.8291\n",
      "Epoch 3/10\n",
      "1423/1423 [==============================] - ETA: 0s - loss: 0.3512 - accuracy: 0.9098\n",
      "Epoch 00003: val_loss improved from 0.56508 to 0.44446, saving model to /home/ssac29/aiffel/speech_recognition/models/wav_skip\n",
      "1423/1423 [==============================] - 197s 139ms/step - loss: 0.3512 - accuracy: 0.9098 - val_loss: 0.4445 - val_accuracy: 0.8657\n",
      "Epoch 4/10\n",
      "1423/1423 [==============================] - ETA: 0s - loss: 0.1862 - accuracy: 0.9579\n",
      "Epoch 00004: val_loss improved from 0.44446 to 0.39268, saving model to /home/ssac29/aiffel/speech_recognition/models/wav_skip\n",
      "1423/1423 [==============================] - 197s 139ms/step - loss: 0.1862 - accuracy: 0.9579 - val_loss: 0.3927 - val_accuracy: 0.8742\n",
      "Epoch 5/10\n",
      "1423/1423 [==============================] - ETA: 0s - loss: 0.1111 - accuracy: 0.9774\n",
      "Epoch 00005: val_loss improved from 0.39268 to 0.29704, saving model to /home/ssac29/aiffel/speech_recognition/models/wav_skip\n",
      "1423/1423 [==============================] - 197s 139ms/step - loss: 0.1111 - accuracy: 0.9774 - val_loss: 0.2970 - val_accuracy: 0.9126\n",
      "Epoch 6/10\n",
      "1423/1423 [==============================] - ETA: 0s - loss: 0.0719 - accuracy: 0.9857\n",
      "Epoch 00006: val_loss did not improve from 0.29704\n",
      "1423/1423 [==============================] - 196s 138ms/step - loss: 0.0719 - accuracy: 0.9857 - val_loss: 0.3032 - val_accuracy: 0.9120\n",
      "Epoch 7/10\n",
      "1423/1423 [==============================] - ETA: 0s - loss: 0.0542 - accuracy: 0.9888\n",
      "Epoch 00007: val_loss improved from 0.29704 to 0.27081, saving model to /home/ssac29/aiffel/speech_recognition/models/wav_skip\n",
      "1423/1423 [==============================] - 198s 139ms/step - loss: 0.0542 - accuracy: 0.9888 - val_loss: 0.2708 - val_accuracy: 0.9181\n",
      "Epoch 8/10\n",
      "1423/1423 [==============================] - ETA: 0s - loss: 0.0418 - accuracy: 0.9914\n",
      "Epoch 00008: val_loss improved from 0.27081 to 0.26784, saving model to /home/ssac29/aiffel/speech_recognition/models/wav_skip\n",
      "1423/1423 [==============================] - 197s 139ms/step - loss: 0.0418 - accuracy: 0.9914 - val_loss: 0.2678 - val_accuracy: 0.9242\n",
      "Epoch 9/10\n",
      "1423/1423 [==============================] - ETA: 0s - loss: 0.0302 - accuracy: 0.9942\n",
      "Epoch 00009: val_loss improved from 0.26784 to 0.26624, saving model to /home/ssac29/aiffel/speech_recognition/models/wav_skip\n",
      "1423/1423 [==============================] - 198s 139ms/step - loss: 0.0302 - accuracy: 0.9942 - val_loss: 0.2662 - val_accuracy: 0.9278\n",
      "Epoch 10/10\n",
      "1423/1423 [==============================] - ETA: 0s - loss: 0.0246 - accuracy: 0.9952\n",
      "Epoch 00010: val_loss improved from 0.26624 to 0.23404, saving model to /home/ssac29/aiffel/speech_recognition/models/wav_skip\n",
      "1423/1423 [==============================] - 198s 139ms/step - loss: 0.0246 - accuracy: 0.9952 - val_loss: 0.2340 - val_accuracy: 0.9367\n",
      "✅\n"
     ]
    }
   ],
   "source": [
    "#30분 내외 소요\n",
    "history_wav_skip = model_wav_skip.fit(train_dataset, epochs=max_epochs,\n",
    "                    steps_per_epoch=len(train_wav) // batch_size,\n",
    "                    validation_data=test_dataset,\n",
    "                    validation_steps=len(test_wav) // batch_size,\n",
    "                    callbacks=[cp_callback]\n",
    "                    )\n",
    "print(\"✅\")"
   ]
  },
  {
   "source": [
    "<br>\n",
    "\n",
    "### 학습결과 plot\n",
    "\n",
    "<br>"
   ],
   "cell_type": "markdown",
   "metadata": {}
  },
  {
   "cell_type": "code",
   "execution_count": 15,
   "metadata": {},
   "outputs": [
    {
     "output_type": "display_data",
     "data": {
      "text/plain": "<Figure size 576x576 with 2 Axes>",
      "image/svg+xml": "<?xml version=\"1.0\" encoding=\"utf-8\" standalone=\"no\"?>\n<!DOCTYPE svg PUBLIC \"-//W3C//DTD SVG 1.1//EN\"\n  \"http://www.w3.org/Graphics/SVG/1.1/DTD/svg11.dtd\">\n<!-- Created with matplotlib (https://matplotlib.org/) -->\n<svg height=\"481.07625pt\" version=\"1.1\" viewBox=\"0 0 490.065625 481.07625\" width=\"490.065625pt\" xmlns=\"http://www.w3.org/2000/svg\" xmlns:xlink=\"http://www.w3.org/1999/xlink\">\n <metadata>\n  <rdf:RDF xmlns:cc=\"http://creativecommons.org/ns#\" xmlns:dc=\"http://purl.org/dc/elements/1.1/\" xmlns:rdf=\"http://www.w3.org/1999/02/22-rdf-syntax-ns#\">\n   <cc:Work>\n    <dc:type rdf:resource=\"http://purl.org/dc/dcmitype/StillImage\"/>\n    <dc:date>2021-01-27T11:06:34.054340</dc:date>\n    <dc:format>image/svg+xml</dc:format>\n    <dc:creator>\n     <cc:Agent>\n      <dc:title>Matplotlib v3.3.2, https://matplotlib.org/</dc:title>\n     </cc:Agent>\n    </dc:creator>\n   </cc:Work>\n  </rdf:RDF>\n </metadata>\n <defs>\n  <style type=\"text/css\">*{stroke-linecap:butt;stroke-linejoin:round;}</style>\n </defs>\n <g id=\"figure_1\">\n  <g id=\"patch_1\">\n   <path d=\"M 0 481.07625 \nL 490.065625 481.07625 \nL 490.065625 0 \nL 0 0 \nz\n\" style=\"fill:none;\"/>\n  </g>\n  <g id=\"axes_1\">\n   <g id=\"patch_2\">\n    <path d=\"M 36.465625 457.198125 \nL 239.374716 457.198125 \nL 239.374716 22.318125 \nL 36.465625 22.318125 \nz\n\" style=\"fill:#ffffff;\"/>\n   </g>\n   <g id=\"matplotlib.axis_1\">\n    <g id=\"xtick_1\">\n     <g id=\"line2d_1\">\n      <defs>\n       <path d=\"M 0 0 \nL 0 3.5 \n\" id=\"m29a7741db3\" style=\"stroke:#000000;stroke-width:0.8;\"/>\n      </defs>\n      <g>\n       <use style=\"stroke:#000000;stroke-width:0.8;\" x=\"45.688765\" xlink:href=\"#m29a7741db3\" y=\"457.198125\"/>\n      </g>\n     </g>\n     <g id=\"text_1\">\n      <!-- 0 -->\n      <g transform=\"translate(42.507515 471.796562)scale(0.1 -0.1)\">\n       <defs>\n        <path d=\"M 31.78125 66.40625 \nQ 24.171875 66.40625 20.328125 58.90625 \nQ 16.5 51.421875 16.5 36.375 \nQ 16.5 21.390625 20.328125 13.890625 \nQ 24.171875 6.390625 31.78125 6.390625 \nQ 39.453125 6.390625 43.28125 13.890625 \nQ 47.125 21.390625 47.125 36.375 \nQ 47.125 51.421875 43.28125 58.90625 \nQ 39.453125 66.40625 31.78125 66.40625 \nz\nM 31.78125 74.21875 \nQ 44.046875 74.21875 50.515625 64.515625 \nQ 56.984375 54.828125 56.984375 36.375 \nQ 56.984375 17.96875 50.515625 8.265625 \nQ 44.046875 -1.421875 31.78125 -1.421875 \nQ 19.53125 -1.421875 13.0625 8.265625 \nQ 6.59375 17.96875 6.59375 36.375 \nQ 6.59375 54.828125 13.0625 64.515625 \nQ 19.53125 74.21875 31.78125 74.21875 \nz\n\" id=\"DejaVuSans-48\"/>\n       </defs>\n       <use xlink:href=\"#DejaVuSans-48\"/>\n      </g>\n     </g>\n    </g>\n    <g id=\"xtick_2\">\n     <g id=\"line2d_2\">\n      <g>\n       <use style=\"stroke:#000000;stroke-width:0.8;\" x=\"86.680501\" xlink:href=\"#m29a7741db3\" y=\"457.198125\"/>\n      </g>\n     </g>\n     <g id=\"text_2\">\n      <!-- 2 -->\n      <g transform=\"translate(83.499251 471.796562)scale(0.1 -0.1)\">\n       <defs>\n        <path d=\"M 19.1875 8.296875 \nL 53.609375 8.296875 \nL 53.609375 0 \nL 7.328125 0 \nL 7.328125 8.296875 \nQ 12.9375 14.109375 22.625 23.890625 \nQ 32.328125 33.6875 34.8125 36.53125 \nQ 39.546875 41.84375 41.421875 45.53125 \nQ 43.3125 49.21875 43.3125 52.78125 \nQ 43.3125 58.59375 39.234375 62.25 \nQ 35.15625 65.921875 28.609375 65.921875 \nQ 23.96875 65.921875 18.8125 64.3125 \nQ 13.671875 62.703125 7.8125 59.421875 \nL 7.8125 69.390625 \nQ 13.765625 71.78125 18.9375 73 \nQ 24.125 74.21875 28.421875 74.21875 \nQ 39.75 74.21875 46.484375 68.546875 \nQ 53.21875 62.890625 53.21875 53.421875 \nQ 53.21875 48.921875 51.53125 44.890625 \nQ 49.859375 40.875 45.40625 35.40625 \nQ 44.1875 33.984375 37.640625 27.21875 \nQ 31.109375 20.453125 19.1875 8.296875 \nz\n\" id=\"DejaVuSans-50\"/>\n       </defs>\n       <use xlink:href=\"#DejaVuSans-50\"/>\n      </g>\n     </g>\n    </g>\n    <g id=\"xtick_3\">\n     <g id=\"line2d_3\">\n      <g>\n       <use style=\"stroke:#000000;stroke-width:0.8;\" x=\"127.672237\" xlink:href=\"#m29a7741db3\" y=\"457.198125\"/>\n      </g>\n     </g>\n     <g id=\"text_3\">\n      <!-- 4 -->\n      <g transform=\"translate(124.490987 471.796562)scale(0.1 -0.1)\">\n       <defs>\n        <path d=\"M 37.796875 64.3125 \nL 12.890625 25.390625 \nL 37.796875 25.390625 \nz\nM 35.203125 72.90625 \nL 47.609375 72.90625 \nL 47.609375 25.390625 \nL 58.015625 25.390625 \nL 58.015625 17.1875 \nL 47.609375 17.1875 \nL 47.609375 0 \nL 37.796875 0 \nL 37.796875 17.1875 \nL 4.890625 17.1875 \nL 4.890625 26.703125 \nz\n\" id=\"DejaVuSans-52\"/>\n       </defs>\n       <use xlink:href=\"#DejaVuSans-52\"/>\n      </g>\n     </g>\n    </g>\n    <g id=\"xtick_4\">\n     <g id=\"line2d_4\">\n      <g>\n       <use style=\"stroke:#000000;stroke-width:0.8;\" x=\"168.663972\" xlink:href=\"#m29a7741db3\" y=\"457.198125\"/>\n      </g>\n     </g>\n     <g id=\"text_4\">\n      <!-- 6 -->\n      <g transform=\"translate(165.482722 471.796562)scale(0.1 -0.1)\">\n       <defs>\n        <path d=\"M 33.015625 40.375 \nQ 26.375 40.375 22.484375 35.828125 \nQ 18.609375 31.296875 18.609375 23.390625 \nQ 18.609375 15.53125 22.484375 10.953125 \nQ 26.375 6.390625 33.015625 6.390625 \nQ 39.65625 6.390625 43.53125 10.953125 \nQ 47.40625 15.53125 47.40625 23.390625 \nQ 47.40625 31.296875 43.53125 35.828125 \nQ 39.65625 40.375 33.015625 40.375 \nz\nM 52.59375 71.296875 \nL 52.59375 62.3125 \nQ 48.875 64.0625 45.09375 64.984375 \nQ 41.3125 65.921875 37.59375 65.921875 \nQ 27.828125 65.921875 22.671875 59.328125 \nQ 17.53125 52.734375 16.796875 39.40625 \nQ 19.671875 43.65625 24.015625 45.921875 \nQ 28.375 48.1875 33.59375 48.1875 \nQ 44.578125 48.1875 50.953125 41.515625 \nQ 57.328125 34.859375 57.328125 23.390625 \nQ 57.328125 12.15625 50.6875 5.359375 \nQ 44.046875 -1.421875 33.015625 -1.421875 \nQ 20.359375 -1.421875 13.671875 8.265625 \nQ 6.984375 17.96875 6.984375 36.375 \nQ 6.984375 53.65625 15.1875 63.9375 \nQ 23.390625 74.21875 37.203125 74.21875 \nQ 40.921875 74.21875 44.703125 73.484375 \nQ 48.484375 72.75 52.59375 71.296875 \nz\n\" id=\"DejaVuSans-54\"/>\n       </defs>\n       <use xlink:href=\"#DejaVuSans-54\"/>\n      </g>\n     </g>\n    </g>\n    <g id=\"xtick_5\">\n     <g id=\"line2d_5\">\n      <g>\n       <use style=\"stroke:#000000;stroke-width:0.8;\" x=\"209.655708\" xlink:href=\"#m29a7741db3\" y=\"457.198125\"/>\n      </g>\n     </g>\n     <g id=\"text_5\">\n      <!-- 8 -->\n      <g transform=\"translate(206.474458 471.796562)scale(0.1 -0.1)\">\n       <defs>\n        <path d=\"M 31.78125 34.625 \nQ 24.75 34.625 20.71875 30.859375 \nQ 16.703125 27.09375 16.703125 20.515625 \nQ 16.703125 13.921875 20.71875 10.15625 \nQ 24.75 6.390625 31.78125 6.390625 \nQ 38.8125 6.390625 42.859375 10.171875 \nQ 46.921875 13.96875 46.921875 20.515625 \nQ 46.921875 27.09375 42.890625 30.859375 \nQ 38.875 34.625 31.78125 34.625 \nz\nM 21.921875 38.8125 \nQ 15.578125 40.375 12.03125 44.71875 \nQ 8.5 49.078125 8.5 55.328125 \nQ 8.5 64.0625 14.71875 69.140625 \nQ 20.953125 74.21875 31.78125 74.21875 \nQ 42.671875 74.21875 48.875 69.140625 \nQ 55.078125 64.0625 55.078125 55.328125 \nQ 55.078125 49.078125 51.53125 44.71875 \nQ 48 40.375 41.703125 38.8125 \nQ 48.828125 37.15625 52.796875 32.3125 \nQ 56.78125 27.484375 56.78125 20.515625 \nQ 56.78125 9.90625 50.3125 4.234375 \nQ 43.84375 -1.421875 31.78125 -1.421875 \nQ 19.734375 -1.421875 13.25 4.234375 \nQ 6.78125 9.90625 6.78125 20.515625 \nQ 6.78125 27.484375 10.78125 32.3125 \nQ 14.796875 37.15625 21.921875 38.8125 \nz\nM 18.3125 54.390625 \nQ 18.3125 48.734375 21.84375 45.5625 \nQ 25.390625 42.390625 31.78125 42.390625 \nQ 38.140625 42.390625 41.71875 45.5625 \nQ 45.3125 48.734375 45.3125 54.390625 \nQ 45.3125 60.0625 41.71875 63.234375 \nQ 38.140625 66.40625 31.78125 66.40625 \nQ 25.390625 66.40625 21.84375 63.234375 \nQ 18.3125 60.0625 18.3125 54.390625 \nz\n\" id=\"DejaVuSans-56\"/>\n       </defs>\n       <use xlink:href=\"#DejaVuSans-56\"/>\n      </g>\n     </g>\n    </g>\n   </g>\n   <g id=\"matplotlib.axis_2\">\n    <g id=\"ytick_1\">\n     <g id=\"line2d_6\">\n      <defs>\n       <path d=\"M 0 0 \nL -3.5 0 \n\" id=\"mdddc361d00\" style=\"stroke:#000000;stroke-width:0.8;\"/>\n      </defs>\n      <g>\n       <use style=\"stroke:#000000;stroke-width:0.8;\" x=\"36.465625\" xlink:href=\"#mdddc361d00\" y=\"443.145494\"/>\n      </g>\n     </g>\n     <g id=\"text_6\">\n      <!-- 0.60 -->\n      <g transform=\"translate(7.2 446.944713)scale(0.1 -0.1)\">\n       <defs>\n        <path d=\"M 10.6875 12.40625 \nL 21 12.40625 \nL 21 0 \nL 10.6875 0 \nz\n\" id=\"DejaVuSans-46\"/>\n       </defs>\n       <use xlink:href=\"#DejaVuSans-48\"/>\n       <use x=\"63.623047\" xlink:href=\"#DejaVuSans-46\"/>\n       <use x=\"95.410156\" xlink:href=\"#DejaVuSans-54\"/>\n       <use x=\"159.033203\" xlink:href=\"#DejaVuSans-48\"/>\n      </g>\n     </g>\n    </g>\n    <g id=\"ytick_2\">\n     <g id=\"line2d_7\">\n      <g>\n       <use style=\"stroke:#000000;stroke-width:0.8;\" x=\"36.465625\" xlink:href=\"#mdddc361d00\" y=\"392.400064\"/>\n      </g>\n     </g>\n     <g id=\"text_7\">\n      <!-- 0.65 -->\n      <g transform=\"translate(7.2 396.199283)scale(0.1 -0.1)\">\n       <defs>\n        <path d=\"M 10.796875 72.90625 \nL 49.515625 72.90625 \nL 49.515625 64.59375 \nL 19.828125 64.59375 \nL 19.828125 46.734375 \nQ 21.96875 47.46875 24.109375 47.828125 \nQ 26.265625 48.1875 28.421875 48.1875 \nQ 40.625 48.1875 47.75 41.5 \nQ 54.890625 34.8125 54.890625 23.390625 \nQ 54.890625 11.625 47.5625 5.09375 \nQ 40.234375 -1.421875 26.90625 -1.421875 \nQ 22.3125 -1.421875 17.546875 -0.640625 \nQ 12.796875 0.140625 7.71875 1.703125 \nL 7.71875 11.625 \nQ 12.109375 9.234375 16.796875 8.0625 \nQ 21.484375 6.890625 26.703125 6.890625 \nQ 35.15625 6.890625 40.078125 11.328125 \nQ 45.015625 15.765625 45.015625 23.390625 \nQ 45.015625 31 40.078125 35.4375 \nQ 35.15625 39.890625 26.703125 39.890625 \nQ 22.75 39.890625 18.8125 39.015625 \nQ 14.890625 38.140625 10.796875 36.28125 \nz\n\" id=\"DejaVuSans-53\"/>\n       </defs>\n       <use xlink:href=\"#DejaVuSans-48\"/>\n       <use x=\"63.623047\" xlink:href=\"#DejaVuSans-46\"/>\n       <use x=\"95.410156\" xlink:href=\"#DejaVuSans-54\"/>\n       <use x=\"159.033203\" xlink:href=\"#DejaVuSans-53\"/>\n      </g>\n     </g>\n    </g>\n    <g id=\"ytick_3\">\n     <g id=\"line2d_8\">\n      <g>\n       <use style=\"stroke:#000000;stroke-width:0.8;\" x=\"36.465625\" xlink:href=\"#mdddc361d00\" y=\"341.654634\"/>\n      </g>\n     </g>\n     <g id=\"text_8\">\n      <!-- 0.70 -->\n      <g transform=\"translate(7.2 345.453853)scale(0.1 -0.1)\">\n       <defs>\n        <path d=\"M 8.203125 72.90625 \nL 55.078125 72.90625 \nL 55.078125 68.703125 \nL 28.609375 0 \nL 18.3125 0 \nL 43.21875 64.59375 \nL 8.203125 64.59375 \nz\n\" id=\"DejaVuSans-55\"/>\n       </defs>\n       <use xlink:href=\"#DejaVuSans-48\"/>\n       <use x=\"63.623047\" xlink:href=\"#DejaVuSans-46\"/>\n       <use x=\"95.410156\" xlink:href=\"#DejaVuSans-55\"/>\n       <use x=\"159.033203\" xlink:href=\"#DejaVuSans-48\"/>\n      </g>\n     </g>\n    </g>\n    <g id=\"ytick_4\">\n     <g id=\"line2d_9\">\n      <g>\n       <use style=\"stroke:#000000;stroke-width:0.8;\" x=\"36.465625\" xlink:href=\"#mdddc361d00\" y=\"290.909204\"/>\n      </g>\n     </g>\n     <g id=\"text_9\">\n      <!-- 0.75 -->\n      <g transform=\"translate(7.2 294.708423)scale(0.1 -0.1)\">\n       <use xlink:href=\"#DejaVuSans-48\"/>\n       <use x=\"63.623047\" xlink:href=\"#DejaVuSans-46\"/>\n       <use x=\"95.410156\" xlink:href=\"#DejaVuSans-55\"/>\n       <use x=\"159.033203\" xlink:href=\"#DejaVuSans-53\"/>\n      </g>\n     </g>\n    </g>\n    <g id=\"ytick_5\">\n     <g id=\"line2d_10\">\n      <g>\n       <use style=\"stroke:#000000;stroke-width:0.8;\" x=\"36.465625\" xlink:href=\"#mdddc361d00\" y=\"240.163775\"/>\n      </g>\n     </g>\n     <g id=\"text_10\">\n      <!-- 0.80 -->\n      <g transform=\"translate(7.2 243.962993)scale(0.1 -0.1)\">\n       <use xlink:href=\"#DejaVuSans-48\"/>\n       <use x=\"63.623047\" xlink:href=\"#DejaVuSans-46\"/>\n       <use x=\"95.410156\" xlink:href=\"#DejaVuSans-56\"/>\n       <use x=\"159.033203\" xlink:href=\"#DejaVuSans-48\"/>\n      </g>\n     </g>\n    </g>\n    <g id=\"ytick_6\">\n     <g id=\"line2d_11\">\n      <g>\n       <use style=\"stroke:#000000;stroke-width:0.8;\" x=\"36.465625\" xlink:href=\"#mdddc361d00\" y=\"189.418345\"/>\n      </g>\n     </g>\n     <g id=\"text_11\">\n      <!-- 0.85 -->\n      <g transform=\"translate(7.2 193.217564)scale(0.1 -0.1)\">\n       <use xlink:href=\"#DejaVuSans-48\"/>\n       <use x=\"63.623047\" xlink:href=\"#DejaVuSans-46\"/>\n       <use x=\"95.410156\" xlink:href=\"#DejaVuSans-56\"/>\n       <use x=\"159.033203\" xlink:href=\"#DejaVuSans-53\"/>\n      </g>\n     </g>\n    </g>\n    <g id=\"ytick_7\">\n     <g id=\"line2d_12\">\n      <g>\n       <use style=\"stroke:#000000;stroke-width:0.8;\" x=\"36.465625\" xlink:href=\"#mdddc361d00\" y=\"138.672915\"/>\n      </g>\n     </g>\n     <g id=\"text_12\">\n      <!-- 0.90 -->\n      <g transform=\"translate(7.2 142.472134)scale(0.1 -0.1)\">\n       <defs>\n        <path d=\"M 10.984375 1.515625 \nL 10.984375 10.5 \nQ 14.703125 8.734375 18.5 7.8125 \nQ 22.3125 6.890625 25.984375 6.890625 \nQ 35.75 6.890625 40.890625 13.453125 \nQ 46.046875 20.015625 46.78125 33.40625 \nQ 43.953125 29.203125 39.59375 26.953125 \nQ 35.25 24.703125 29.984375 24.703125 \nQ 19.046875 24.703125 12.671875 31.3125 \nQ 6.296875 37.9375 6.296875 49.421875 \nQ 6.296875 60.640625 12.9375 67.421875 \nQ 19.578125 74.21875 30.609375 74.21875 \nQ 43.265625 74.21875 49.921875 64.515625 \nQ 56.59375 54.828125 56.59375 36.375 \nQ 56.59375 19.140625 48.40625 8.859375 \nQ 40.234375 -1.421875 26.421875 -1.421875 \nQ 22.703125 -1.421875 18.890625 -0.6875 \nQ 15.09375 0.046875 10.984375 1.515625 \nz\nM 30.609375 32.421875 \nQ 37.25 32.421875 41.125 36.953125 \nQ 45.015625 41.5 45.015625 49.421875 \nQ 45.015625 57.28125 41.125 61.84375 \nQ 37.25 66.40625 30.609375 66.40625 \nQ 23.96875 66.40625 20.09375 61.84375 \nQ 16.21875 57.28125 16.21875 49.421875 \nQ 16.21875 41.5 20.09375 36.953125 \nQ 23.96875 32.421875 30.609375 32.421875 \nz\n\" id=\"DejaVuSans-57\"/>\n       </defs>\n       <use xlink:href=\"#DejaVuSans-48\"/>\n       <use x=\"63.623047\" xlink:href=\"#DejaVuSans-46\"/>\n       <use x=\"95.410156\" xlink:href=\"#DejaVuSans-57\"/>\n       <use x=\"159.033203\" xlink:href=\"#DejaVuSans-48\"/>\n      </g>\n     </g>\n    </g>\n    <g id=\"ytick_8\">\n     <g id=\"line2d_13\">\n      <g>\n       <use style=\"stroke:#000000;stroke-width:0.8;\" x=\"36.465625\" xlink:href=\"#mdddc361d00\" y=\"87.927485\"/>\n      </g>\n     </g>\n     <g id=\"text_13\">\n      <!-- 0.95 -->\n      <g transform=\"translate(7.2 91.726704)scale(0.1 -0.1)\">\n       <use xlink:href=\"#DejaVuSans-48\"/>\n       <use x=\"63.623047\" xlink:href=\"#DejaVuSans-46\"/>\n       <use x=\"95.410156\" xlink:href=\"#DejaVuSans-57\"/>\n       <use x=\"159.033203\" xlink:href=\"#DejaVuSans-53\"/>\n      </g>\n     </g>\n    </g>\n    <g id=\"ytick_9\">\n     <g id=\"line2d_14\">\n      <g>\n       <use style=\"stroke:#000000;stroke-width:0.8;\" x=\"36.465625\" xlink:href=\"#mdddc361d00\" y=\"37.182056\"/>\n      </g>\n     </g>\n     <g id=\"text_14\">\n      <!-- 1.00 -->\n      <g transform=\"translate(7.2 40.981274)scale(0.1 -0.1)\">\n       <defs>\n        <path d=\"M 12.40625 8.296875 \nL 28.515625 8.296875 \nL 28.515625 63.921875 \nL 10.984375 60.40625 \nL 10.984375 69.390625 \nL 28.421875 72.90625 \nL 38.28125 72.90625 \nL 38.28125 8.296875 \nL 54.390625 8.296875 \nL 54.390625 0 \nL 12.40625 0 \nz\n\" id=\"DejaVuSans-49\"/>\n       </defs>\n       <use xlink:href=\"#DejaVuSans-49\"/>\n       <use x=\"63.623047\" xlink:href=\"#DejaVuSans-46\"/>\n       <use x=\"95.410156\" xlink:href=\"#DejaVuSans-48\"/>\n       <use x=\"159.033203\" xlink:href=\"#DejaVuSans-48\"/>\n      </g>\n     </g>\n    </g>\n   </g>\n   <g id=\"line2d_15\">\n    <path clip-path=\"url(#p811ceb387a)\" d=\"M 45.688765 437.430852 \nL 66.184633 228.881587 \nL 86.680501 128.763658 \nL 107.176369 79.908268 \nL 127.672237 60.161028 \nL 148.168104 51.713869 \nL 168.663972 48.571244 \nL 189.15984 45.918977 \nL 209.655708 43.088376 \nL 230.151575 42.085398 \n\" style=\"fill:none;stroke:#1f77b4;stroke-linecap:square;stroke-width:1.5;\"/>\n   </g>\n   <g id=\"line2d_16\">\n    <path clip-path=\"url(#p811ceb387a)\" d=\"M 45.688765 295.325334 \nL 66.184633 210.615827 \nL 86.680501 173.480099 \nL 107.176369 164.848557 \nL 127.672237 125.906259 \nL 148.168104 126.508469 \nL 168.663972 120.285709 \nL 189.15984 114.063008 \nL 209.655708 110.449806 \nL 230.151575 101.41677 \n\" style=\"fill:none;stroke:#ff7f0e;stroke-linecap:square;stroke-width:1.5;\"/>\n   </g>\n   <g id=\"patch_3\">\n    <path d=\"M 36.465625 457.198125 \nL 36.465625 22.318125 \n\" style=\"fill:none;stroke:#000000;stroke-linecap:square;stroke-linejoin:miter;stroke-width:0.8;\"/>\n   </g>\n   <g id=\"patch_4\">\n    <path d=\"M 239.374716 457.198125 \nL 239.374716 22.318125 \n\" style=\"fill:none;stroke:#000000;stroke-linecap:square;stroke-linejoin:miter;stroke-width:0.8;\"/>\n   </g>\n   <g id=\"patch_5\">\n    <path d=\"M 36.465625 457.198125 \nL 239.374716 457.198125 \n\" style=\"fill:none;stroke:#000000;stroke-linecap:square;stroke-linejoin:miter;stroke-width:0.8;\"/>\n   </g>\n   <g id=\"patch_6\">\n    <path d=\"M 36.465625 22.318125 \nL 239.374716 22.318125 \n\" style=\"fill:none;stroke:#000000;stroke-linecap:square;stroke-linejoin:miter;stroke-width:0.8;\"/>\n   </g>\n   <g id=\"text_15\">\n    <!-- Training and Validation Accuracy -->\n    <g transform=\"translate(40.21767 16.318125)scale(0.12 -0.12)\">\n     <defs>\n      <path d=\"M -0.296875 72.90625 \nL 61.375 72.90625 \nL 61.375 64.59375 \nL 35.5 64.59375 \nL 35.5 0 \nL 25.59375 0 \nL 25.59375 64.59375 \nL -0.296875 64.59375 \nz\n\" id=\"DejaVuSans-84\"/>\n      <path d=\"M 41.109375 46.296875 \nQ 39.59375 47.171875 37.8125 47.578125 \nQ 36.03125 48 33.890625 48 \nQ 26.265625 48 22.1875 43.046875 \nQ 18.109375 38.09375 18.109375 28.8125 \nL 18.109375 0 \nL 9.078125 0 \nL 9.078125 54.6875 \nL 18.109375 54.6875 \nL 18.109375 46.1875 \nQ 20.953125 51.171875 25.484375 53.578125 \nQ 30.03125 56 36.53125 56 \nQ 37.453125 56 38.578125 55.875 \nQ 39.703125 55.765625 41.0625 55.515625 \nz\n\" id=\"DejaVuSans-114\"/>\n      <path d=\"M 34.28125 27.484375 \nQ 23.390625 27.484375 19.1875 25 \nQ 14.984375 22.515625 14.984375 16.5 \nQ 14.984375 11.71875 18.140625 8.90625 \nQ 21.296875 6.109375 26.703125 6.109375 \nQ 34.1875 6.109375 38.703125 11.40625 \nQ 43.21875 16.703125 43.21875 25.484375 \nL 43.21875 27.484375 \nz\nM 52.203125 31.203125 \nL 52.203125 0 \nL 43.21875 0 \nL 43.21875 8.296875 \nQ 40.140625 3.328125 35.546875 0.953125 \nQ 30.953125 -1.421875 24.3125 -1.421875 \nQ 15.921875 -1.421875 10.953125 3.296875 \nQ 6 8.015625 6 15.921875 \nQ 6 25.140625 12.171875 29.828125 \nQ 18.359375 34.515625 30.609375 34.515625 \nL 43.21875 34.515625 \nL 43.21875 35.40625 \nQ 43.21875 41.609375 39.140625 45 \nQ 35.0625 48.390625 27.6875 48.390625 \nQ 23 48.390625 18.546875 47.265625 \nQ 14.109375 46.140625 10.015625 43.890625 \nL 10.015625 52.203125 \nQ 14.9375 54.109375 19.578125 55.046875 \nQ 24.21875 56 28.609375 56 \nQ 40.484375 56 46.34375 49.84375 \nQ 52.203125 43.703125 52.203125 31.203125 \nz\n\" id=\"DejaVuSans-97\"/>\n      <path d=\"M 9.421875 54.6875 \nL 18.40625 54.6875 \nL 18.40625 0 \nL 9.421875 0 \nz\nM 9.421875 75.984375 \nL 18.40625 75.984375 \nL 18.40625 64.59375 \nL 9.421875 64.59375 \nz\n\" id=\"DejaVuSans-105\"/>\n      <path d=\"M 54.890625 33.015625 \nL 54.890625 0 \nL 45.90625 0 \nL 45.90625 32.71875 \nQ 45.90625 40.484375 42.875 44.328125 \nQ 39.84375 48.1875 33.796875 48.1875 \nQ 26.515625 48.1875 22.3125 43.546875 \nQ 18.109375 38.921875 18.109375 30.90625 \nL 18.109375 0 \nL 9.078125 0 \nL 9.078125 54.6875 \nL 18.109375 54.6875 \nL 18.109375 46.1875 \nQ 21.34375 51.125 25.703125 53.5625 \nQ 30.078125 56 35.796875 56 \nQ 45.21875 56 50.046875 50.171875 \nQ 54.890625 44.34375 54.890625 33.015625 \nz\n\" id=\"DejaVuSans-110\"/>\n      <path d=\"M 45.40625 27.984375 \nQ 45.40625 37.75 41.375 43.109375 \nQ 37.359375 48.484375 30.078125 48.484375 \nQ 22.859375 48.484375 18.828125 43.109375 \nQ 14.796875 37.75 14.796875 27.984375 \nQ 14.796875 18.265625 18.828125 12.890625 \nQ 22.859375 7.515625 30.078125 7.515625 \nQ 37.359375 7.515625 41.375 12.890625 \nQ 45.40625 18.265625 45.40625 27.984375 \nz\nM 54.390625 6.78125 \nQ 54.390625 -7.171875 48.1875 -13.984375 \nQ 42 -20.796875 29.203125 -20.796875 \nQ 24.46875 -20.796875 20.265625 -20.09375 \nQ 16.0625 -19.390625 12.109375 -17.921875 \nL 12.109375 -9.1875 \nQ 16.0625 -11.328125 19.921875 -12.34375 \nQ 23.78125 -13.375 27.78125 -13.375 \nQ 36.625 -13.375 41.015625 -8.765625 \nQ 45.40625 -4.15625 45.40625 5.171875 \nL 45.40625 9.625 \nQ 42.625 4.78125 38.28125 2.390625 \nQ 33.9375 0 27.875 0 \nQ 17.828125 0 11.671875 7.65625 \nQ 5.515625 15.328125 5.515625 27.984375 \nQ 5.515625 40.671875 11.671875 48.328125 \nQ 17.828125 56 27.875 56 \nQ 33.9375 56 38.28125 53.609375 \nQ 42.625 51.21875 45.40625 46.390625 \nL 45.40625 54.6875 \nL 54.390625 54.6875 \nz\n\" id=\"DejaVuSans-103\"/>\n      <path id=\"DejaVuSans-32\"/>\n      <path d=\"M 45.40625 46.390625 \nL 45.40625 75.984375 \nL 54.390625 75.984375 \nL 54.390625 0 \nL 45.40625 0 \nL 45.40625 8.203125 \nQ 42.578125 3.328125 38.25 0.953125 \nQ 33.9375 -1.421875 27.875 -1.421875 \nQ 17.96875 -1.421875 11.734375 6.484375 \nQ 5.515625 14.40625 5.515625 27.296875 \nQ 5.515625 40.1875 11.734375 48.09375 \nQ 17.96875 56 27.875 56 \nQ 33.9375 56 38.25 53.625 \nQ 42.578125 51.265625 45.40625 46.390625 \nz\nM 14.796875 27.296875 \nQ 14.796875 17.390625 18.875 11.75 \nQ 22.953125 6.109375 30.078125 6.109375 \nQ 37.203125 6.109375 41.296875 11.75 \nQ 45.40625 17.390625 45.40625 27.296875 \nQ 45.40625 37.203125 41.296875 42.84375 \nQ 37.203125 48.484375 30.078125 48.484375 \nQ 22.953125 48.484375 18.875 42.84375 \nQ 14.796875 37.203125 14.796875 27.296875 \nz\n\" id=\"DejaVuSans-100\"/>\n      <path d=\"M 28.609375 0 \nL 0.78125 72.90625 \nL 11.078125 72.90625 \nL 34.1875 11.53125 \nL 57.328125 72.90625 \nL 67.578125 72.90625 \nL 39.796875 0 \nz\n\" id=\"DejaVuSans-86\"/>\n      <path d=\"M 9.421875 75.984375 \nL 18.40625 75.984375 \nL 18.40625 0 \nL 9.421875 0 \nz\n\" id=\"DejaVuSans-108\"/>\n      <path d=\"M 18.3125 70.21875 \nL 18.3125 54.6875 \nL 36.8125 54.6875 \nL 36.8125 47.703125 \nL 18.3125 47.703125 \nL 18.3125 18.015625 \nQ 18.3125 11.328125 20.140625 9.421875 \nQ 21.96875 7.515625 27.59375 7.515625 \nL 36.8125 7.515625 \nL 36.8125 0 \nL 27.59375 0 \nQ 17.1875 0 13.234375 3.875 \nQ 9.28125 7.765625 9.28125 18.015625 \nL 9.28125 47.703125 \nL 2.6875 47.703125 \nL 2.6875 54.6875 \nL 9.28125 54.6875 \nL 9.28125 70.21875 \nz\n\" id=\"DejaVuSans-116\"/>\n      <path d=\"M 30.609375 48.390625 \nQ 23.390625 48.390625 19.1875 42.75 \nQ 14.984375 37.109375 14.984375 27.296875 \nQ 14.984375 17.484375 19.15625 11.84375 \nQ 23.34375 6.203125 30.609375 6.203125 \nQ 37.796875 6.203125 41.984375 11.859375 \nQ 46.1875 17.53125 46.1875 27.296875 \nQ 46.1875 37.015625 41.984375 42.703125 \nQ 37.796875 48.390625 30.609375 48.390625 \nz\nM 30.609375 56 \nQ 42.328125 56 49.015625 48.375 \nQ 55.71875 40.765625 55.71875 27.296875 \nQ 55.71875 13.875 49.015625 6.21875 \nQ 42.328125 -1.421875 30.609375 -1.421875 \nQ 18.84375 -1.421875 12.171875 6.21875 \nQ 5.515625 13.875 5.515625 27.296875 \nQ 5.515625 40.765625 12.171875 48.375 \nQ 18.84375 56 30.609375 56 \nz\n\" id=\"DejaVuSans-111\"/>\n      <path d=\"M 34.1875 63.1875 \nL 20.796875 26.90625 \nL 47.609375 26.90625 \nz\nM 28.609375 72.90625 \nL 39.796875 72.90625 \nL 67.578125 0 \nL 57.328125 0 \nL 50.6875 18.703125 \nL 17.828125 18.703125 \nL 11.1875 0 \nL 0.78125 0 \nz\n\" id=\"DejaVuSans-65\"/>\n      <path d=\"M 48.78125 52.59375 \nL 48.78125 44.1875 \nQ 44.96875 46.296875 41.140625 47.34375 \nQ 37.3125 48.390625 33.40625 48.390625 \nQ 24.65625 48.390625 19.8125 42.84375 \nQ 14.984375 37.3125 14.984375 27.296875 \nQ 14.984375 17.28125 19.8125 11.734375 \nQ 24.65625 6.203125 33.40625 6.203125 \nQ 37.3125 6.203125 41.140625 7.25 \nQ 44.96875 8.296875 48.78125 10.40625 \nL 48.78125 2.09375 \nQ 45.015625 0.34375 40.984375 -0.53125 \nQ 36.96875 -1.421875 32.421875 -1.421875 \nQ 20.0625 -1.421875 12.78125 6.34375 \nQ 5.515625 14.109375 5.515625 27.296875 \nQ 5.515625 40.671875 12.859375 48.328125 \nQ 20.21875 56 33.015625 56 \nQ 37.15625 56 41.109375 55.140625 \nQ 45.0625 54.296875 48.78125 52.59375 \nz\n\" id=\"DejaVuSans-99\"/>\n      <path d=\"M 8.5 21.578125 \nL 8.5 54.6875 \nL 17.484375 54.6875 \nL 17.484375 21.921875 \nQ 17.484375 14.15625 20.5 10.265625 \nQ 23.53125 6.390625 29.59375 6.390625 \nQ 36.859375 6.390625 41.078125 11.03125 \nQ 45.3125 15.671875 45.3125 23.6875 \nL 45.3125 54.6875 \nL 54.296875 54.6875 \nL 54.296875 0 \nL 45.3125 0 \nL 45.3125 8.40625 \nQ 42.046875 3.421875 37.71875 1 \nQ 33.40625 -1.421875 27.6875 -1.421875 \nQ 18.265625 -1.421875 13.375 4.4375 \nQ 8.5 10.296875 8.5 21.578125 \nz\nM 31.109375 56 \nz\n\" id=\"DejaVuSans-117\"/>\n      <path d=\"M 32.171875 -5.078125 \nQ 28.375 -14.84375 24.75 -17.8125 \nQ 21.140625 -20.796875 15.09375 -20.796875 \nL 7.90625 -20.796875 \nL 7.90625 -13.28125 \nL 13.1875 -13.28125 \nQ 16.890625 -13.28125 18.9375 -11.515625 \nQ 21 -9.765625 23.484375 -3.21875 \nL 25.09375 0.875 \nL 2.984375 54.6875 \nL 12.5 54.6875 \nL 29.59375 11.921875 \nL 46.6875 54.6875 \nL 56.203125 54.6875 \nz\n\" id=\"DejaVuSans-121\"/>\n     </defs>\n     <use xlink:href=\"#DejaVuSans-84\"/>\n     <use x=\"46.333984\" xlink:href=\"#DejaVuSans-114\"/>\n     <use x=\"87.447266\" xlink:href=\"#DejaVuSans-97\"/>\n     <use x=\"148.726562\" xlink:href=\"#DejaVuSans-105\"/>\n     <use x=\"176.509766\" xlink:href=\"#DejaVuSans-110\"/>\n     <use x=\"239.888672\" xlink:href=\"#DejaVuSans-105\"/>\n     <use x=\"267.671875\" xlink:href=\"#DejaVuSans-110\"/>\n     <use x=\"331.050781\" xlink:href=\"#DejaVuSans-103\"/>\n     <use x=\"394.527344\" xlink:href=\"#DejaVuSans-32\"/>\n     <use x=\"426.314453\" xlink:href=\"#DejaVuSans-97\"/>\n     <use x=\"487.59375\" xlink:href=\"#DejaVuSans-110\"/>\n     <use x=\"550.972656\" xlink:href=\"#DejaVuSans-100\"/>\n     <use x=\"614.449219\" xlink:href=\"#DejaVuSans-32\"/>\n     <use x=\"646.236328\" xlink:href=\"#DejaVuSans-86\"/>\n     <use x=\"706.894531\" xlink:href=\"#DejaVuSans-97\"/>\n     <use x=\"768.173828\" xlink:href=\"#DejaVuSans-108\"/>\n     <use x=\"795.957031\" xlink:href=\"#DejaVuSans-105\"/>\n     <use x=\"823.740234\" xlink:href=\"#DejaVuSans-100\"/>\n     <use x=\"887.216797\" xlink:href=\"#DejaVuSans-97\"/>\n     <use x=\"948.496094\" xlink:href=\"#DejaVuSans-116\"/>\n     <use x=\"987.705078\" xlink:href=\"#DejaVuSans-105\"/>\n     <use x=\"1015.488281\" xlink:href=\"#DejaVuSans-111\"/>\n     <use x=\"1076.669922\" xlink:href=\"#DejaVuSans-110\"/>\n     <use x=\"1140.048828\" xlink:href=\"#DejaVuSans-32\"/>\n     <use x=\"1171.835938\" xlink:href=\"#DejaVuSans-65\"/>\n     <use x=\"1238.494141\" xlink:href=\"#DejaVuSans-99\"/>\n     <use x=\"1293.474609\" xlink:href=\"#DejaVuSans-99\"/>\n     <use x=\"1348.455078\" xlink:href=\"#DejaVuSans-117\"/>\n     <use x=\"1411.833984\" xlink:href=\"#DejaVuSans-114\"/>\n     <use x=\"1452.947266\" xlink:href=\"#DejaVuSans-97\"/>\n     <use x=\"1514.226562\" xlink:href=\"#DejaVuSans-99\"/>\n     <use x=\"1569.207031\" xlink:href=\"#DejaVuSans-121\"/>\n    </g>\n   </g>\n   <g id=\"legend_1\">\n    <g id=\"patch_7\">\n     <path d=\"M 102.159091 452.198125 \nL 232.374716 452.198125 \nQ 234.374716 452.198125 234.374716 450.198125 \nL 234.374716 421.841875 \nQ 234.374716 419.841875 232.374716 419.841875 \nL 102.159091 419.841875 \nQ 100.159091 419.841875 100.159091 421.841875 \nL 100.159091 450.198125 \nQ 100.159091 452.198125 102.159091 452.198125 \nz\n\" style=\"fill:#ffffff;opacity:0.8;stroke:#cccccc;stroke-linejoin:miter;\"/>\n    </g>\n    <g id=\"line2d_17\">\n     <path d=\"M 104.159091 427.940312 \nL 124.159091 427.940312 \n\" style=\"fill:none;stroke:#1f77b4;stroke-linecap:square;stroke-width:1.5;\"/>\n    </g>\n    <g id=\"line2d_18\"/>\n    <g id=\"text_16\">\n     <!-- Training Accuracy -->\n     <g transform=\"translate(132.159091 431.440312)scale(0.1 -0.1)\">\n      <use xlink:href=\"#DejaVuSans-84\"/>\n      <use x=\"46.333984\" xlink:href=\"#DejaVuSans-114\"/>\n      <use x=\"87.447266\" xlink:href=\"#DejaVuSans-97\"/>\n      <use x=\"148.726562\" xlink:href=\"#DejaVuSans-105\"/>\n      <use x=\"176.509766\" xlink:href=\"#DejaVuSans-110\"/>\n      <use x=\"239.888672\" xlink:href=\"#DejaVuSans-105\"/>\n      <use x=\"267.671875\" xlink:href=\"#DejaVuSans-110\"/>\n      <use x=\"331.050781\" xlink:href=\"#DejaVuSans-103\"/>\n      <use x=\"394.527344\" xlink:href=\"#DejaVuSans-32\"/>\n      <use x=\"426.314453\" xlink:href=\"#DejaVuSans-65\"/>\n      <use x=\"492.972656\" xlink:href=\"#DejaVuSans-99\"/>\n      <use x=\"547.953125\" xlink:href=\"#DejaVuSans-99\"/>\n      <use x=\"602.933594\" xlink:href=\"#DejaVuSans-117\"/>\n      <use x=\"666.3125\" xlink:href=\"#DejaVuSans-114\"/>\n      <use x=\"707.425781\" xlink:href=\"#DejaVuSans-97\"/>\n      <use x=\"768.705078\" xlink:href=\"#DejaVuSans-99\"/>\n      <use x=\"823.685547\" xlink:href=\"#DejaVuSans-121\"/>\n     </g>\n    </g>\n    <g id=\"line2d_19\">\n     <path d=\"M 104.159091 442.618437 \nL 124.159091 442.618437 \n\" style=\"fill:none;stroke:#ff7f0e;stroke-linecap:square;stroke-width:1.5;\"/>\n    </g>\n    <g id=\"line2d_20\"/>\n    <g id=\"text_17\">\n     <!-- Validation Accuracy -->\n     <g transform=\"translate(132.159091 446.118437)scale(0.1 -0.1)\">\n      <use xlink:href=\"#DejaVuSans-86\"/>\n      <use x=\"60.658203\" xlink:href=\"#DejaVuSans-97\"/>\n      <use x=\"121.9375\" xlink:href=\"#DejaVuSans-108\"/>\n      <use x=\"149.720703\" xlink:href=\"#DejaVuSans-105\"/>\n      <use x=\"177.503906\" xlink:href=\"#DejaVuSans-100\"/>\n      <use x=\"240.980469\" xlink:href=\"#DejaVuSans-97\"/>\n      <use x=\"302.259766\" xlink:href=\"#DejaVuSans-116\"/>\n      <use x=\"341.46875\" xlink:href=\"#DejaVuSans-105\"/>\n      <use x=\"369.251953\" xlink:href=\"#DejaVuSans-111\"/>\n      <use x=\"430.433594\" xlink:href=\"#DejaVuSans-110\"/>\n      <use x=\"493.8125\" xlink:href=\"#DejaVuSans-32\"/>\n      <use x=\"525.599609\" xlink:href=\"#DejaVuSans-65\"/>\n      <use x=\"592.257812\" xlink:href=\"#DejaVuSans-99\"/>\n      <use x=\"647.238281\" xlink:href=\"#DejaVuSans-99\"/>\n      <use x=\"702.21875\" xlink:href=\"#DejaVuSans-117\"/>\n      <use x=\"765.597656\" xlink:href=\"#DejaVuSans-114\"/>\n      <use x=\"806.710938\" xlink:href=\"#DejaVuSans-97\"/>\n      <use x=\"867.990234\" xlink:href=\"#DejaVuSans-99\"/>\n      <use x=\"922.970703\" xlink:href=\"#DejaVuSans-121\"/>\n     </g>\n    </g>\n   </g>\n  </g>\n  <g id=\"axes_2\">\n   <g id=\"patch_8\">\n    <path d=\"M 279.956534 457.198125 \nL 482.865625 457.198125 \nL 482.865625 22.318125 \nL 279.956534 22.318125 \nz\n\" style=\"fill:#ffffff;\"/>\n   </g>\n   <g id=\"matplotlib.axis_3\">\n    <g id=\"xtick_6\">\n     <g id=\"line2d_21\">\n      <g>\n       <use style=\"stroke:#000000;stroke-width:0.8;\" x=\"289.179675\" xlink:href=\"#m29a7741db3\" y=\"457.198125\"/>\n      </g>\n     </g>\n     <g id=\"text_18\">\n      <!-- 0 -->\n      <g transform=\"translate(285.998425 471.796562)scale(0.1 -0.1)\">\n       <use xlink:href=\"#DejaVuSans-48\"/>\n      </g>\n     </g>\n    </g>\n    <g id=\"xtick_7\">\n     <g id=\"line2d_22\">\n      <g>\n       <use style=\"stroke:#000000;stroke-width:0.8;\" x=\"330.17141\" xlink:href=\"#m29a7741db3\" y=\"457.198125\"/>\n      </g>\n     </g>\n     <g id=\"text_19\">\n      <!-- 2 -->\n      <g transform=\"translate(326.99016 471.796562)scale(0.1 -0.1)\">\n       <use xlink:href=\"#DejaVuSans-50\"/>\n      </g>\n     </g>\n    </g>\n    <g id=\"xtick_8\">\n     <g id=\"line2d_23\">\n      <g>\n       <use style=\"stroke:#000000;stroke-width:0.8;\" x=\"371.163146\" xlink:href=\"#m29a7741db3\" y=\"457.198125\"/>\n      </g>\n     </g>\n     <g id=\"text_20\">\n      <!-- 4 -->\n      <g transform=\"translate(367.981896 471.796562)scale(0.1 -0.1)\">\n       <use xlink:href=\"#DejaVuSans-52\"/>\n      </g>\n     </g>\n    </g>\n    <g id=\"xtick_9\">\n     <g id=\"line2d_24\">\n      <g>\n       <use style=\"stroke:#000000;stroke-width:0.8;\" x=\"412.154881\" xlink:href=\"#m29a7741db3\" y=\"457.198125\"/>\n      </g>\n     </g>\n     <g id=\"text_21\">\n      <!-- 6 -->\n      <g transform=\"translate(408.973631 471.796562)scale(0.1 -0.1)\">\n       <use xlink:href=\"#DejaVuSans-54\"/>\n      </g>\n     </g>\n    </g>\n    <g id=\"xtick_10\">\n     <g id=\"line2d_25\">\n      <g>\n       <use style=\"stroke:#000000;stroke-width:0.8;\" x=\"453.146617\" xlink:href=\"#m29a7741db3\" y=\"457.198125\"/>\n      </g>\n     </g>\n     <g id=\"text_22\">\n      <!-- 8 -->\n      <g transform=\"translate(449.965367 471.796562)scale(0.1 -0.1)\">\n       <use xlink:href=\"#DejaVuSans-56\"/>\n      </g>\n     </g>\n    </g>\n   </g>\n   <g id=\"matplotlib.axis_4\">\n    <g id=\"ytick_10\">\n     <g id=\"line2d_26\">\n      <g>\n       <use style=\"stroke:#000000;stroke-width:0.8;\" x=\"279.956534\" xlink:href=\"#mdddc361d00\" y=\"445.51128\"/>\n      </g>\n     </g>\n     <g id=\"text_23\">\n      <!-- 0.0 -->\n      <g transform=\"translate(257.053409 449.310499)scale(0.1 -0.1)\">\n       <use xlink:href=\"#DejaVuSans-48\"/>\n       <use x=\"63.623047\" xlink:href=\"#DejaVuSans-46\"/>\n       <use x=\"95.410156\" xlink:href=\"#DejaVuSans-48\"/>\n      </g>\n     </g>\n    </g>\n    <g id=\"ytick_11\">\n     <g id=\"line2d_27\">\n      <g>\n       <use style=\"stroke:#000000;stroke-width:0.8;\" x=\"279.956534\" xlink:href=\"#mdddc361d00\" y=\"379.882289\"/>\n      </g>\n     </g>\n     <g id=\"text_24\">\n      <!-- 0.2 -->\n      <g transform=\"translate(257.053409 383.681507)scale(0.1 -0.1)\">\n       <use xlink:href=\"#DejaVuSans-48\"/>\n       <use x=\"63.623047\" xlink:href=\"#DejaVuSans-46\"/>\n       <use x=\"95.410156\" xlink:href=\"#DejaVuSans-50\"/>\n      </g>\n     </g>\n    </g>\n    <g id=\"ytick_12\">\n     <g id=\"line2d_28\">\n      <g>\n       <use style=\"stroke:#000000;stroke-width:0.8;\" x=\"279.956534\" xlink:href=\"#mdddc361d00\" y=\"314.253297\"/>\n      </g>\n     </g>\n     <g id=\"text_25\">\n      <!-- 0.4 -->\n      <g transform=\"translate(257.053409 318.052516)scale(0.1 -0.1)\">\n       <use xlink:href=\"#DejaVuSans-48\"/>\n       <use x=\"63.623047\" xlink:href=\"#DejaVuSans-46\"/>\n       <use x=\"95.410156\" xlink:href=\"#DejaVuSans-52\"/>\n      </g>\n     </g>\n    </g>\n    <g id=\"ytick_13\">\n     <g id=\"line2d_29\">\n      <g>\n       <use style=\"stroke:#000000;stroke-width:0.8;\" x=\"279.956534\" xlink:href=\"#mdddc361d00\" y=\"248.624306\"/>\n      </g>\n     </g>\n     <g id=\"text_26\">\n      <!-- 0.6 -->\n      <g transform=\"translate(257.053409 252.423525)scale(0.1 -0.1)\">\n       <use xlink:href=\"#DejaVuSans-48\"/>\n       <use x=\"63.623047\" xlink:href=\"#DejaVuSans-46\"/>\n       <use x=\"95.410156\" xlink:href=\"#DejaVuSans-54\"/>\n      </g>\n     </g>\n    </g>\n    <g id=\"ytick_14\">\n     <g id=\"line2d_30\">\n      <g>\n       <use style=\"stroke:#000000;stroke-width:0.8;\" x=\"279.956534\" xlink:href=\"#mdddc361d00\" y=\"182.995314\"/>\n      </g>\n     </g>\n     <g id=\"text_27\">\n      <!-- 0.8 -->\n      <g transform=\"translate(257.053409 186.794533)scale(0.1 -0.1)\">\n       <use xlink:href=\"#DejaVuSans-48\"/>\n       <use x=\"63.623047\" xlink:href=\"#DejaVuSans-46\"/>\n       <use x=\"95.410156\" xlink:href=\"#DejaVuSans-56\"/>\n      </g>\n     </g>\n    </g>\n    <g id=\"ytick_15\">\n     <g id=\"line2d_31\">\n      <g>\n       <use style=\"stroke:#000000;stroke-width:0.8;\" x=\"279.956534\" xlink:href=\"#mdddc361d00\" y=\"117.366323\"/>\n      </g>\n     </g>\n     <g id=\"text_28\">\n      <!-- 1.0 -->\n      <g transform=\"translate(257.053409 121.165542)scale(0.1 -0.1)\">\n       <use xlink:href=\"#DejaVuSans-49\"/>\n       <use x=\"63.623047\" xlink:href=\"#DejaVuSans-46\"/>\n       <use x=\"95.410156\" xlink:href=\"#DejaVuSans-48\"/>\n      </g>\n     </g>\n    </g>\n    <g id=\"ytick_16\">\n     <g id=\"line2d_32\">\n      <g>\n       <use style=\"stroke:#000000;stroke-width:0.8;\" x=\"279.956534\" xlink:href=\"#mdddc361d00\" y=\"51.737332\"/>\n      </g>\n     </g>\n     <g id=\"text_29\">\n      <!-- 1.2 -->\n      <g transform=\"translate(257.053409 55.53655)scale(0.1 -0.1)\">\n       <use xlink:href=\"#DejaVuSans-49\"/>\n       <use x=\"63.623047\" xlink:href=\"#DejaVuSans-46\"/>\n       <use x=\"95.410156\" xlink:href=\"#DejaVuSans-50\"/>\n      </g>\n     </g>\n    </g>\n   </g>\n   <g id=\"line2d_33\">\n    <path clip-path=\"url(#p3345ef1c0d)\" d=\"M 289.179675 42.085398 \nL 309.675542 233.629145 \nL 330.17141 330.277045 \nL 350.667278 384.407777 \nL 371.163146 409.047917 \nL 391.659013 421.918806 \nL 412.154881 427.715139 \nL 432.650749 431.800341 \nL 453.146617 435.60213 \nL 473.642485 437.430852 \n\" style=\"fill:none;stroke:#1f77b4;stroke-linecap:square;stroke-width:1.5;\"/>\n   </g>\n   <g id=\"line2d_34\">\n    <path clip-path=\"url(#p3345ef1c0d)\" d=\"M 289.179675 170.734559 \nL 309.675542 260.083347 \nL 330.17141 299.66356 \nL 350.667278 316.656691 \nL 371.163146 348.03852 \nL 391.659013 346.027555 \nL 412.154881 356.647711 \nL 432.650749 357.619547 \nL 453.146617 358.146181 \nL 473.642485 368.71255 \n\" style=\"fill:none;stroke:#ff7f0e;stroke-linecap:square;stroke-width:1.5;\"/>\n   </g>\n   <g id=\"patch_9\">\n    <path d=\"M 279.956534 457.198125 \nL 279.956534 22.318125 \n\" style=\"fill:none;stroke:#000000;stroke-linecap:square;stroke-linejoin:miter;stroke-width:0.8;\"/>\n   </g>\n   <g id=\"patch_10\">\n    <path d=\"M 482.865625 457.198125 \nL 482.865625 22.318125 \n\" style=\"fill:none;stroke:#000000;stroke-linecap:square;stroke-linejoin:miter;stroke-width:0.8;\"/>\n   </g>\n   <g id=\"patch_11\">\n    <path d=\"M 279.956534 457.198125 \nL 482.865625 457.198125 \n\" style=\"fill:none;stroke:#000000;stroke-linecap:square;stroke-linejoin:miter;stroke-width:0.8;\"/>\n   </g>\n   <g id=\"patch_12\">\n    <path d=\"M 279.956534 22.318125 \nL 482.865625 22.318125 \n\" style=\"fill:none;stroke:#000000;stroke-linecap:square;stroke-linejoin:miter;stroke-width:0.8;\"/>\n   </g>\n   <g id=\"text_30\">\n    <!-- Training and Validation Loss -->\n    <g transform=\"translate(297.941705 16.318125)scale(0.12 -0.12)\">\n     <defs>\n      <path d=\"M 9.8125 72.90625 \nL 19.671875 72.90625 \nL 19.671875 8.296875 \nL 55.171875 8.296875 \nL 55.171875 0 \nL 9.8125 0 \nz\n\" id=\"DejaVuSans-76\"/>\n      <path d=\"M 44.28125 53.078125 \nL 44.28125 44.578125 \nQ 40.484375 46.53125 36.375 47.5 \nQ 32.28125 48.484375 27.875 48.484375 \nQ 21.1875 48.484375 17.84375 46.4375 \nQ 14.5 44.390625 14.5 40.28125 \nQ 14.5 37.15625 16.890625 35.375 \nQ 19.28125 33.59375 26.515625 31.984375 \nL 29.59375 31.296875 \nQ 39.15625 29.25 43.1875 25.515625 \nQ 47.21875 21.78125 47.21875 15.09375 \nQ 47.21875 7.46875 41.1875 3.015625 \nQ 35.15625 -1.421875 24.609375 -1.421875 \nQ 20.21875 -1.421875 15.453125 -0.5625 \nQ 10.6875 0.296875 5.421875 2 \nL 5.421875 11.28125 \nQ 10.40625 8.6875 15.234375 7.390625 \nQ 20.0625 6.109375 24.8125 6.109375 \nQ 31.15625 6.109375 34.5625 8.28125 \nQ 37.984375 10.453125 37.984375 14.40625 \nQ 37.984375 18.0625 35.515625 20.015625 \nQ 33.0625 21.96875 24.703125 23.78125 \nL 21.578125 24.515625 \nQ 13.234375 26.265625 9.515625 29.90625 \nQ 5.8125 33.546875 5.8125 39.890625 \nQ 5.8125 47.609375 11.28125 51.796875 \nQ 16.75 56 26.8125 56 \nQ 31.78125 56 36.171875 55.265625 \nQ 40.578125 54.546875 44.28125 53.078125 \nz\n\" id=\"DejaVuSans-115\"/>\n     </defs>\n     <use xlink:href=\"#DejaVuSans-84\"/>\n     <use x=\"46.333984\" xlink:href=\"#DejaVuSans-114\"/>\n     <use x=\"87.447266\" xlink:href=\"#DejaVuSans-97\"/>\n     <use x=\"148.726562\" xlink:href=\"#DejaVuSans-105\"/>\n     <use x=\"176.509766\" xlink:href=\"#DejaVuSans-110\"/>\n     <use x=\"239.888672\" xlink:href=\"#DejaVuSans-105\"/>\n     <use x=\"267.671875\" xlink:href=\"#DejaVuSans-110\"/>\n     <use x=\"331.050781\" xlink:href=\"#DejaVuSans-103\"/>\n     <use x=\"394.527344\" xlink:href=\"#DejaVuSans-32\"/>\n     <use x=\"426.314453\" xlink:href=\"#DejaVuSans-97\"/>\n     <use x=\"487.59375\" xlink:href=\"#DejaVuSans-110\"/>\n     <use x=\"550.972656\" xlink:href=\"#DejaVuSans-100\"/>\n     <use x=\"614.449219\" xlink:href=\"#DejaVuSans-32\"/>\n     <use x=\"646.236328\" xlink:href=\"#DejaVuSans-86\"/>\n     <use x=\"706.894531\" xlink:href=\"#DejaVuSans-97\"/>\n     <use x=\"768.173828\" xlink:href=\"#DejaVuSans-108\"/>\n     <use x=\"795.957031\" xlink:href=\"#DejaVuSans-105\"/>\n     <use x=\"823.740234\" xlink:href=\"#DejaVuSans-100\"/>\n     <use x=\"887.216797\" xlink:href=\"#DejaVuSans-97\"/>\n     <use x=\"948.496094\" xlink:href=\"#DejaVuSans-116\"/>\n     <use x=\"987.705078\" xlink:href=\"#DejaVuSans-105\"/>\n     <use x=\"1015.488281\" xlink:href=\"#DejaVuSans-111\"/>\n     <use x=\"1076.669922\" xlink:href=\"#DejaVuSans-110\"/>\n     <use x=\"1140.048828\" xlink:href=\"#DejaVuSans-32\"/>\n     <use x=\"1171.835938\" xlink:href=\"#DejaVuSans-76\"/>\n     <use x=\"1225.798828\" xlink:href=\"#DejaVuSans-111\"/>\n     <use x=\"1286.980469\" xlink:href=\"#DejaVuSans-115\"/>\n     <use x=\"1339.080078\" xlink:href=\"#DejaVuSans-115\"/>\n    </g>\n   </g>\n   <g id=\"legend_2\">\n    <g id=\"patch_13\">\n     <path d=\"M 369.371875 59.674375 \nL 475.865625 59.674375 \nQ 477.865625 59.674375 477.865625 57.674375 \nL 477.865625 29.318125 \nQ 477.865625 27.318125 475.865625 27.318125 \nL 369.371875 27.318125 \nQ 367.371875 27.318125 367.371875 29.318125 \nL 367.371875 57.674375 \nQ 367.371875 59.674375 369.371875 59.674375 \nz\n\" style=\"fill:#ffffff;opacity:0.8;stroke:#cccccc;stroke-linejoin:miter;\"/>\n    </g>\n    <g id=\"line2d_35\">\n     <path d=\"M 371.371875 35.416562 \nL 391.371875 35.416562 \n\" style=\"fill:none;stroke:#1f77b4;stroke-linecap:square;stroke-width:1.5;\"/>\n    </g>\n    <g id=\"line2d_36\"/>\n    <g id=\"text_31\">\n     <!-- Training Loss -->\n     <g transform=\"translate(399.371875 38.916562)scale(0.1 -0.1)\">\n      <use xlink:href=\"#DejaVuSans-84\"/>\n      <use x=\"46.333984\" xlink:href=\"#DejaVuSans-114\"/>\n      <use x=\"87.447266\" xlink:href=\"#DejaVuSans-97\"/>\n      <use x=\"148.726562\" xlink:href=\"#DejaVuSans-105\"/>\n      <use x=\"176.509766\" xlink:href=\"#DejaVuSans-110\"/>\n      <use x=\"239.888672\" xlink:href=\"#DejaVuSans-105\"/>\n      <use x=\"267.671875\" xlink:href=\"#DejaVuSans-110\"/>\n      <use x=\"331.050781\" xlink:href=\"#DejaVuSans-103\"/>\n      <use x=\"394.527344\" xlink:href=\"#DejaVuSans-32\"/>\n      <use x=\"426.314453\" xlink:href=\"#DejaVuSans-76\"/>\n      <use x=\"480.277344\" xlink:href=\"#DejaVuSans-111\"/>\n      <use x=\"541.458984\" xlink:href=\"#DejaVuSans-115\"/>\n      <use x=\"593.558594\" xlink:href=\"#DejaVuSans-115\"/>\n     </g>\n    </g>\n    <g id=\"line2d_37\">\n     <path d=\"M 371.371875 50.094687 \nL 391.371875 50.094687 \n\" style=\"fill:none;stroke:#ff7f0e;stroke-linecap:square;stroke-width:1.5;\"/>\n    </g>\n    <g id=\"line2d_38\"/>\n    <g id=\"text_32\">\n     <!-- Validation Loss -->\n     <g transform=\"translate(399.371875 53.594687)scale(0.1 -0.1)\">\n      <use xlink:href=\"#DejaVuSans-86\"/>\n      <use x=\"60.658203\" xlink:href=\"#DejaVuSans-97\"/>\n      <use x=\"121.9375\" xlink:href=\"#DejaVuSans-108\"/>\n      <use x=\"149.720703\" xlink:href=\"#DejaVuSans-105\"/>\n      <use x=\"177.503906\" xlink:href=\"#DejaVuSans-100\"/>\n      <use x=\"240.980469\" xlink:href=\"#DejaVuSans-97\"/>\n      <use x=\"302.259766\" xlink:href=\"#DejaVuSans-116\"/>\n      <use x=\"341.46875\" xlink:href=\"#DejaVuSans-105\"/>\n      <use x=\"369.251953\" xlink:href=\"#DejaVuSans-111\"/>\n      <use x=\"430.433594\" xlink:href=\"#DejaVuSans-110\"/>\n      <use x=\"493.8125\" xlink:href=\"#DejaVuSans-32\"/>\n      <use x=\"525.599609\" xlink:href=\"#DejaVuSans-76\"/>\n      <use x=\"579.5625\" xlink:href=\"#DejaVuSans-111\"/>\n      <use x=\"640.744141\" xlink:href=\"#DejaVuSans-115\"/>\n      <use x=\"692.84375\" xlink:href=\"#DejaVuSans-115\"/>\n     </g>\n    </g>\n   </g>\n  </g>\n </g>\n <defs>\n  <clipPath id=\"p811ceb387a\">\n   <rect height=\"434.88\" width=\"202.909091\" x=\"36.465625\" y=\"22.318125\"/>\n  </clipPath>\n  <clipPath id=\"p3345ef1c0d\">\n   <rect height=\"434.88\" width=\"202.909091\" x=\"279.956534\" y=\"22.318125\"/>\n  </clipPath>\n </defs>\n</svg>\n",
      "image/png": "[encoded data removed]"
     },
     "metadata": {
      "needs_background": "light"
     }
    },
    {
     "output_type": "stream",
     "name": "stdout",
     "text": [
      "✅\n"
     ]
    }
   ],
   "source": [
    "import matplotlib.pyplot as plt\n",
    "\n",
    "acc = history_wav_skip.history['accuracy']\n",
    "val_acc = history_wav_skip.history['val_accuracy']\n",
    "\n",
    "loss=history_wav_skip.history['loss']\n",
    "val_loss=history_wav_skip.history['val_loss']\n",
    "\n",
    "epochs_range = range(len(acc))\n",
    "\n",
    "plt.figure(figsize=(8, 8))\n",
    "plt.subplot(1, 2, 1)\n",
    "plt.plot(epochs_range, acc, label='Training Accuracy')\n",
    "plt.plot(epochs_range, val_acc, label='Validation Accuracy')\n",
    "plt.legend(loc='lower right')\n",
    "plt.title('Training and Validation Accuracy')\n",
    "\n",
    "plt.subplot(1, 2, 2)\n",
    "plt.plot(epochs_range, loss, label='Training Loss')\n",
    "plt.plot(epochs_range, val_loss, label='Validation Loss')\n",
    "plt.legend(loc='upper right')\n",
    "plt.title('Training and Validation Loss')\n",
    "plt.show()\n",
    "print(\"✅\")"
   ]
  },
  {
   "source": [
    "<br>\n",
    "\n",
    "### 모델 평가 Evaluation\n",
    "\n",
    "<br>"
   ],
   "cell_type": "markdown",
   "metadata": {}
  },
  {
   "cell_type": "code",
   "execution_count": 17,
   "metadata": {},
   "outputs": [
    {
     "output_type": "stream",
     "name": "stdout",
     "text": [
      "159/159 [==============================] - 12s 76ms/step - loss: 0.2339 - accuracy: 0.9368\n",
      "loss value: 0.234\n",
      "accuracy value: 93.6784%\n"
     ]
    }
   ],
   "source": [
    "\"\"\"\n",
    "Test dataset을 이용해서 모델의 성능을 평가합니다.\n",
    "\"\"\"\n",
    "\n",
    "# 실습삼아 checkpoint callback 함수가 저장한 weight를 다시 불러와서 테스트\n",
    "model_wav_skip.load_weights(checkpoint_dir)\n",
    "\n",
    "# Test data을 이용하여 모델의 예측값과 실제값이 얼마나 일치하는지 확인\n",
    "results = model_wav_skip.evaluate(test_dataset)\n",
    "\n",
    "# loss\n",
    "print(\"loss value: {:.3f}\".format(results[0]))\n",
    "# accuracy\n",
    "print(\"accuracy value: {:.4f}%\".format(results[1]*100))"
   ]
  }
 ]
}