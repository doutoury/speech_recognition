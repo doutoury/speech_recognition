{
 "metadata": {
  "language_info": {
   "codemirror_mode": {
    "name": "ipython",
    "version": 3
   },
   "file_extension": ".py",
   "mimetype": "text/x-python",
   "name": "python",
   "nbconvert_exporter": "python",
   "pygments_lexer": "ipython3",
   "version": "3.7.9-final"
  },
  "orig_nbformat": 2,
  "kernelspec": {
   "name": "python3",
   "display_name": "Python 3",
   "language": "python"
  }
 },
 "nbformat": 4,
 "nbformat_minor": 2,
 "cells": [
  {
   "source": [
    "<br>\n",
    "\n",
    "### 음성데이터 추가\n",
    "\n",
    "<br>"
   ],
   "cell_type": "markdown",
   "metadata": {}
  },
  {
   "cell_type": "code",
   "execution_count": 1,
   "metadata": {},
   "outputs": [
    {
     "output_type": "stream",
     "name": "stdout",
     "text": [
      "✅\n"
     ]
    }
   ],
   "source": [
    "\"\"\"\n",
    "데이터 준비\n",
    "$ wget https://aiffelstaticdev.blob.core.windows.net/dataset/speech_wav_8000.npz\n",
    "\"\"\"\n",
    "\n",
    "\"\"\"\n",
    "1000 Hz 신호를 저장한 wav 파일입니다.\n",
    "Sample rate 는 48000 Hz, 즉 1초 재생하는데 필요한 Sample 수는 48000개입니다.\n",
    "모든 샘플은 -1 ~ 1 사이의 정해진 bits per sample의 값으로 표현됩니다.\n",
    "\"\"\"\n",
    "\n",
    "import numpy as np\n",
    "import os\n",
    "\n",
    "data_path = os.getenv(\"HOME\")+'/aiffel/speech_recognition/data/speech_wav_8000.npz'\n",
    "speech_data = np.load(data_path)\n",
    "\n",
    "print(\"✅\")"
   ]
  },
  {
   "cell_type": "code",
   "execution_count": 2,
   "metadata": {},
   "outputs": [
    {
     "output_type": "stream",
     "name": "stdout",
     "text": [
      "Wave data shape :  (50620, 8000)\nLabel data shape :  (50620, 1)\n✅\n"
     ]
    }
   ],
   "source": [
    "print(\"Wave data shape : \", speech_data[\"wav_vals\"].shape)\n",
    "print(\"Label data shape : \", speech_data[\"label_vals\"].shape)\n",
    "print(\"✅\")"
   ]
  },
  {
   "cell_type": "code",
   "execution_count": 3,
   "metadata": {},
   "outputs": [
    {
     "output_type": "stream",
     "name": "stdout",
     "text": [
      "rand num :  50097\n",
      "Wave data shape :  (8000,)\n",
      "label :  ['silence']\n"
     ]
    },
    {
     "output_type": "execute_result",
     "data": {
      "text/plain": [
       "<IPython.lib.display.Audio object>"
      ],
      "text/html": "\n                <audio  controls=\"controls\" >\n                    <source src=\"data:audio/wav;base64,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\" type=\"audio/wav\" />\n                    Your browser does not support the audio element.\n                </audio>\n              "
     },
     "metadata": {},
     "execution_count": 3
    }
   ],
   "source": [
    "\"\"\"\n",
    "샘플 데이터로 데이터 확인\n",
    "\"\"\"\n",
    "\n",
    "import IPython.display as ipd\n",
    "import random\n",
    "\n",
    "# 데이터 선택 (랜덤하게 선택하고 있으니, 여러번 실행해 보세요)\n",
    "rand = random.randint(0, len(speech_data[\"wav_vals\"]))\n",
    "print(\"rand num : \", rand)\n",
    "\n",
    "sr = 8000 # 1초동안 재생되는 샘플의 갯수\n",
    "data = speech_data[\"wav_vals\"][rand]\n",
    "print(\"Wave data shape : \", data.shape)\n",
    "print(\"label : \", speech_data[\"label_vals\"][rand])\n",
    "\n",
    "ipd.Audio(data, rate=sr)"
   ]
  },
  {
   "source": [
    "<br>\n",
    "\n",
    "### Label data 처리\n",
    "\n",
    "<br>"
   ],
   "cell_type": "markdown",
   "metadata": {}
  },
  {
   "cell_type": "code",
   "execution_count": 4,
   "metadata": {},
   "outputs": [
    {
     "output_type": "stream",
     "name": "stdout",
     "text": [
      "LABEL :  ['yes', 'no', 'up', 'down', 'left', 'right', 'on', 'off', 'stop', 'go', 'unknown', 'silence']\nIndexed LABEL :  {'yes': 0, 'no': 1, 'up': 2, 'down': 3, 'left': 4, 'right': 5, 'on': 6, 'off': 7, 'stop': 8, 'go': 9, 'unknown': 10, 'silence': 11}\n"
     ]
    }
   ],
   "source": [
    "\"\"\"\n",
    "단어의 정답은 Text 형태로 이뤄져있습니다.\n",
    "학습을 위해서는 Text 데이터를 학습가능한 형태로 만들어줘야 합니다.\n",
    "\"\"\"\n",
    "\n",
    "# label에 포함되지 않는 데이터들은 'unknown'과 'silence'로 분류되어 있음\n",
    "target_list = ['yes', 'no', 'up', 'down', 'left', 'right', 'on', 'off', 'stop', 'go']\n",
    "\n",
    "label_value = target_list\n",
    "label_value.append('unknown')\n",
    "label_value.append('silence')\n",
    "\n",
    "print('LABEL : ', label_value)\n",
    "\n",
    "\n",
    "# Text 데이터를 index 데이터로 변환 (key:value 쌍으로)\n",
    "new_label_value = dict()\n",
    "for i, l in enumerate(label_value):\n",
    "    new_label_value[l] = i\n",
    "label_value = new_label_value\n",
    "\n",
    "print('Indexed LABEL : ', new_label_value)"
   ]
  },
  {
   "cell_type": "code",
   "execution_count": 5,
   "metadata": {},
   "outputs": [
    {
     "output_type": "stream",
     "name": "stdout",
     "text": [
      "[ 3  3  3 ... 11 11 11]\n50620\n"
     ]
    }
   ],
   "source": [
    "temp = []\n",
    "for v in speech_data[\"label_vals\"]:\n",
    "    temp.append(label_value[v[0]])\n",
    "label_data = np.array(temp)\n",
    "\n",
    "print(label_data)\n",
    "print(len(label_data))"
   ]
  },
  {
   "source": [
    "<br>\n",
    "\n",
    "### Train / Test 데이터셋 분리\n",
    "\n",
    "<br>"
   ],
   "cell_type": "markdown",
   "metadata": {}
  },
  {
   "cell_type": "code",
   "execution_count": 6,
   "metadata": {},
   "outputs": [
    {
     "output_type": "stream",
     "name": "stdout",
     "text": [
      "[[ 2.3963639e-04  7.8675558e-04  7.8440696e-04 ...  7.0295343e-04\n   4.9144594e-04  5.0215033e-04]\n [ 2.2135153e-02  3.4355827e-02  2.7554033e-02 ... -2.2259420e-02\n  -2.3079382e-02 -2.9926768e-02]\n [ 3.3478206e-03  4.8203650e-03  6.0471768e-05 ...  2.6089242e-03\n   2.1077110e-03 -1.9154788e-03]\n ...\n [ 5.0939294e-04  1.5109043e-03  2.5726217e-03 ...  2.2586557e-04\n  -1.3764207e-03 -6.7795359e-04]\n [ 6.1651310e-03  1.5652407e-02  1.1633516e-02 ... -8.8950014e-03\n  -7.6976838e-03 -9.0062385e-03]\n [-9.6912291e-03 -5.3087939e-03  7.4155699e-03 ... -1.8384401e-02\n  -5.4885251e-03  8.3046232e-04]]\n✅\n"
     ]
    }
   ],
   "source": [
    "\"\"\"\n",
    "sklearn으로 train셋과 test셋 분리\n",
    "\"\"\"\n",
    "\n",
    "from sklearn.model_selection import train_test_split\n",
    "\n",
    "sr = 8000\n",
    "train_wav, test_wav, train_label, test_label = train_test_split(speech_data[\"wav_vals\"], \n",
    "                                                                label_data, \n",
    "                                                                test_size=0.1,\n",
    "                                                                shuffle=True)\n",
    "print(train_wav)\n",
    "\n",
    "train_wav = train_wav.reshape([-1, sr, 1]) # add channel for CNN\n",
    "test_wav = test_wav.reshape([-1, sr, 1])\n",
    "print(\"✅\")"
   ]
  },
  {
   "cell_type": "code",
   "execution_count": 7,
   "metadata": {},
   "outputs": [
    {
     "output_type": "stream",
     "name": "stdout",
     "text": [
      "train data :  (45558, 8000, 1)\ntrain labels :  (45558,)\ntest data :  (5062, 8000, 1)\ntest labels :  (5062,)\n✅\n"
     ]
    }
   ],
   "source": [
    "print(\"train data : \", train_wav.shape)\n",
    "print(\"train labels : \", train_label.shape)\n",
    "print(\"test data : \", test_wav.shape)\n",
    "print(\"test labels : \", test_label.shape)\n",
    "print(\"✅\")"
   ]
  },
  {
   "source": [
    "<br>\n",
    "\n",
    "### 하이퍼파라미터 세팅\n",
    "\n",
    "<br>"
   ],
   "cell_type": "markdown",
   "metadata": {}
  },
  {
   "cell_type": "code",
   "execution_count": 8,
   "metadata": {},
   "outputs": [
    {
     "output_type": "execute_result",
     "data": {
      "text/plain": [
       "'/home/ssac29/aiffel/speech_recognition/models/wav'"
      ]
     },
     "metadata": {},
     "execution_count": 8
    }
   ],
   "source": [
    "\"\"\"\n",
    "학습을 위한 하이퍼파라미터 설정\n",
    "모델 체크포인트 저장을 위한 경로 설정\n",
    "( 이후에 모델 체크포인트 Callback 함수를 설정하거나 모델을 불러올 때 사용 )\n",
    "\"\"\"\n",
    "\n",
    "batch_size = 32                     # batch_size=32, max_epochs=10으로 세팅한 경우라면 30분 가량 소요\n",
    "max_epochs = 10\n",
    "\n",
    "# the save point\n",
    "checkpoint_dir = os.getenv('HOME')+'/aiffel/speech_recognition/models/wav'\n",
    "\n",
    "checkpoint_dir"
   ]
  },
  {
   "source": [
    "<br>\n",
    "\n",
    "### 데이터 전처리\n",
    "\n",
    "<br>"
   ],
   "cell_type": "markdown",
   "metadata": {}
  },
  {
   "source": [
    "tf.data.Dataset을 이용해서 데이터셋을 구성하겠습니다. Tensorflow에 포함된 이 데이터셋 관리 패키지는 데이터셋 전처리, 배치처리 등을 쉽게 할 수 있도록 해 줍니다. 자주 사용하게 되니 사용법을 잘 익혀 둡시다.\n",
    "\n",
    "tf.data.Dataset.from_tensor_slices 함수에 return 받길 원하는 데이터를 튜플 (data, label) 형태로 넣어서 사용할 수 있습니다.\n",
    "\n",
    "map 함수는 dataset이 데이터를 불러올때마다 동작시킬 데이터 전처리 함수를 매핑해 주는 역할을 합니다. 첫번째 map 함수는 from_tensor_slice 에 입력한 튜플 형태로 데이터를 받으며 return 값으로 어떤 데이터를 반환할지 결정합니다.\n",
    "map 함수는 중첩해서 사용이 가능합니다.\n",
    "\n",
    "<br>"
   ],
   "cell_type": "markdown",
   "metadata": {}
  },
  {
   "cell_type": "code",
   "execution_count": 9,
   "metadata": {},
   "outputs": [
    {
     "output_type": "stream",
     "name": "stdout",
     "text": [
      "✅\n"
     ]
    }
   ],
   "source": [
    "\"\"\"\n",
    "데이터 전처리 함수 작성 ( map 함수에 넘겨주기 위해 )\n",
    "\"\"\"\n",
    "\n",
    "def one_hot_label(wav, label):\n",
    "    label = tf.one_hot(label, depth=12)\n",
    "    return wav, label\n",
    "print(\"✅\")"
   ]
  },
  {
   "cell_type": "code",
   "execution_count": 10,
   "metadata": {},
   "outputs": [
    {
     "output_type": "stream",
     "name": "stdout",
     "text": [
      "<BatchDataset shapes: ((None, 8000, 1), (None, 12)), types: (tf.float32, tf.float32)>\n<BatchDataset shapes: ((None, 8000, 1), (None, 12)), types: (tf.float32, tf.float32)>\n✅\n"
     ]
    }
   ],
   "source": [
    "\"\"\"\n",
    "tf.data.Dataset 함수를 구성\n",
    "\"\"\"\n",
    "\n",
    "\n",
    "import tensorflow as tf\n",
    "\n",
    "# for train\n",
    "train_dataset = tf.data.Dataset.from_tensor_slices((train_wav, train_label))\n",
    "train_dataset = train_dataset.map(one_hot_label)\n",
    "train_dataset = train_dataset.repeat().batch(batch_size=batch_size)\n",
    "                                            # batch()는 dataset에서 제공하는 튜플 형태의 데이터를 얼마나 가져올지 결정하는 함수\n",
    "print(train_dataset)\n",
    "\n",
    "# for test\n",
    "test_dataset = tf.data.Dataset.from_tensor_slices((test_wav, test_label))\n",
    "test_dataset = test_dataset.map(one_hot_label)\n",
    "test_dataset = test_dataset.batch(batch_size=batch_size)\n",
    "print(test_dataset)\n",
    "print(\"✅\")"
   ]
  },
  {
   "source": [
    "<br>\n",
    "\n",
    "### Model construction &ensp; : Wave classification 모델 구현\n",
    "\n",
    "<br>"
   ],
   "cell_type": "markdown",
   "metadata": {}
  },
  {
   "cell_type": "code",
   "execution_count": 11,
   "metadata": {},
   "outputs": [
    {
     "output_type": "stream",
     "name": "stdout",
     "text": [
      "Model: \"model\"\n_________________________________________________________________\nLayer (type)                 Output Shape              Param #   \n=================================================================\ninput_1 (InputLayer)         [(None, 8000, 1)]         0         \n_________________________________________________________________\nconv1d (Conv1D)              (None, 8000, 32)          320       \n_________________________________________________________________\nconv1d_1 (Conv1D)            (None, 8000, 32)          9248      \n_________________________________________________________________\nmax_pooling1d (MaxPooling1D) (None, 4000, 32)          0         \n_________________________________________________________________\nconv1d_2 (Conv1D)            (None, 4000, 64)          18496     \n_________________________________________________________________\nconv1d_3 (Conv1D)            (None, 4000, 64)          36928     \n_________________________________________________________________\nmax_pooling1d_1 (MaxPooling1 (None, 2000, 64)          0         \n_________________________________________________________________\nconv1d_4 (Conv1D)            (None, 2000, 128)         73856     \n_________________________________________________________________\nconv1d_5 (Conv1D)            (None, 2000, 128)         147584    \n_________________________________________________________________\nconv1d_6 (Conv1D)            (None, 2000, 128)         147584    \n_________________________________________________________________\nmax_pooling1d_2 (MaxPooling1 (None, 1000, 128)         0         \n_________________________________________________________________\nconv1d_7 (Conv1D)            (None, 1000, 256)         295168    \n_________________________________________________________________\nconv1d_8 (Conv1D)            (None, 1000, 256)         590080    \n_________________________________________________________________\nconv1d_9 (Conv1D)            (None, 1000, 256)         590080    \n_________________________________________________________________\nmax_pooling1d_3 (MaxPooling1 (None, 500, 256)          0         \n_________________________________________________________________\ndropout (Dropout)            (None, 500, 256)          0         \n_________________________________________________________________\nflatten (Flatten)            (None, 128000)            0         \n_________________________________________________________________\ndense (Dense)                (None, 256)               32768256  \n_________________________________________________________________\nbatch_normalization (BatchNo (None, 256)               1024      \n_________________________________________________________________\nactivation (Activation)      (None, 256)               0         \n_________________________________________________________________\ndense_1 (Dense)              (None, 12)                3084      \n=================================================================\nTotal params: 34,681,708\nTrainable params: 34,681,196\nNon-trainable params: 512\n_________________________________________________________________\n"
     ]
    }
   ],
   "source": [
    "\"\"\"\n",
    "Model\n",
    "Audio 데이터는 1차원 데이터이기 때문에 데이터 형식에 맞도록 모델을 구성\n",
    "Conv1D layer를 이용해서 모델을 구성\n",
    "Conv, batch norm, dropout, dense layer 등을 이용해 모델을 구성\n",
    "\"\"\"\n",
    "\n",
    "from tensorflow.keras import layers\n",
    "\n",
    "input_tensor = layers.Input(shape=(sr, 1))      # input data로 1차원 binary 데이터의 (sp, 1)\n",
    "\n",
    "x = layers.Conv1D(32, 9, padding='same', activation='relu')(input_tensor)\n",
    "x = layers.Conv1D(32, 9, padding='same', activation='relu')(x)\n",
    "x = layers.MaxPool1D()(x)\n",
    "\n",
    "x = layers.Conv1D(64, 9, padding='same', activation='relu')(x)\n",
    "x = layers.Conv1D(64, 9, padding='same', activation='relu')(x)\n",
    "x = layers.MaxPool1D()(x)\n",
    "\n",
    "x = layers.Conv1D(128, 9, padding='same', activation='relu')(x)\n",
    "x = layers.Conv1D(128, 9, padding='same', activation='relu')(x)\n",
    "x = layers.Conv1D(128, 9, padding='same', activation='relu')(x)\n",
    "x = layers.MaxPool1D()(x)\n",
    "\n",
    "x = layers.Conv1D(256, 9, padding='same', activation='relu')(x)\n",
    "x = layers.Conv1D(256, 9, padding='same', activation='relu')(x)\n",
    "x = layers.Conv1D(256, 9, padding='same', activation='relu')(x)\n",
    "x = layers.MaxPool1D()(x)\n",
    "x = layers.Dropout(0.3)(x)\n",
    "\n",
    "x = layers.Flatten()(x)\n",
    "x = layers.Dense(256)(x)\n",
    "x = layers.BatchNormalization()(x)\n",
    "x = layers.Activation('relu')(x)\n",
    "\n",
    "output_tensor = layers.Dense(12)(x)\n",
    "\n",
    "model_wav = tf.keras.Model(input_tensor, output_tensor)\n",
    "\n",
    "model_wav.summary()"
   ]
  },
  {
   "cell_type": "code",
   "execution_count": 12,
   "metadata": {},
   "outputs": [
    {
     "output_type": "stream",
     "name": "stdout",
     "text": [
      "✅\n"
     ]
    }
   ],
   "source": [
    "\"\"\"\n",
    "Loss\n",
    "라벨이 될 수 있는 12개의 단어 class를 구분하기 위해서는 multi-class classification이 필요\n",
    "이를 위한 Loss로 Categorical Cross-Entropy loss를 사용\n",
    "\"\"\"\n",
    "\n",
    "optimizer=tf.keras.optimizers.Adam(1e-4)\n",
    "model_wav.compile(loss=tf.keras.losses.CategoricalCrossentropy(from_logits=True),\n",
    "             optimizer=optimizer,\n",
    "             metrics=['accuracy'])\n",
    "print(\"✅\")"
   ]
  },
  {
   "source": [
    "<br>\n",
    "\n",
    "### 모델 학습\n",
    "\n",
    "<br>"
   ],
   "cell_type": "markdown",
   "metadata": {}
  },
  {
   "source": [
    "__Callback__ <br>\n",
    "\n",
    "- model.fit 함수를 이용할 때, callback 함수를 이용해서 학습 중간 중간 원하는 동작을 하도록 설정할 수 있습니다. <br>\n",
    "- 모델을 재사용하기위해서 모델 가중치를 저장하는 callback 함수를 추가해보겠습니다."
   ],
   "cell_type": "markdown",
   "metadata": {}
  },
  {
   "cell_type": "code",
   "execution_count": 13,
   "metadata": {},
   "outputs": [
    {
     "output_type": "stream",
     "name": "stdout",
     "text": [
      "✅\n"
     ]
    }
   ],
   "source": [
    "\"\"\"\n",
    "Model Checkpoint callback은 \n",
    "모델을 학습을 진행하며, fit 함수내 다양한 인자를 지정해 모니터하며 동작하게 설정할 수 있습니다.\n",
    "현재 모델은 validation loss를 모니터하며, loss가 낮아지면 모델 파라미터를 저장하도록 구성되어 있습니다.\n",
    "\"\"\"\n",
    "\n",
    "# 하이퍼파라미터 세팅의 checkpoint_dir 사용\n",
    "\n",
    "cp_callback = tf.keras.callbacks.ModelCheckpoint(checkpoint_dir,\n",
    "                                                 save_weights_only=True,\n",
    "                                                 monitor='val_loss',\n",
    "                                                 mode='auto',\n",
    "                                                 save_best_only=True,\n",
    "                                                 verbose=1)\n",
    "print(\"✅\")"
   ]
  },
  {
   "cell_type": "code",
   "execution_count": 14,
   "metadata": {},
   "outputs": [
    {
     "output_type": "stream",
     "name": "stdout",
     "text": [
      "Epoch 1/10\n",
      "1423/1423 [==============================] - ETA: 0s - loss: 1.3975 - accuracy: 0.5419\n",
      "Epoch 00001: val_loss improved from inf to 1.14683, saving model to /home/ssac29/aiffel/speech_recognition/models/wav\n",
      "1423/1423 [==============================] - 166s 117ms/step - loss: 1.3975 - accuracy: 0.5419 - val_loss: 1.1468 - val_accuracy: 0.6157\n",
      "Epoch 2/10\n",
      "1423/1423 [==============================] - ETA: 0s - loss: 0.7946 - accuracy: 0.7546\n",
      "Epoch 00002: val_loss improved from 1.14683 to 0.75176, saving model to /home/ssac29/aiffel/speech_recognition/models/wav\n",
      "1423/1423 [==============================] - 168s 118ms/step - loss: 0.7946 - accuracy: 0.7546 - val_loss: 0.7518 - val_accuracy: 0.7526\n",
      "Epoch 3/10\n",
      "1423/1423 [==============================] - ETA: 0s - loss: 0.5585 - accuracy: 0.8301\n",
      "Epoch 00003: val_loss improved from 0.75176 to 0.66338, saving model to /home/ssac29/aiffel/speech_recognition/models/wav\n",
      "1423/1423 [==============================] - 169s 119ms/step - loss: 0.5585 - accuracy: 0.8301 - val_loss: 0.6634 - val_accuracy: 0.7805\n",
      "Epoch 4/10\n",
      "1423/1423 [==============================] - ETA: 0s - loss: 0.3910 - accuracy: 0.8862\n",
      "Epoch 00004: val_loss improved from 0.66338 to 0.48128, saving model to /home/ssac29/aiffel/speech_recognition/models/wav\n",
      "1423/1423 [==============================] - 168s 118ms/step - loss: 0.3910 - accuracy: 0.8862 - val_loss: 0.4813 - val_accuracy: 0.8439\n",
      "Epoch 5/10\n",
      "1423/1423 [==============================] - ETA: 0s - loss: 0.2670 - accuracy: 0.9274\n",
      "Epoch 00005: val_loss improved from 0.48128 to 0.34956, saving model to /home/ssac29/aiffel/speech_recognition/models/wav\n",
      "1423/1423 [==============================] - 169s 119ms/step - loss: 0.2670 - accuracy: 0.9274 - val_loss: 0.3496 - val_accuracy: 0.8837\n",
      "Epoch 6/10\n",
      "1423/1423 [==============================] - ETA: 0s - loss: 0.1809 - accuracy: 0.9544\n",
      "Epoch 00006: val_loss improved from 0.34956 to 0.31334, saving model to /home/ssac29/aiffel/speech_recognition/models/wav\n",
      "1423/1423 [==============================] - 169s 119ms/step - loss: 0.1809 - accuracy: 0.9544 - val_loss: 0.3133 - val_accuracy: 0.8970\n",
      "Epoch 7/10\n",
      "1423/1423 [==============================] - ETA: 0s - loss: 0.1362 - accuracy: 0.9671\n",
      "Epoch 00007: val_loss did not improve from 0.31334\n",
      "1423/1423 [==============================] - 168s 118ms/step - loss: 0.1362 - accuracy: 0.9671 - val_loss: 0.3495 - val_accuracy: 0.8892\n",
      "Epoch 8/10\n",
      "1423/1423 [==============================] - ETA: 0s - loss: 0.0977 - accuracy: 0.9779\n",
      "Epoch 00008: val_loss improved from 0.31334 to 0.28778, saving model to /home/ssac29/aiffel/speech_recognition/models/wav\n",
      "1423/1423 [==============================] - 169s 118ms/step - loss: 0.0977 - accuracy: 0.9779 - val_loss: 0.2878 - val_accuracy: 0.9106\n",
      "Epoch 9/10\n",
      "1423/1423 [==============================] - ETA: 0s - loss: 0.0771 - accuracy: 0.9825\n",
      "Epoch 00009: val_loss improved from 0.28778 to 0.28660, saving model to /home/ssac29/aiffel/speech_recognition/models/wav\n",
      "1423/1423 [==============================] - 169s 119ms/step - loss: 0.0771 - accuracy: 0.9825 - val_loss: 0.2866 - val_accuracy: 0.9150\n",
      "Epoch 10/10\n",
      "1423/1423 [==============================] - ETA: 0s - loss: 0.0648 - accuracy: 0.9846\n",
      "Epoch 00010: val_loss did not improve from 0.28660\n",
      "1423/1423 [==============================] - 168s 118ms/step - loss: 0.0648 - accuracy: 0.9846 - val_loss: 0.3272 - val_accuracy: 0.9100\n",
      "✅\n"
     ]
    }
   ],
   "source": [
    "#30분 내외 소요 (메모리 사용량에 주의해 주세요.)\n",
    "history_wav = model_wav.fit(train_dataset, epochs=max_epochs,\n",
    "                    steps_per_epoch=len(train_wav) // batch_size,\n",
    "                    validation_data=test_dataset,\n",
    "                    validation_steps=len(test_wav) // batch_size,\n",
    "                    callbacks=[cp_callback]\n",
    "                    )\n",
    "print(\"✅\")"
   ]
  },
  {
   "source": [
    "<br>\n",
    "\n",
    "### 학습결과 plot\n",
    "\n",
    "<br>"
   ],
   "cell_type": "markdown",
   "metadata": {}
  },
  {
   "cell_type": "code",
   "execution_count": 15,
   "metadata": {},
   "outputs": [
    {
     "output_type": "display_data",
     "data": {
      "text/plain": "<Figure size 576x576 with 2 Axes>",
      "image/svg+xml": "<?xml version=\"1.0\" encoding=\"utf-8\" standalone=\"no\"?>\n<!DOCTYPE svg PUBLIC \"-//W3C//DTD SVG 1.1//EN\"\n  \"http://www.w3.org/Graphics/SVG/1.1/DTD/svg11.dtd\">\n<!-- Created with matplotlib (https://matplotlib.org/) -->\n<svg height=\"481.07625pt\" version=\"1.1\" viewBox=\"0 0 483.703125 481.07625\" width=\"483.703125pt\" xmlns=\"http://www.w3.org/2000/svg\" xmlns:xlink=\"http://www.w3.org/1999/xlink\">\n <metadata>\n  <rdf:RDF xmlns:cc=\"http://creativecommons.org/ns#\" xmlns:dc=\"http://purl.org/dc/elements/1.1/\" xmlns:rdf=\"http://www.w3.org/1999/02/22-rdf-syntax-ns#\">\n   <cc:Work>\n    <dc:type rdf:resource=\"http://purl.org/dc/dcmitype/StillImage\"/>\n    <dc:date>2021-01-27T12:00:55.651267</dc:date>\n    <dc:format>image/svg+xml</dc:format>\n    <dc:creator>\n     <cc:Agent>\n      <dc:title>Matplotlib v3.3.2, https://matplotlib.org/</dc:title>\n     </cc:Agent>\n    </dc:creator>\n   </cc:Work>\n  </rdf:RDF>\n </metadata>\n <defs>\n  <style type=\"text/css\">*{stroke-linecap:butt;stroke-linejoin:round;}</style>\n </defs>\n <g id=\"figure_1\">\n  <g id=\"patch_1\">\n   <path d=\"M 0 481.07625 \nL 483.703125 481.07625 \nL 483.703125 0 \nL 0 0 \nz\n\" style=\"fill:none;\"/>\n  </g>\n  <g id=\"axes_1\">\n   <g id=\"patch_2\">\n    <path d=\"M 30.103125 457.198125 \nL 233.012216 457.198125 \nL 233.012216 22.318125 \nL 30.103125 22.318125 \nz\n\" style=\"fill:#ffffff;\"/>\n   </g>\n   <g id=\"matplotlib.axis_1\">\n    <g id=\"xtick_1\">\n     <g id=\"line2d_1\">\n      <defs>\n       <path d=\"M 0 0 \nL 0 3.5 \n\" id=\"m84b7e38865\" style=\"stroke:#000000;stroke-width:0.8;\"/>\n      </defs>\n      <g>\n       <use style=\"stroke:#000000;stroke-width:0.8;\" x=\"39.326265\" xlink:href=\"#m84b7e38865\" y=\"457.198125\"/>\n      </g>\n     </g>\n     <g id=\"text_1\">\n      <!-- 0 -->\n      <g transform=\"translate(36.145015 471.796562)scale(0.1 -0.1)\">\n       <defs>\n        <path d=\"M 31.78125 66.40625 \nQ 24.171875 66.40625 20.328125 58.90625 \nQ 16.5 51.421875 16.5 36.375 \nQ 16.5 21.390625 20.328125 13.890625 \nQ 24.171875 6.390625 31.78125 6.390625 \nQ 39.453125 6.390625 43.28125 13.890625 \nQ 47.125 21.390625 47.125 36.375 \nQ 47.125 51.421875 43.28125 58.90625 \nQ 39.453125 66.40625 31.78125 66.40625 \nz\nM 31.78125 74.21875 \nQ 44.046875 74.21875 50.515625 64.515625 \nQ 56.984375 54.828125 56.984375 36.375 \nQ 56.984375 17.96875 50.515625 8.265625 \nQ 44.046875 -1.421875 31.78125 -1.421875 \nQ 19.53125 -1.421875 13.0625 8.265625 \nQ 6.59375 17.96875 6.59375 36.375 \nQ 6.59375 54.828125 13.0625 64.515625 \nQ 19.53125 74.21875 31.78125 74.21875 \nz\n\" id=\"DejaVuSans-48\"/>\n       </defs>\n       <use xlink:href=\"#DejaVuSans-48\"/>\n      </g>\n     </g>\n    </g>\n    <g id=\"xtick_2\">\n     <g id=\"line2d_2\">\n      <g>\n       <use style=\"stroke:#000000;stroke-width:0.8;\" x=\"80.318001\" xlink:href=\"#m84b7e38865\" y=\"457.198125\"/>\n      </g>\n     </g>\n     <g id=\"text_2\">\n      <!-- 2 -->\n      <g transform=\"translate(77.136751 471.796562)scale(0.1 -0.1)\">\n       <defs>\n        <path d=\"M 19.1875 8.296875 \nL 53.609375 8.296875 \nL 53.609375 0 \nL 7.328125 0 \nL 7.328125 8.296875 \nQ 12.9375 14.109375 22.625 23.890625 \nQ 32.328125 33.6875 34.8125 36.53125 \nQ 39.546875 41.84375 41.421875 45.53125 \nQ 43.3125 49.21875 43.3125 52.78125 \nQ 43.3125 58.59375 39.234375 62.25 \nQ 35.15625 65.921875 28.609375 65.921875 \nQ 23.96875 65.921875 18.8125 64.3125 \nQ 13.671875 62.703125 7.8125 59.421875 \nL 7.8125 69.390625 \nQ 13.765625 71.78125 18.9375 73 \nQ 24.125 74.21875 28.421875 74.21875 \nQ 39.75 74.21875 46.484375 68.546875 \nQ 53.21875 62.890625 53.21875 53.421875 \nQ 53.21875 48.921875 51.53125 44.890625 \nQ 49.859375 40.875 45.40625 35.40625 \nQ 44.1875 33.984375 37.640625 27.21875 \nQ 31.109375 20.453125 19.1875 8.296875 \nz\n\" id=\"DejaVuSans-50\"/>\n       </defs>\n       <use xlink:href=\"#DejaVuSans-50\"/>\n      </g>\n     </g>\n    </g>\n    <g id=\"xtick_3\">\n     <g id=\"line2d_3\">\n      <g>\n       <use style=\"stroke:#000000;stroke-width:0.8;\" x=\"121.309737\" xlink:href=\"#m84b7e38865\" y=\"457.198125\"/>\n      </g>\n     </g>\n     <g id=\"text_3\">\n      <!-- 4 -->\n      <g transform=\"translate(118.128487 471.796562)scale(0.1 -0.1)\">\n       <defs>\n        <path d=\"M 37.796875 64.3125 \nL 12.890625 25.390625 \nL 37.796875 25.390625 \nz\nM 35.203125 72.90625 \nL 47.609375 72.90625 \nL 47.609375 25.390625 \nL 58.015625 25.390625 \nL 58.015625 17.1875 \nL 47.609375 17.1875 \nL 47.609375 0 \nL 37.796875 0 \nL 37.796875 17.1875 \nL 4.890625 17.1875 \nL 4.890625 26.703125 \nz\n\" id=\"DejaVuSans-52\"/>\n       </defs>\n       <use xlink:href=\"#DejaVuSans-52\"/>\n      </g>\n     </g>\n    </g>\n    <g id=\"xtick_4\">\n     <g id=\"line2d_4\">\n      <g>\n       <use style=\"stroke:#000000;stroke-width:0.8;\" x=\"162.301472\" xlink:href=\"#m84b7e38865\" y=\"457.198125\"/>\n      </g>\n     </g>\n     <g id=\"text_4\">\n      <!-- 6 -->\n      <g transform=\"translate(159.120222 471.796562)scale(0.1 -0.1)\">\n       <defs>\n        <path d=\"M 33.015625 40.375 \nQ 26.375 40.375 22.484375 35.828125 \nQ 18.609375 31.296875 18.609375 23.390625 \nQ 18.609375 15.53125 22.484375 10.953125 \nQ 26.375 6.390625 33.015625 6.390625 \nQ 39.65625 6.390625 43.53125 10.953125 \nQ 47.40625 15.53125 47.40625 23.390625 \nQ 47.40625 31.296875 43.53125 35.828125 \nQ 39.65625 40.375 33.015625 40.375 \nz\nM 52.59375 71.296875 \nL 52.59375 62.3125 \nQ 48.875 64.0625 45.09375 64.984375 \nQ 41.3125 65.921875 37.59375 65.921875 \nQ 27.828125 65.921875 22.671875 59.328125 \nQ 17.53125 52.734375 16.796875 39.40625 \nQ 19.671875 43.65625 24.015625 45.921875 \nQ 28.375 48.1875 33.59375 48.1875 \nQ 44.578125 48.1875 50.953125 41.515625 \nQ 57.328125 34.859375 57.328125 23.390625 \nQ 57.328125 12.15625 50.6875 5.359375 \nQ 44.046875 -1.421875 33.015625 -1.421875 \nQ 20.359375 -1.421875 13.671875 8.265625 \nQ 6.984375 17.96875 6.984375 36.375 \nQ 6.984375 53.65625 15.1875 63.9375 \nQ 23.390625 74.21875 37.203125 74.21875 \nQ 40.921875 74.21875 44.703125 73.484375 \nQ 48.484375 72.75 52.59375 71.296875 \nz\n\" id=\"DejaVuSans-54\"/>\n       </defs>\n       <use xlink:href=\"#DejaVuSans-54\"/>\n      </g>\n     </g>\n    </g>\n    <g id=\"xtick_5\">\n     <g id=\"line2d_5\">\n      <g>\n       <use style=\"stroke:#000000;stroke-width:0.8;\" x=\"203.293208\" xlink:href=\"#m84b7e38865\" y=\"457.198125\"/>\n      </g>\n     </g>\n     <g id=\"text_5\">\n      <!-- 8 -->\n      <g transform=\"translate(200.111958 471.796562)scale(0.1 -0.1)\">\n       <defs>\n        <path d=\"M 31.78125 34.625 \nQ 24.75 34.625 20.71875 30.859375 \nQ 16.703125 27.09375 16.703125 20.515625 \nQ 16.703125 13.921875 20.71875 10.15625 \nQ 24.75 6.390625 31.78125 6.390625 \nQ 38.8125 6.390625 42.859375 10.171875 \nQ 46.921875 13.96875 46.921875 20.515625 \nQ 46.921875 27.09375 42.890625 30.859375 \nQ 38.875 34.625 31.78125 34.625 \nz\nM 21.921875 38.8125 \nQ 15.578125 40.375 12.03125 44.71875 \nQ 8.5 49.078125 8.5 55.328125 \nQ 8.5 64.0625 14.71875 69.140625 \nQ 20.953125 74.21875 31.78125 74.21875 \nQ 42.671875 74.21875 48.875 69.140625 \nQ 55.078125 64.0625 55.078125 55.328125 \nQ 55.078125 49.078125 51.53125 44.71875 \nQ 48 40.375 41.703125 38.8125 \nQ 48.828125 37.15625 52.796875 32.3125 \nQ 56.78125 27.484375 56.78125 20.515625 \nQ 56.78125 9.90625 50.3125 4.234375 \nQ 43.84375 -1.421875 31.78125 -1.421875 \nQ 19.734375 -1.421875 13.25 4.234375 \nQ 6.78125 9.90625 6.78125 20.515625 \nQ 6.78125 27.484375 10.78125 32.3125 \nQ 14.796875 37.15625 21.921875 38.8125 \nz\nM 18.3125 54.390625 \nQ 18.3125 48.734375 21.84375 45.5625 \nQ 25.390625 42.390625 31.78125 42.390625 \nQ 38.140625 42.390625 41.71875 45.5625 \nQ 45.3125 48.734375 45.3125 54.390625 \nQ 45.3125 60.0625 41.71875 63.234375 \nQ 38.140625 66.40625 31.78125 66.40625 \nQ 25.390625 66.40625 21.84375 63.234375 \nQ 18.3125 60.0625 18.3125 54.390625 \nz\n\" id=\"DejaVuSans-56\"/>\n       </defs>\n       <use xlink:href=\"#DejaVuSans-56\"/>\n      </g>\n     </g>\n    </g>\n   </g>\n   <g id=\"matplotlib.axis_2\">\n    <g id=\"ytick_1\">\n     <g id=\"line2d_6\">\n      <defs>\n       <path d=\"M 0 0 \nL -3.5 0 \n\" id=\"mcb5cdf14de\" style=\"stroke:#000000;stroke-width:0.8;\"/>\n      </defs>\n      <g>\n       <use style=\"stroke:#000000;stroke-width:0.8;\" x=\"30.103125\" xlink:href=\"#mcb5cdf14de\" y=\"385.515544\"/>\n      </g>\n     </g>\n     <g id=\"text_6\">\n      <!-- 0.6 -->\n      <g transform=\"translate(7.2 389.314763)scale(0.1 -0.1)\">\n       <defs>\n        <path d=\"M 10.6875 12.40625 \nL 21 12.40625 \nL 21 0 \nL 10.6875 0 \nz\n\" id=\"DejaVuSans-46\"/>\n       </defs>\n       <use xlink:href=\"#DejaVuSans-48\"/>\n       <use x=\"63.623047\" xlink:href=\"#DejaVuSans-46\"/>\n       <use x=\"95.410156\" xlink:href=\"#DejaVuSans-54\"/>\n      </g>\n     </g>\n    </g>\n    <g id=\"ytick_2\">\n     <g id=\"line2d_7\">\n      <g>\n       <use style=\"stroke:#000000;stroke-width:0.8;\" x=\"30.103125\" xlink:href=\"#mcb5cdf14de\" y=\"296.226529\"/>\n      </g>\n     </g>\n     <g id=\"text_7\">\n      <!-- 0.7 -->\n      <g transform=\"translate(7.2 300.025748)scale(0.1 -0.1)\">\n       <defs>\n        <path d=\"M 8.203125 72.90625 \nL 55.078125 72.90625 \nL 55.078125 68.703125 \nL 28.609375 0 \nL 18.3125 0 \nL 43.21875 64.59375 \nL 8.203125 64.59375 \nz\n\" id=\"DejaVuSans-55\"/>\n       </defs>\n       <use xlink:href=\"#DejaVuSans-48\"/>\n       <use x=\"63.623047\" xlink:href=\"#DejaVuSans-46\"/>\n       <use x=\"95.410156\" xlink:href=\"#DejaVuSans-55\"/>\n      </g>\n     </g>\n    </g>\n    <g id=\"ytick_3\">\n     <g id=\"line2d_8\">\n      <g>\n       <use style=\"stroke:#000000;stroke-width:0.8;\" x=\"30.103125\" xlink:href=\"#mcb5cdf14de\" y=\"206.937514\"/>\n      </g>\n     </g>\n     <g id=\"text_8\">\n      <!-- 0.8 -->\n      <g transform=\"translate(7.2 210.736733)scale(0.1 -0.1)\">\n       <use xlink:href=\"#DejaVuSans-48\"/>\n       <use x=\"63.623047\" xlink:href=\"#DejaVuSans-46\"/>\n       <use x=\"95.410156\" xlink:href=\"#DejaVuSans-56\"/>\n      </g>\n     </g>\n    </g>\n    <g id=\"ytick_4\">\n     <g id=\"line2d_9\">\n      <g>\n       <use style=\"stroke:#000000;stroke-width:0.8;\" x=\"30.103125\" xlink:href=\"#mcb5cdf14de\" y=\"117.648499\"/>\n      </g>\n     </g>\n     <g id=\"text_9\">\n      <!-- 0.9 -->\n      <g transform=\"translate(7.2 121.447718)scale(0.1 -0.1)\">\n       <defs>\n        <path d=\"M 10.984375 1.515625 \nL 10.984375 10.5 \nQ 14.703125 8.734375 18.5 7.8125 \nQ 22.3125 6.890625 25.984375 6.890625 \nQ 35.75 6.890625 40.890625 13.453125 \nQ 46.046875 20.015625 46.78125 33.40625 \nQ 43.953125 29.203125 39.59375 26.953125 \nQ 35.25 24.703125 29.984375 24.703125 \nQ 19.046875 24.703125 12.671875 31.3125 \nQ 6.296875 37.9375 6.296875 49.421875 \nQ 6.296875 60.640625 12.9375 67.421875 \nQ 19.578125 74.21875 30.609375 74.21875 \nQ 43.265625 74.21875 49.921875 64.515625 \nQ 56.59375 54.828125 56.59375 36.375 \nQ 56.59375 19.140625 48.40625 8.859375 \nQ 40.234375 -1.421875 26.421875 -1.421875 \nQ 22.703125 -1.421875 18.890625 -0.6875 \nQ 15.09375 0.046875 10.984375 1.515625 \nz\nM 30.609375 32.421875 \nQ 37.25 32.421875 41.125 36.953125 \nQ 45.015625 41.5 45.015625 49.421875 \nQ 45.015625 57.28125 41.125 61.84375 \nQ 37.25 66.40625 30.609375 66.40625 \nQ 23.96875 66.40625 20.09375 61.84375 \nQ 16.21875 57.28125 16.21875 49.421875 \nQ 16.21875 41.5 20.09375 36.953125 \nQ 23.96875 32.421875 30.609375 32.421875 \nz\n\" id=\"DejaVuSans-57\"/>\n       </defs>\n       <use xlink:href=\"#DejaVuSans-48\"/>\n       <use x=\"63.623047\" xlink:href=\"#DejaVuSans-46\"/>\n       <use x=\"95.410156\" xlink:href=\"#DejaVuSans-57\"/>\n      </g>\n     </g>\n    </g>\n    <g id=\"ytick_5\">\n     <g id=\"line2d_10\">\n      <g>\n       <use style=\"stroke:#000000;stroke-width:0.8;\" x=\"30.103125\" xlink:href=\"#mcb5cdf14de\" y=\"28.359484\"/>\n      </g>\n     </g>\n     <g id=\"text_10\">\n      <!-- 1.0 -->\n      <g transform=\"translate(7.2 32.158703)scale(0.1 -0.1)\">\n       <defs>\n        <path d=\"M 12.40625 8.296875 \nL 28.515625 8.296875 \nL 28.515625 63.921875 \nL 10.984375 60.40625 \nL 10.984375 69.390625 \nL 28.421875 72.90625 \nL 38.28125 72.90625 \nL 38.28125 8.296875 \nL 54.390625 8.296875 \nL 54.390625 0 \nL 12.40625 0 \nz\n\" id=\"DejaVuSans-49\"/>\n       </defs>\n       <use xlink:href=\"#DejaVuSans-49\"/>\n       <use x=\"63.623047\" xlink:href=\"#DejaVuSans-46\"/>\n       <use x=\"95.410156\" xlink:href=\"#DejaVuSans-48\"/>\n      </g>\n     </g>\n    </g>\n   </g>\n   <g id=\"line2d_11\">\n    <path clip-path=\"url(#pf121343b98)\" d=\"M 39.326265 437.430852 \nL 59.822133 247.444614 \nL 80.318001 180.070036 \nL 100.813869 129.990065 \nL 121.309737 93.204603 \nL 141.805604 69.105821 \nL 162.301472 57.73294 \nL 182.79734 48.085572 \nL 203.293208 43.987388 \nL 223.789075 42.085398 \n\" style=\"fill:none;stroke:#1f77b4;stroke-linecap:square;stroke-width:1.5;\"/>\n   </g>\n   <g id=\"line2d_12\">\n    <path clip-path=\"url(#pf121343b98)\" d=\"M 39.326265 371.493491 \nL 59.822133 249.2862 \nL 80.318001 224.385599 \nL 100.813869 167.696985 \nL 121.309737 132.200361 \nL 141.805604 120.368136 \nL 162.301472 127.255548 \nL 182.79734 108.18274 \nL 203.293208 104.297544 \nL 223.789075 108.712549 \n\" style=\"fill:none;stroke:#ff7f0e;stroke-linecap:square;stroke-width:1.5;\"/>\n   </g>\n   <g id=\"patch_3\">\n    <path d=\"M 30.103125 457.198125 \nL 30.103125 22.318125 \n\" style=\"fill:none;stroke:#000000;stroke-linecap:square;stroke-linejoin:miter;stroke-width:0.8;\"/>\n   </g>\n   <g id=\"patch_4\">\n    <path d=\"M 233.012216 457.198125 \nL 233.012216 22.318125 \n\" style=\"fill:none;stroke:#000000;stroke-linecap:square;stroke-linejoin:miter;stroke-width:0.8;\"/>\n   </g>\n   <g id=\"patch_5\">\n    <path d=\"M 30.103125 457.198125 \nL 233.012216 457.198125 \n\" style=\"fill:none;stroke:#000000;stroke-linecap:square;stroke-linejoin:miter;stroke-width:0.8;\"/>\n   </g>\n   <g id=\"patch_6\">\n    <path d=\"M 30.103125 22.318125 \nL 233.012216 22.318125 \n\" style=\"fill:none;stroke:#000000;stroke-linecap:square;stroke-linejoin:miter;stroke-width:0.8;\"/>\n   </g>\n   <g id=\"text_11\">\n    <!-- Training and Validation Accuracy -->\n    <g transform=\"translate(33.85517 16.318125)scale(0.12 -0.12)\">\n     <defs>\n      <path d=\"M -0.296875 72.90625 \nL 61.375 72.90625 \nL 61.375 64.59375 \nL 35.5 64.59375 \nL 35.5 0 \nL 25.59375 0 \nL 25.59375 64.59375 \nL -0.296875 64.59375 \nz\n\" id=\"DejaVuSans-84\"/>\n      <path d=\"M 41.109375 46.296875 \nQ 39.59375 47.171875 37.8125 47.578125 \nQ 36.03125 48 33.890625 48 \nQ 26.265625 48 22.1875 43.046875 \nQ 18.109375 38.09375 18.109375 28.8125 \nL 18.109375 0 \nL 9.078125 0 \nL 9.078125 54.6875 \nL 18.109375 54.6875 \nL 18.109375 46.1875 \nQ 20.953125 51.171875 25.484375 53.578125 \nQ 30.03125 56 36.53125 56 \nQ 37.453125 56 38.578125 55.875 \nQ 39.703125 55.765625 41.0625 55.515625 \nz\n\" id=\"DejaVuSans-114\"/>\n      <path d=\"M 34.28125 27.484375 \nQ 23.390625 27.484375 19.1875 25 \nQ 14.984375 22.515625 14.984375 16.5 \nQ 14.984375 11.71875 18.140625 8.90625 \nQ 21.296875 6.109375 26.703125 6.109375 \nQ 34.1875 6.109375 38.703125 11.40625 \nQ 43.21875 16.703125 43.21875 25.484375 \nL 43.21875 27.484375 \nz\nM 52.203125 31.203125 \nL 52.203125 0 \nL 43.21875 0 \nL 43.21875 8.296875 \nQ 40.140625 3.328125 35.546875 0.953125 \nQ 30.953125 -1.421875 24.3125 -1.421875 \nQ 15.921875 -1.421875 10.953125 3.296875 \nQ 6 8.015625 6 15.921875 \nQ 6 25.140625 12.171875 29.828125 \nQ 18.359375 34.515625 30.609375 34.515625 \nL 43.21875 34.515625 \nL 43.21875 35.40625 \nQ 43.21875 41.609375 39.140625 45 \nQ 35.0625 48.390625 27.6875 48.390625 \nQ 23 48.390625 18.546875 47.265625 \nQ 14.109375 46.140625 10.015625 43.890625 \nL 10.015625 52.203125 \nQ 14.9375 54.109375 19.578125 55.046875 \nQ 24.21875 56 28.609375 56 \nQ 40.484375 56 46.34375 49.84375 \nQ 52.203125 43.703125 52.203125 31.203125 \nz\n\" id=\"DejaVuSans-97\"/>\n      <path d=\"M 9.421875 54.6875 \nL 18.40625 54.6875 \nL 18.40625 0 \nL 9.421875 0 \nz\nM 9.421875 75.984375 \nL 18.40625 75.984375 \nL 18.40625 64.59375 \nL 9.421875 64.59375 \nz\n\" id=\"DejaVuSans-105\"/>\n      <path d=\"M 54.890625 33.015625 \nL 54.890625 0 \nL 45.90625 0 \nL 45.90625 32.71875 \nQ 45.90625 40.484375 42.875 44.328125 \nQ 39.84375 48.1875 33.796875 48.1875 \nQ 26.515625 48.1875 22.3125 43.546875 \nQ 18.109375 38.921875 18.109375 30.90625 \nL 18.109375 0 \nL 9.078125 0 \nL 9.078125 54.6875 \nL 18.109375 54.6875 \nL 18.109375 46.1875 \nQ 21.34375 51.125 25.703125 53.5625 \nQ 30.078125 56 35.796875 56 \nQ 45.21875 56 50.046875 50.171875 \nQ 54.890625 44.34375 54.890625 33.015625 \nz\n\" id=\"DejaVuSans-110\"/>\n      <path d=\"M 45.40625 27.984375 \nQ 45.40625 37.75 41.375 43.109375 \nQ 37.359375 48.484375 30.078125 48.484375 \nQ 22.859375 48.484375 18.828125 43.109375 \nQ 14.796875 37.75 14.796875 27.984375 \nQ 14.796875 18.265625 18.828125 12.890625 \nQ 22.859375 7.515625 30.078125 7.515625 \nQ 37.359375 7.515625 41.375 12.890625 \nQ 45.40625 18.265625 45.40625 27.984375 \nz\nM 54.390625 6.78125 \nQ 54.390625 -7.171875 48.1875 -13.984375 \nQ 42 -20.796875 29.203125 -20.796875 \nQ 24.46875 -20.796875 20.265625 -20.09375 \nQ 16.0625 -19.390625 12.109375 -17.921875 \nL 12.109375 -9.1875 \nQ 16.0625 -11.328125 19.921875 -12.34375 \nQ 23.78125 -13.375 27.78125 -13.375 \nQ 36.625 -13.375 41.015625 -8.765625 \nQ 45.40625 -4.15625 45.40625 5.171875 \nL 45.40625 9.625 \nQ 42.625 4.78125 38.28125 2.390625 \nQ 33.9375 0 27.875 0 \nQ 17.828125 0 11.671875 7.65625 \nQ 5.515625 15.328125 5.515625 27.984375 \nQ 5.515625 40.671875 11.671875 48.328125 \nQ 17.828125 56 27.875 56 \nQ 33.9375 56 38.28125 53.609375 \nQ 42.625 51.21875 45.40625 46.390625 \nL 45.40625 54.6875 \nL 54.390625 54.6875 \nz\n\" id=\"DejaVuSans-103\"/>\n      <path id=\"DejaVuSans-32\"/>\n      <path d=\"M 45.40625 46.390625 \nL 45.40625 75.984375 \nL 54.390625 75.984375 \nL 54.390625 0 \nL 45.40625 0 \nL 45.40625 8.203125 \nQ 42.578125 3.328125 38.25 0.953125 \nQ 33.9375 -1.421875 27.875 -1.421875 \nQ 17.96875 -1.421875 11.734375 6.484375 \nQ 5.515625 14.40625 5.515625 27.296875 \nQ 5.515625 40.1875 11.734375 48.09375 \nQ 17.96875 56 27.875 56 \nQ 33.9375 56 38.25 53.625 \nQ 42.578125 51.265625 45.40625 46.390625 \nz\nM 14.796875 27.296875 \nQ 14.796875 17.390625 18.875 11.75 \nQ 22.953125 6.109375 30.078125 6.109375 \nQ 37.203125 6.109375 41.296875 11.75 \nQ 45.40625 17.390625 45.40625 27.296875 \nQ 45.40625 37.203125 41.296875 42.84375 \nQ 37.203125 48.484375 30.078125 48.484375 \nQ 22.953125 48.484375 18.875 42.84375 \nQ 14.796875 37.203125 14.796875 27.296875 \nz\n\" id=\"DejaVuSans-100\"/>\n      <path d=\"M 28.609375 0 \nL 0.78125 72.90625 \nL 11.078125 72.90625 \nL 34.1875 11.53125 \nL 57.328125 72.90625 \nL 67.578125 72.90625 \nL 39.796875 0 \nz\n\" id=\"DejaVuSans-86\"/>\n      <path d=\"M 9.421875 75.984375 \nL 18.40625 75.984375 \nL 18.40625 0 \nL 9.421875 0 \nz\n\" id=\"DejaVuSans-108\"/>\n      <path d=\"M 18.3125 70.21875 \nL 18.3125 54.6875 \nL 36.8125 54.6875 \nL 36.8125 47.703125 \nL 18.3125 47.703125 \nL 18.3125 18.015625 \nQ 18.3125 11.328125 20.140625 9.421875 \nQ 21.96875 7.515625 27.59375 7.515625 \nL 36.8125 7.515625 \nL 36.8125 0 \nL 27.59375 0 \nQ 17.1875 0 13.234375 3.875 \nQ 9.28125 7.765625 9.28125 18.015625 \nL 9.28125 47.703125 \nL 2.6875 47.703125 \nL 2.6875 54.6875 \nL 9.28125 54.6875 \nL 9.28125 70.21875 \nz\n\" id=\"DejaVuSans-116\"/>\n      <path d=\"M 30.609375 48.390625 \nQ 23.390625 48.390625 19.1875 42.75 \nQ 14.984375 37.109375 14.984375 27.296875 \nQ 14.984375 17.484375 19.15625 11.84375 \nQ 23.34375 6.203125 30.609375 6.203125 \nQ 37.796875 6.203125 41.984375 11.859375 \nQ 46.1875 17.53125 46.1875 27.296875 \nQ 46.1875 37.015625 41.984375 42.703125 \nQ 37.796875 48.390625 30.609375 48.390625 \nz\nM 30.609375 56 \nQ 42.328125 56 49.015625 48.375 \nQ 55.71875 40.765625 55.71875 27.296875 \nQ 55.71875 13.875 49.015625 6.21875 \nQ 42.328125 -1.421875 30.609375 -1.421875 \nQ 18.84375 -1.421875 12.171875 6.21875 \nQ 5.515625 13.875 5.515625 27.296875 \nQ 5.515625 40.765625 12.171875 48.375 \nQ 18.84375 56 30.609375 56 \nz\n\" id=\"DejaVuSans-111\"/>\n      <path d=\"M 34.1875 63.1875 \nL 20.796875 26.90625 \nL 47.609375 26.90625 \nz\nM 28.609375 72.90625 \nL 39.796875 72.90625 \nL 67.578125 0 \nL 57.328125 0 \nL 50.6875 18.703125 \nL 17.828125 18.703125 \nL 11.1875 0 \nL 0.78125 0 \nz\n\" id=\"DejaVuSans-65\"/>\n      <path d=\"M 48.78125 52.59375 \nL 48.78125 44.1875 \nQ 44.96875 46.296875 41.140625 47.34375 \nQ 37.3125 48.390625 33.40625 48.390625 \nQ 24.65625 48.390625 19.8125 42.84375 \nQ 14.984375 37.3125 14.984375 27.296875 \nQ 14.984375 17.28125 19.8125 11.734375 \nQ 24.65625 6.203125 33.40625 6.203125 \nQ 37.3125 6.203125 41.140625 7.25 \nQ 44.96875 8.296875 48.78125 10.40625 \nL 48.78125 2.09375 \nQ 45.015625 0.34375 40.984375 -0.53125 \nQ 36.96875 -1.421875 32.421875 -1.421875 \nQ 20.0625 -1.421875 12.78125 6.34375 \nQ 5.515625 14.109375 5.515625 27.296875 \nQ 5.515625 40.671875 12.859375 48.328125 \nQ 20.21875 56 33.015625 56 \nQ 37.15625 56 41.109375 55.140625 \nQ 45.0625 54.296875 48.78125 52.59375 \nz\n\" id=\"DejaVuSans-99\"/>\n      <path d=\"M 8.5 21.578125 \nL 8.5 54.6875 \nL 17.484375 54.6875 \nL 17.484375 21.921875 \nQ 17.484375 14.15625 20.5 10.265625 \nQ 23.53125 6.390625 29.59375 6.390625 \nQ 36.859375 6.390625 41.078125 11.03125 \nQ 45.3125 15.671875 45.3125 23.6875 \nL 45.3125 54.6875 \nL 54.296875 54.6875 \nL 54.296875 0 \nL 45.3125 0 \nL 45.3125 8.40625 \nQ 42.046875 3.421875 37.71875 1 \nQ 33.40625 -1.421875 27.6875 -1.421875 \nQ 18.265625 -1.421875 13.375 4.4375 \nQ 8.5 10.296875 8.5 21.578125 \nz\nM 31.109375 56 \nz\n\" id=\"DejaVuSans-117\"/>\n      <path d=\"M 32.171875 -5.078125 \nQ 28.375 -14.84375 24.75 -17.8125 \nQ 21.140625 -20.796875 15.09375 -20.796875 \nL 7.90625 -20.796875 \nL 7.90625 -13.28125 \nL 13.1875 -13.28125 \nQ 16.890625 -13.28125 18.9375 -11.515625 \nQ 21 -9.765625 23.484375 -3.21875 \nL 25.09375 0.875 \nL 2.984375 54.6875 \nL 12.5 54.6875 \nL 29.59375 11.921875 \nL 46.6875 54.6875 \nL 56.203125 54.6875 \nz\n\" id=\"DejaVuSans-121\"/>\n     </defs>\n     <use xlink:href=\"#DejaVuSans-84\"/>\n     <use x=\"46.333984\" xlink:href=\"#DejaVuSans-114\"/>\n     <use x=\"87.447266\" xlink:href=\"#DejaVuSans-97\"/>\n     <use x=\"148.726562\" xlink:href=\"#DejaVuSans-105\"/>\n     <use x=\"176.509766\" xlink:href=\"#DejaVuSans-110\"/>\n     <use x=\"239.888672\" xlink:href=\"#DejaVuSans-105\"/>\n     <use x=\"267.671875\" xlink:href=\"#DejaVuSans-110\"/>\n     <use x=\"331.050781\" xlink:href=\"#DejaVuSans-103\"/>\n     <use x=\"394.527344\" xlink:href=\"#DejaVuSans-32\"/>\n     <use x=\"426.314453\" xlink:href=\"#DejaVuSans-97\"/>\n     <use x=\"487.59375\" xlink:href=\"#DejaVuSans-110\"/>\n     <use x=\"550.972656\" xlink:href=\"#DejaVuSans-100\"/>\n     <use x=\"614.449219\" xlink:href=\"#DejaVuSans-32\"/>\n     <use x=\"646.236328\" xlink:href=\"#DejaVuSans-86\"/>\n     <use x=\"706.894531\" xlink:href=\"#DejaVuSans-97\"/>\n     <use x=\"768.173828\" xlink:href=\"#DejaVuSans-108\"/>\n     <use x=\"795.957031\" xlink:href=\"#DejaVuSans-105\"/>\n     <use x=\"823.740234\" xlink:href=\"#DejaVuSans-100\"/>\n     <use x=\"887.216797\" xlink:href=\"#DejaVuSans-97\"/>\n     <use x=\"948.496094\" xlink:href=\"#DejaVuSans-116\"/>\n     <use x=\"987.705078\" xlink:href=\"#DejaVuSans-105\"/>\n     <use x=\"1015.488281\" xlink:href=\"#DejaVuSans-111\"/>\n     <use x=\"1076.669922\" xlink:href=\"#DejaVuSans-110\"/>\n     <use x=\"1140.048828\" xlink:href=\"#DejaVuSans-32\"/>\n     <use x=\"1171.835938\" xlink:href=\"#DejaVuSans-65\"/>\n     <use x=\"1238.494141\" xlink:href=\"#DejaVuSans-99\"/>\n     <use x=\"1293.474609\" xlink:href=\"#DejaVuSans-99\"/>\n     <use x=\"1348.455078\" xlink:href=\"#DejaVuSans-117\"/>\n     <use x=\"1411.833984\" xlink:href=\"#DejaVuSans-114\"/>\n     <use x=\"1452.947266\" xlink:href=\"#DejaVuSans-97\"/>\n     <use x=\"1514.226562\" xlink:href=\"#DejaVuSans-99\"/>\n     <use x=\"1569.207031\" xlink:href=\"#DejaVuSans-121\"/>\n    </g>\n   </g>\n   <g id=\"legend_1\">\n    <g id=\"patch_7\">\n     <path d=\"M 95.796591 452.198125 \nL 226.012216 452.198125 \nQ 228.012216 452.198125 228.012216 450.198125 \nL 228.012216 421.841875 \nQ 228.012216 419.841875 226.012216 419.841875 \nL 95.796591 419.841875 \nQ 93.796591 419.841875 93.796591 421.841875 \nL 93.796591 450.198125 \nQ 93.796591 452.198125 95.796591 452.198125 \nz\n\" style=\"fill:#ffffff;opacity:0.8;stroke:#cccccc;stroke-linejoin:miter;\"/>\n    </g>\n    <g id=\"line2d_13\">\n     <path d=\"M 97.796591 427.940312 \nL 117.796591 427.940312 \n\" style=\"fill:none;stroke:#1f77b4;stroke-linecap:square;stroke-width:1.5;\"/>\n    </g>\n    <g id=\"line2d_14\"/>\n    <g id=\"text_12\">\n     <!-- Training Accuracy -->\n     <g transform=\"translate(125.796591 431.440312)scale(0.1 -0.1)\">\n      <use xlink:href=\"#DejaVuSans-84\"/>\n      <use x=\"46.333984\" xlink:href=\"#DejaVuSans-114\"/>\n      <use x=\"87.447266\" xlink:href=\"#DejaVuSans-97\"/>\n      <use x=\"148.726562\" xlink:href=\"#DejaVuSans-105\"/>\n      <use x=\"176.509766\" xlink:href=\"#DejaVuSans-110\"/>\n      <use x=\"239.888672\" xlink:href=\"#DejaVuSans-105\"/>\n      <use x=\"267.671875\" xlink:href=\"#DejaVuSans-110\"/>\n      <use x=\"331.050781\" xlink:href=\"#DejaVuSans-103\"/>\n      <use x=\"394.527344\" xlink:href=\"#DejaVuSans-32\"/>\n      <use x=\"426.314453\" xlink:href=\"#DejaVuSans-65\"/>\n      <use x=\"492.972656\" xlink:href=\"#DejaVuSans-99\"/>\n      <use x=\"547.953125\" xlink:href=\"#DejaVuSans-99\"/>\n      <use x=\"602.933594\" xlink:href=\"#DejaVuSans-117\"/>\n      <use x=\"666.3125\" xlink:href=\"#DejaVuSans-114\"/>\n      <use x=\"707.425781\" xlink:href=\"#DejaVuSans-97\"/>\n      <use x=\"768.705078\" xlink:href=\"#DejaVuSans-99\"/>\n      <use x=\"823.685547\" xlink:href=\"#DejaVuSans-121\"/>\n     </g>\n    </g>\n    <g id=\"line2d_15\">\n     <path d=\"M 97.796591 442.618437 \nL 117.796591 442.618437 \n\" style=\"fill:none;stroke:#ff7f0e;stroke-linecap:square;stroke-width:1.5;\"/>\n    </g>\n    <g id=\"line2d_16\"/>\n    <g id=\"text_13\">\n     <!-- Validation Accuracy -->\n     <g transform=\"translate(125.796591 446.118437)scale(0.1 -0.1)\">\n      <use xlink:href=\"#DejaVuSans-86\"/>\n      <use x=\"60.658203\" xlink:href=\"#DejaVuSans-97\"/>\n      <use x=\"121.9375\" xlink:href=\"#DejaVuSans-108\"/>\n      <use x=\"149.720703\" xlink:href=\"#DejaVuSans-105\"/>\n      <use x=\"177.503906\" xlink:href=\"#DejaVuSans-100\"/>\n      <use x=\"240.980469\" xlink:href=\"#DejaVuSans-97\"/>\n      <use x=\"302.259766\" xlink:href=\"#DejaVuSans-116\"/>\n      <use x=\"341.46875\" xlink:href=\"#DejaVuSans-105\"/>\n      <use x=\"369.251953\" xlink:href=\"#DejaVuSans-111\"/>\n      <use x=\"430.433594\" xlink:href=\"#DejaVuSans-110\"/>\n      <use x=\"493.8125\" xlink:href=\"#DejaVuSans-32\"/>\n      <use x=\"525.599609\" xlink:href=\"#DejaVuSans-65\"/>\n      <use x=\"592.257812\" xlink:href=\"#DejaVuSans-99\"/>\n      <use x=\"647.238281\" xlink:href=\"#DejaVuSans-99\"/>\n      <use x=\"702.21875\" xlink:href=\"#DejaVuSans-117\"/>\n      <use x=\"765.597656\" xlink:href=\"#DejaVuSans-114\"/>\n      <use x=\"806.710938\" xlink:href=\"#DejaVuSans-97\"/>\n      <use x=\"867.990234\" xlink:href=\"#DejaVuSans-99\"/>\n      <use x=\"922.970703\" xlink:href=\"#DejaVuSans-121\"/>\n     </g>\n    </g>\n   </g>\n  </g>\n  <g id=\"axes_2\">\n   <g id=\"patch_8\">\n    <path d=\"M 273.594034 457.198125 \nL 476.503125 457.198125 \nL 476.503125 22.318125 \nL 273.594034 22.318125 \nz\n\" style=\"fill:#ffffff;\"/>\n   </g>\n   <g id=\"matplotlib.axis_3\">\n    <g id=\"xtick_6\">\n     <g id=\"line2d_17\">\n      <g>\n       <use style=\"stroke:#000000;stroke-width:0.8;\" x=\"282.817175\" xlink:href=\"#m84b7e38865\" y=\"457.198125\"/>\n      </g>\n     </g>\n     <g id=\"text_14\">\n      <!-- 0 -->\n      <g transform=\"translate(279.635925 471.796562)scale(0.1 -0.1)\">\n       <use xlink:href=\"#DejaVuSans-48\"/>\n      </g>\n     </g>\n    </g>\n    <g id=\"xtick_7\">\n     <g id=\"line2d_18\">\n      <g>\n       <use style=\"stroke:#000000;stroke-width:0.8;\" x=\"323.80891\" xlink:href=\"#m84b7e38865\" y=\"457.198125\"/>\n      </g>\n     </g>\n     <g id=\"text_15\">\n      <!-- 2 -->\n      <g transform=\"translate(320.62766 471.796562)scale(0.1 -0.1)\">\n       <use xlink:href=\"#DejaVuSans-50\"/>\n      </g>\n     </g>\n    </g>\n    <g id=\"xtick_8\">\n     <g id=\"line2d_19\">\n      <g>\n       <use style=\"stroke:#000000;stroke-width:0.8;\" x=\"364.800646\" xlink:href=\"#m84b7e38865\" y=\"457.198125\"/>\n      </g>\n     </g>\n     <g id=\"text_16\">\n      <!-- 4 -->\n      <g transform=\"translate(361.619396 471.796562)scale(0.1 -0.1)\">\n       <use xlink:href=\"#DejaVuSans-52\"/>\n      </g>\n     </g>\n    </g>\n    <g id=\"xtick_9\">\n     <g id=\"line2d_20\">\n      <g>\n       <use style=\"stroke:#000000;stroke-width:0.8;\" x=\"405.792381\" xlink:href=\"#m84b7e38865\" y=\"457.198125\"/>\n      </g>\n     </g>\n     <g id=\"text_17\">\n      <!-- 6 -->\n      <g transform=\"translate(402.611131 471.796562)scale(0.1 -0.1)\">\n       <use xlink:href=\"#DejaVuSans-54\"/>\n      </g>\n     </g>\n    </g>\n    <g id=\"xtick_10\">\n     <g id=\"line2d_21\">\n      <g>\n       <use style=\"stroke:#000000;stroke-width:0.8;\" x=\"446.784117\" xlink:href=\"#m84b7e38865\" y=\"457.198125\"/>\n      </g>\n     </g>\n     <g id=\"text_18\">\n      <!-- 8 -->\n      <g transform=\"translate(443.602867 471.796562)scale(0.1 -0.1)\">\n       <use xlink:href=\"#DejaVuSans-56\"/>\n      </g>\n     </g>\n    </g>\n   </g>\n   <g id=\"matplotlib.axis_4\">\n    <g id=\"ytick_6\">\n     <g id=\"line2d_22\">\n      <g>\n       <use style=\"stroke:#000000;stroke-width:0.8;\" x=\"273.594034\" xlink:href=\"#mcb5cdf14de\" y=\"456.66086\"/>\n      </g>\n     </g>\n     <g id=\"text_19\">\n      <!-- 0.0 -->\n      <g transform=\"translate(250.690909 460.460078)scale(0.1 -0.1)\">\n       <use xlink:href=\"#DejaVuSans-48\"/>\n       <use x=\"63.623047\" xlink:href=\"#DejaVuSans-46\"/>\n       <use x=\"95.410156\" xlink:href=\"#DejaVuSans-48\"/>\n      </g>\n     </g>\n    </g>\n    <g id=\"ytick_7\">\n     <g id=\"line2d_23\">\n      <g>\n       <use style=\"stroke:#000000;stroke-width:0.8;\" x=\"273.594034\" xlink:href=\"#mcb5cdf14de\" y=\"397.329807\"/>\n      </g>\n     </g>\n     <g id=\"text_20\">\n      <!-- 0.2 -->\n      <g transform=\"translate(250.690909 401.129025)scale(0.1 -0.1)\">\n       <use xlink:href=\"#DejaVuSans-48\"/>\n       <use x=\"63.623047\" xlink:href=\"#DejaVuSans-46\"/>\n       <use x=\"95.410156\" xlink:href=\"#DejaVuSans-50\"/>\n      </g>\n     </g>\n    </g>\n    <g id=\"ytick_8\">\n     <g id=\"line2d_24\">\n      <g>\n       <use style=\"stroke:#000000;stroke-width:0.8;\" x=\"273.594034\" xlink:href=\"#mcb5cdf14de\" y=\"337.998753\"/>\n      </g>\n     </g>\n     <g id=\"text_21\">\n      <!-- 0.4 -->\n      <g transform=\"translate(250.690909 341.797972)scale(0.1 -0.1)\">\n       <use xlink:href=\"#DejaVuSans-48\"/>\n       <use x=\"63.623047\" xlink:href=\"#DejaVuSans-46\"/>\n       <use x=\"95.410156\" xlink:href=\"#DejaVuSans-52\"/>\n      </g>\n     </g>\n    </g>\n    <g id=\"ytick_9\">\n     <g id=\"line2d_25\">\n      <g>\n       <use style=\"stroke:#000000;stroke-width:0.8;\" x=\"273.594034\" xlink:href=\"#mcb5cdf14de\" y=\"278.6677\"/>\n      </g>\n     </g>\n     <g id=\"text_22\">\n      <!-- 0.6 -->\n      <g transform=\"translate(250.690909 282.466919)scale(0.1 -0.1)\">\n       <use xlink:href=\"#DejaVuSans-48\"/>\n       <use x=\"63.623047\" xlink:href=\"#DejaVuSans-46\"/>\n       <use x=\"95.410156\" xlink:href=\"#DejaVuSans-54\"/>\n      </g>\n     </g>\n    </g>\n    <g id=\"ytick_10\">\n     <g id=\"line2d_26\">\n      <g>\n       <use style=\"stroke:#000000;stroke-width:0.8;\" x=\"273.594034\" xlink:href=\"#mcb5cdf14de\" y=\"219.336647\"/>\n      </g>\n     </g>\n     <g id=\"text_23\">\n      <!-- 0.8 -->\n      <g transform=\"translate(250.690909 223.135866)scale(0.1 -0.1)\">\n       <use xlink:href=\"#DejaVuSans-48\"/>\n       <use x=\"63.623047\" xlink:href=\"#DejaVuSans-46\"/>\n       <use x=\"95.410156\" xlink:href=\"#DejaVuSans-56\"/>\n      </g>\n     </g>\n    </g>\n    <g id=\"ytick_11\">\n     <g id=\"line2d_27\">\n      <g>\n       <use style=\"stroke:#000000;stroke-width:0.8;\" x=\"273.594034\" xlink:href=\"#mcb5cdf14de\" y=\"160.005594\"/>\n      </g>\n     </g>\n     <g id=\"text_24\">\n      <!-- 1.0 -->\n      <g transform=\"translate(250.690909 163.804813)scale(0.1 -0.1)\">\n       <use xlink:href=\"#DejaVuSans-49\"/>\n       <use x=\"63.623047\" xlink:href=\"#DejaVuSans-46\"/>\n       <use x=\"95.410156\" xlink:href=\"#DejaVuSans-48\"/>\n      </g>\n     </g>\n    </g>\n    <g id=\"ytick_12\">\n     <g id=\"line2d_28\">\n      <g>\n       <use style=\"stroke:#000000;stroke-width:0.8;\" x=\"273.594034\" xlink:href=\"#mcb5cdf14de\" y=\"100.674541\"/>\n      </g>\n     </g>\n     <g id=\"text_25\">\n      <!-- 1.2 -->\n      <g transform=\"translate(250.690909 104.47376)scale(0.1 -0.1)\">\n       <use xlink:href=\"#DejaVuSans-49\"/>\n       <use x=\"63.623047\" xlink:href=\"#DejaVuSans-46\"/>\n       <use x=\"95.410156\" xlink:href=\"#DejaVuSans-50\"/>\n      </g>\n     </g>\n    </g>\n    <g id=\"ytick_13\">\n     <g id=\"line2d_29\">\n      <g>\n       <use style=\"stroke:#000000;stroke-width:0.8;\" x=\"273.594034\" xlink:href=\"#mcb5cdf14de\" y=\"41.343488\"/>\n      </g>\n     </g>\n     <g id=\"text_26\">\n      <!-- 1.4 -->\n      <g transform=\"translate(250.690909 45.142707)scale(0.1 -0.1)\">\n       <use xlink:href=\"#DejaVuSans-49\"/>\n       <use x=\"63.623047\" xlink:href=\"#DejaVuSans-46\"/>\n       <use x=\"95.410156\" xlink:href=\"#DejaVuSans-52\"/>\n      </g>\n     </g>\n    </g>\n   </g>\n   <g id=\"line2d_30\">\n    <path clip-path=\"url(#p1a94284861)\" d=\"M 282.817175 42.085398 \nL 303.313042 220.923924 \nL 323.80891 290.976792 \nL 344.304778 340.678738 \nL 364.800646 377.447683 \nL 385.296513 403.008191 \nL 405.792381 416.252877 \nL 426.288249 427.690612 \nL 446.784117 433.786148 \nL 467.279985 437.430852 \n\" style=\"fill:none;stroke:#1f77b4;stroke-linecap:square;stroke-width:1.5;\"/>\n   </g>\n   <g id=\"line2d_31\">\n    <path clip-path=\"url(#p1a94284861)\" d=\"M 282.817175 116.448915 \nL 303.313042 233.648127 \nL 323.80891 259.864515 \nL 344.304778 313.887834 \nL 364.800646 352.961145 \nL 385.296513 363.706419 \nL 405.792381 352.978005 \nL 426.288249 371.289632 \nL 446.784117 371.640461 \nL 467.279985 359.598202 \n\" style=\"fill:none;stroke:#ff7f0e;stroke-linecap:square;stroke-width:1.5;\"/>\n   </g>\n   <g id=\"patch_9\">\n    <path d=\"M 273.594034 457.198125 \nL 273.594034 22.318125 \n\" style=\"fill:none;stroke:#000000;stroke-linecap:square;stroke-linejoin:miter;stroke-width:0.8;\"/>\n   </g>\n   <g id=\"patch_10\">\n    <path d=\"M 476.503125 457.198125 \nL 476.503125 22.318125 \n\" style=\"fill:none;stroke:#000000;stroke-linecap:square;stroke-linejoin:miter;stroke-width:0.8;\"/>\n   </g>\n   <g id=\"patch_11\">\n    <path d=\"M 273.594034 457.198125 \nL 476.503125 457.198125 \n\" style=\"fill:none;stroke:#000000;stroke-linecap:square;stroke-linejoin:miter;stroke-width:0.8;\"/>\n   </g>\n   <g id=\"patch_12\">\n    <path d=\"M 273.594034 22.318125 \nL 476.503125 22.318125 \n\" style=\"fill:none;stroke:#000000;stroke-linecap:square;stroke-linejoin:miter;stroke-width:0.8;\"/>\n   </g>\n   <g id=\"text_27\">\n    <!-- Training and Validation Loss -->\n    <g transform=\"translate(291.579205 16.318125)scale(0.12 -0.12)\">\n     <defs>\n      <path d=\"M 9.8125 72.90625 \nL 19.671875 72.90625 \nL 19.671875 8.296875 \nL 55.171875 8.296875 \nL 55.171875 0 \nL 9.8125 0 \nz\n\" id=\"DejaVuSans-76\"/>\n      <path d=\"M 44.28125 53.078125 \nL 44.28125 44.578125 \nQ 40.484375 46.53125 36.375 47.5 \nQ 32.28125 48.484375 27.875 48.484375 \nQ 21.1875 48.484375 17.84375 46.4375 \nQ 14.5 44.390625 14.5 40.28125 \nQ 14.5 37.15625 16.890625 35.375 \nQ 19.28125 33.59375 26.515625 31.984375 \nL 29.59375 31.296875 \nQ 39.15625 29.25 43.1875 25.515625 \nQ 47.21875 21.78125 47.21875 15.09375 \nQ 47.21875 7.46875 41.1875 3.015625 \nQ 35.15625 -1.421875 24.609375 -1.421875 \nQ 20.21875 -1.421875 15.453125 -0.5625 \nQ 10.6875 0.296875 5.421875 2 \nL 5.421875 11.28125 \nQ 10.40625 8.6875 15.234375 7.390625 \nQ 20.0625 6.109375 24.8125 6.109375 \nQ 31.15625 6.109375 34.5625 8.28125 \nQ 37.984375 10.453125 37.984375 14.40625 \nQ 37.984375 18.0625 35.515625 20.015625 \nQ 33.0625 21.96875 24.703125 23.78125 \nL 21.578125 24.515625 \nQ 13.234375 26.265625 9.515625 29.90625 \nQ 5.8125 33.546875 5.8125 39.890625 \nQ 5.8125 47.609375 11.28125 51.796875 \nQ 16.75 56 26.8125 56 \nQ 31.78125 56 36.171875 55.265625 \nQ 40.578125 54.546875 44.28125 53.078125 \nz\n\" id=\"DejaVuSans-115\"/>\n     </defs>\n     <use xlink:href=\"#DejaVuSans-84\"/>\n     <use x=\"46.333984\" xlink:href=\"#DejaVuSans-114\"/>\n     <use x=\"87.447266\" xlink:href=\"#DejaVuSans-97\"/>\n     <use x=\"148.726562\" xlink:href=\"#DejaVuSans-105\"/>\n     <use x=\"176.509766\" xlink:href=\"#DejaVuSans-110\"/>\n     <use x=\"239.888672\" xlink:href=\"#DejaVuSans-105\"/>\n     <use x=\"267.671875\" xlink:href=\"#DejaVuSans-110\"/>\n     <use x=\"331.050781\" xlink:href=\"#DejaVuSans-103\"/>\n     <use x=\"394.527344\" xlink:href=\"#DejaVuSans-32\"/>\n     <use x=\"426.314453\" xlink:href=\"#DejaVuSans-97\"/>\n     <use x=\"487.59375\" xlink:href=\"#DejaVuSans-110\"/>\n     <use x=\"550.972656\" xlink:href=\"#DejaVuSans-100\"/>\n     <use x=\"614.449219\" xlink:href=\"#DejaVuSans-32\"/>\n     <use x=\"646.236328\" xlink:href=\"#DejaVuSans-86\"/>\n     <use x=\"706.894531\" xlink:href=\"#DejaVuSans-97\"/>\n     <use x=\"768.173828\" xlink:href=\"#DejaVuSans-108\"/>\n     <use x=\"795.957031\" xlink:href=\"#DejaVuSans-105\"/>\n     <use x=\"823.740234\" xlink:href=\"#DejaVuSans-100\"/>\n     <use x=\"887.216797\" xlink:href=\"#DejaVuSans-97\"/>\n     <use x=\"948.496094\" xlink:href=\"#DejaVuSans-116\"/>\n     <use x=\"987.705078\" xlink:href=\"#DejaVuSans-105\"/>\n     <use x=\"1015.488281\" xlink:href=\"#DejaVuSans-111\"/>\n     <use x=\"1076.669922\" xlink:href=\"#DejaVuSans-110\"/>\n     <use x=\"1140.048828\" xlink:href=\"#DejaVuSans-32\"/>\n     <use x=\"1171.835938\" xlink:href=\"#DejaVuSans-76\"/>\n     <use x=\"1225.798828\" xlink:href=\"#DejaVuSans-111\"/>\n     <use x=\"1286.980469\" xlink:href=\"#DejaVuSans-115\"/>\n     <use x=\"1339.080078\" xlink:href=\"#DejaVuSans-115\"/>\n    </g>\n   </g>\n   <g id=\"legend_2\">\n    <g id=\"patch_13\">\n     <path d=\"M 363.009375 59.674375 \nL 469.503125 59.674375 \nQ 471.503125 59.674375 471.503125 57.674375 \nL 471.503125 29.318125 \nQ 471.503125 27.318125 469.503125 27.318125 \nL 363.009375 27.318125 \nQ 361.009375 27.318125 361.009375 29.318125 \nL 361.009375 57.674375 \nQ 361.009375 59.674375 363.009375 59.674375 \nz\n\" style=\"fill:#ffffff;opacity:0.8;stroke:#cccccc;stroke-linejoin:miter;\"/>\n    </g>\n    <g id=\"line2d_32\">\n     <path d=\"M 365.009375 35.416562 \nL 385.009375 35.416562 \n\" style=\"fill:none;stroke:#1f77b4;stroke-linecap:square;stroke-width:1.5;\"/>\n    </g>\n    <g id=\"line2d_33\"/>\n    <g id=\"text_28\">\n     <!-- Training Loss -->\n     <g transform=\"translate(393.009375 38.916562)scale(0.1 -0.1)\">\n      <use xlink:href=\"#DejaVuSans-84\"/>\n      <use x=\"46.333984\" xlink:href=\"#DejaVuSans-114\"/>\n      <use x=\"87.447266\" xlink:href=\"#DejaVuSans-97\"/>\n      <use x=\"148.726562\" xlink:href=\"#DejaVuSans-105\"/>\n      <use x=\"176.509766\" xlink:href=\"#DejaVuSans-110\"/>\n      <use x=\"239.888672\" xlink:href=\"#DejaVuSans-105\"/>\n      <use x=\"267.671875\" xlink:href=\"#DejaVuSans-110\"/>\n      <use x=\"331.050781\" xlink:href=\"#DejaVuSans-103\"/>\n      <use x=\"394.527344\" xlink:href=\"#DejaVuSans-32\"/>\n      <use x=\"426.314453\" xlink:href=\"#DejaVuSans-76\"/>\n      <use x=\"480.277344\" xlink:href=\"#DejaVuSans-111\"/>\n      <use x=\"541.458984\" xlink:href=\"#DejaVuSans-115\"/>\n      <use x=\"593.558594\" xlink:href=\"#DejaVuSans-115\"/>\n     </g>\n    </g>\n    <g id=\"line2d_34\">\n     <path d=\"M 365.009375 50.094687 \nL 385.009375 50.094687 \n\" style=\"fill:none;stroke:#ff7f0e;stroke-linecap:square;stroke-width:1.5;\"/>\n    </g>\n    <g id=\"line2d_35\"/>\n    <g id=\"text_29\">\n     <!-- Validation Loss -->\n     <g transform=\"translate(393.009375 53.594687)scale(0.1 -0.1)\">\n      <use xlink:href=\"#DejaVuSans-86\"/>\n      <use x=\"60.658203\" xlink:href=\"#DejaVuSans-97\"/>\n      <use x=\"121.9375\" xlink:href=\"#DejaVuSans-108\"/>\n      <use x=\"149.720703\" xlink:href=\"#DejaVuSans-105\"/>\n      <use x=\"177.503906\" xlink:href=\"#DejaVuSans-100\"/>\n      <use x=\"240.980469\" xlink:href=\"#DejaVuSans-97\"/>\n      <use x=\"302.259766\" xlink:href=\"#DejaVuSans-116\"/>\n      <use x=\"341.46875\" xlink:href=\"#DejaVuSans-105\"/>\n      <use x=\"369.251953\" xlink:href=\"#DejaVuSans-111\"/>\n      <use x=\"430.433594\" xlink:href=\"#DejaVuSans-110\"/>\n      <use x=\"493.8125\" xlink:href=\"#DejaVuSans-32\"/>\n      <use x=\"525.599609\" xlink:href=\"#DejaVuSans-76\"/>\n      <use x=\"579.5625\" xlink:href=\"#DejaVuSans-111\"/>\n      <use x=\"640.744141\" xlink:href=\"#DejaVuSans-115\"/>\n      <use x=\"692.84375\" xlink:href=\"#DejaVuSans-115\"/>\n     </g>\n    </g>\n   </g>\n  </g>\n </g>\n <defs>\n  <clipPath id=\"pf121343b98\">\n   <rect height=\"434.88\" width=\"202.909091\" x=\"30.103125\" y=\"22.318125\"/>\n  </clipPath>\n  <clipPath id=\"p1a94284861\">\n   <rect height=\"434.88\" width=\"202.909091\" x=\"273.594034\" y=\"22.318125\"/>\n  </clipPath>\n </defs>\n</svg>\n",
      "image/png": "[encoded data removed]"
     },
     "metadata": {
      "needs_background": "light"
     }
    },
    {
     "output_type": "stream",
     "name": "stdout",
     "text": [
      "✅\n"
     ]
    }
   ],
   "source": [
    "\"\"\"\n",
    "model.fit 함수는 학습 동안의 결과를 return해줍니다.\n",
    "return 값을 기반으로 loss와 accuracy를 그래프로 표현하겠습니다.\n",
    "fit 함수에서 전달 받은 Loss와 Accuracy의 값을 이용해 모델이 어떻게 학습되고 있는지 볼 수 있습니다.\n",
    "train loss와 val_loss의 차이가 커지는 경우 오버피팅이 일어나는 것이기 때문에 이를 수정할 필요가 있습니다.\n",
    "\n",
    "출력된 그래프를 기반으로 모델의 학습이 어떻게 진행됐는지 확인\n",
    "\"\"\"\n",
    "\n",
    "import matplotlib.pyplot as plt\n",
    "\n",
    "acc = history_wav.history['accuracy']\n",
    "val_acc = history_wav.history['val_accuracy']\n",
    "\n",
    "loss=history_wav.history['loss']\n",
    "val_loss=history_wav.history['val_loss']\n",
    "\n",
    "epochs_range = range(len(acc))\n",
    "\n",
    "plt.figure(figsize=(8, 8))\n",
    "plt.subplot(1, 2, 1)\n",
    "plt.plot(epochs_range, acc, label='Training Accuracy')\n",
    "plt.plot(epochs_range, val_acc, label='Validation Accuracy')\n",
    "plt.legend(loc='lower right')\n",
    "plt.title('Training and Validation Accuracy')\n",
    "\n",
    "plt.subplot(1, 2, 2)\n",
    "plt.plot(epochs_range, loss, label='Training Loss')\n",
    "plt.plot(epochs_range, val_loss, label='Validation Loss')\n",
    "plt.legend(loc='upper right')\n",
    "plt.title('Training and Validation Loss')\n",
    "plt.show()\n",
    "print(\"✅\")"
   ]
  },
  {
   "source": [
    "<br>\n",
    "\n",
    "### 모델 평가 Evaluation\n",
    "\n",
    "<br>"
   ],
   "cell_type": "markdown",
   "metadata": {}
  },
  {
   "cell_type": "code",
   "execution_count": 16,
   "metadata": {},
   "outputs": [
    {
     "output_type": "stream",
     "name": "stdout",
     "text": [
      "159/159 [==============================] - 12s 73ms/step - loss: 0.2863 - accuracy: 0.9151\n",
      "loss value: 0.286\n",
      "accuracy value: 91.5053%\n"
     ]
    }
   ],
   "source": [
    "\"\"\"\n",
    "Test dataset을 이용해서 모델의 성능을 평가합니다.\n",
    "\"\"\"\n",
    "\n",
    "# 실습삼아 checkpoint callback 함수가 저장한 weight를 다시 불러와서 테스트\n",
    "model_wav.load_weights(checkpoint_dir)\n",
    "\n",
    "# Test data을 이용하여 모델의 예측값과 실제값이 얼마나 일치하는지 확인\n",
    "results = model_wav.evaluate(test_dataset)\n",
    "\n",
    "# loss\n",
    "print(\"loss value: {:.3f}\".format(results[0]))\n",
    "# accuracy\n",
    "print(\"accuracy value: {:.4f}%\".format(results[1]*100))"
   ]
  },
  {
   "source": [
    "<br>\n",
    "\n",
    "### 모델 테스트 Test\n",
    "\n",
    "<br>"
   ],
   "cell_type": "markdown",
   "metadata": {}
  },
  {
   "cell_type": "code",
   "execution_count": 17,
   "metadata": {},
   "outputs": [
    {
     "output_type": "stream",
     "name": "stdout",
     "text": [
      "label :  down\n"
     ]
    },
    {
     "output_type": "execute_result",
     "data": {
      "text/plain": [
       "<IPython.lib.display.Audio object>"
      ],
      "text/html": "\n                <audio  controls=\"controls\" >\n                    <source src=\"data:audio/wav;base64,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\" type=\"audio/wav\" />\n                    Your browser does not support the audio element.\n                </audio>\n              "
     },
     "metadata": {},
     "execution_count": 17
    }
   ],
   "source": [
    "\"\"\"\n",
    "Test data 셋을 골라 직접 들어보고 모델의 예측이 맞는지 확인\n",
    "\"\"\"\n",
    "\n",
    "inv_label_value = {v: k for k, v in label_value.items()}\n",
    "batch_index = np.random.choice(len(test_wav), size=1, replace=False)\n",
    "\n",
    "batch_xs = test_wav[batch_index]\n",
    "batch_ys = test_label[batch_index]\n",
    "y_pred_ = model_wav(batch_xs, training=False)\n",
    "\n",
    "print(\"label : \", str(inv_label_value[batch_ys[0]]))\n",
    "\n",
    "ipd.Audio(batch_xs.reshape(8000,), rate=8000)"
   ]
  },
  {
   "cell_type": "code",
   "execution_count": 18,
   "metadata": {},
   "outputs": [
    {
     "output_type": "stream",
     "name": "stdout",
     "text": [
      "y_pred: down(Correct!)\n✅\n"
     ]
    }
   ],
   "source": [
    "\"\"\"\n",
    "위에서 확인해본 테스트셋의 라벨과 우리 모델의 실제 prediction 결과를 비교\n",
    "\"\"\"\n",
    "\n",
    "if np.argmax(y_pred_) == batch_ys[0]:\n",
    "    print(\"y_pred: \" + str(inv_label_value[np.argmax(y_pred_)]) + '(Correct!)')\n",
    "else:\n",
    "    print(\"y_pred: \" + str(inv_label_value[np.argmax(y_pred_)]) + '(Incorrect!)')\n",
    "print(\"✅\")"
   ]
  }
 ]
}